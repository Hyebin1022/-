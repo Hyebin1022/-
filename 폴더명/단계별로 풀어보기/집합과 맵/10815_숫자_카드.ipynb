{
  "nbformat": 4,
  "nbformat_minor": 0,
  "metadata": {
    "colab": {
      "provenance": []
    },
    "kernelspec": {
      "name": "python3",
      "display_name": "Python 3"
    },
    "language_info": {
      "name": "python"
    }
  },
  "cells": [
    {
      "cell_type": "markdown",
      "source": [
        "# 10815. 숫자 카드"
      ],
      "metadata": {
        "id": "sJWvFwM7rSXv"
      }
    },
    {
      "cell_type": "markdown",
      "source": [
        "https://www.acmicpc.net/problem/10815"
      ],
      "metadata": {
        "id": "gIVxfbX8rvtJ"
      }
    },
    {
      "cell_type": "markdown",
      "source": [
        "### 문제  \n",
        "숫자 카드는 정수 하나가 적혀져 있는 카드이다. 상근이는 숫자 카드 N개를 가지고 있다. 정수 M개가 주어졌을 때, 이 수가 적혀있는 숫자 카드를 상근이가 가지고 있는지 아닌지를 구하는 프로그램을 작성하시오."
      ],
      "metadata": {
        "id": "uPfblfYvMfpW"
      }
    },
    {
      "cell_type": "markdown",
      "source": [
        "### 입력\n",
        "첫째 줄에 상근이가 가지고 있는 숫자 카드의 개수 N(1 ≤ N ≤ 500,000)이 주어진다. 둘째 줄에는 숫자 카드에 적혀있는 정수가 주어진다. 숫자 카드에 적혀있는 수는 -10,000,000보다 크거나 같고, 10,000,000보다 작거나 같다. 두 숫자 카드에 같은 수가 적혀있는 경우는 없다.\n",
        "\n",
        "셋째 줄에는 M(1 ≤ M ≤ 500,000)이 주어진다. 넷째 줄에는 상근이가 가지고 있는 숫자 카드인지 아닌지를 구해야 할 M개의 정수가 주어지며, 이 수는 공백으로 구분되어져 있다. 이 수도 -10,000,000보다 크거나 같고, 10,000,000보다 작거나 같다"
      ],
      "metadata": {
        "id": "qMfElmBhcAnU"
      }
    },
    {
      "cell_type": "markdown",
      "source": [
        "-----------------------------------------------------------------"
      ],
      "metadata": {
        "id": "8xTL5wfsFz0H"
      }
    },
    {
      "cell_type": "markdown",
      "source": [
        "# 풀이"
      ],
      "metadata": {
        "id": "8H5AdKJGj3XI"
      }
    },
    {
      "cell_type": "markdown",
      "source": [
        "1. 입력받기\n",
        "2. 첫번째 리스트 정렬\n",
        "3. 이전꺼 탐색하기\n"
      ],
      "metadata": {
        "id": "VB_kqBvtHxLf"
      }
    },
    {
      "cell_type": "code",
      "source": [
        "def binary_search(arr, target):\n",
        "    # arr 리스트에서 target 값을 찾는 이진 탐색 함수\n",
        "    left, right = 0, len(arr) - 1\n",
        "    while left <= right:\n",
        "        mid = (left + right) // 2\n",
        "        if arr[mid] == target:\n",
        "            return True  # target 값을 찾으면 True 반환\n",
        "        elif arr[mid] < target:\n",
        "            left = mid + 1  # target이 mid 값보다 크면 왼쪽 범위를 줄임\n",
        "        else:\n",
        "            right = mid - 1  # target이 mid 값보다 작으면 오른쪽 범위를 줄임\n",
        "    return False  # target 값을 찾지 못하면 False 반환\n",
        "\n",
        "# 입력 받기\n",
        "n = int(input())  # 첫 번째 리스트의 크기\n",
        "a = list(map(int, input().split()))  # 첫 번째 리스트의 요소들\n",
        "m = int(input())  # 두 번째 리스트의 크기\n",
        "b = list(map(int, input().split()))  # 두 번째 리스트의 요소들\n",
        "\n",
        "# 첫 번째 리스트 정렬\n",
        "a.sort()  # 이진 탐색을 위해 첫 번째 리스트를 정렬\n",
        "\n",
        "# 두 번째 리스트의 각 요소에 대해 이진 탐색 수행\n",
        "result = []\n",
        "for number in b:\n",
        "    if binary_search(a, number):\n",
        "        result.append(1)  # 첫 번째 리스트에 존재하면 1 추가\n",
        "    else:\n",
        "        result.append(0)  # 첫 번째 리스트에 존재하지 않으면 0 추가\n",
        "\n",
        "# 결과 출력\n",
        "print(' '.join(map(str, result)))  # 결과 리스트를 공백으로 구분하여 출력\n"
      ],
      "metadata": {
        "id": "LrH6ad68zMO4",
        "colab": {
          "base_uri": "https://localhost:8080/"
        },
        "outputId": "b12648dc-5204-4e00-a386-cea2ef90f34e"
      },
      "execution_count": 1,
      "outputs": [
        {
          "output_type": "stream",
          "name": "stdout",
          "text": [
            "5\n",
            "6 3 2 10 -10\n",
            "8\n",
            "10 9 -5 2 3 4 5 -10\n",
            "1 0 0 1 1 0 0 1\n"
          ]
        }
      ]
    }
  ]
}