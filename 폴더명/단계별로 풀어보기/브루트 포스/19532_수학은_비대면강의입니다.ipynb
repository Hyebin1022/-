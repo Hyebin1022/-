{
  "nbformat": 4,
  "nbformat_minor": 0,
  "metadata": {
    "colab": {
      "provenance": []
    },
    "kernelspec": {
      "name": "python3",
      "display_name": "Python 3"
    },
    "language_info": {
      "name": "python"
    }
  },
  "cells": [
    {
      "cell_type": "markdown",
      "source": [
        "# 19532. 수학은 비대면강의입니다"
      ],
      "metadata": {
        "id": "sJWvFwM7rSXv"
      }
    },
    {
      "cell_type": "markdown",
      "source": [
        "https://www.acmicpc.net/problem/19532"
      ],
      "metadata": {
        "id": "gIVxfbX8rvtJ"
      }
    },
    {
      "cell_type": "markdown",
      "source": [
        "### 문제  \n",
        "수현이는 4차 산업혁명 시대에 살고 있는 중학생이다. 코로나 19로 인해, 수현이는 버추얼 학교로 버추얼 출석해 버추얼 강의를 듣고 있다. 수현이의 버추얼 선생님은 문자가 2개인 연립방정식을 해결하는 방법에 대해 강의하고, 다음과 같은 문제를 숙제로 냈다.  \n",
        "\n",
        "> 다음 연립방정식에서 $x$와 $y$의 값을 계산하시오\n",
        ">> $ax + by = c$  \n",
        "   $dx + ey = f $\n",
        "\n",
        "\n",
        "4차 산업혁명 시대에 숙제나 하고 앉아있는 것보다 버추얼 친구들을 만나러 가는 게 더 가치있는 일이라고 생각했던 수현이는 이런 연립방정식을 풀 시간이 없었다. 다행히도, 버추얼 강의의 숙제 제출은 인터넷 창의 빈 칸에 수들을 입력하는 식이다. 각 칸에는\n",
        "$-999$ 이상\n",
        "$999$ 이하의 정수만 입력할 수 있다. 수현이가 버추얼 친구들을 만나러 버추얼 세계로 떠날 수 있게 도와주자.   "
      ],
      "metadata": {
        "id": "uPfblfYvMfpW"
      }
    },
    {
      "cell_type": "markdown",
      "source": [
        "### 입력\n",
        "정수\n",
        "$a$,\n",
        "$b$,\n",
        "$c$,\n",
        "$d$,\n",
        "$e$,\n",
        "$f$가 공백으로 구분되어 차례대로 주어진다. ($-999 \\leq a,b,c,d,e,f \\leq 999$)\n",
        "\n",
        "문제에서 언급한 방정식을 만족하는\n",
        "$\\left(x,y\\right)$가 유일하게 존재하고, 이 때\n",
        "$x$와\n",
        "$y$가 각각\n",
        "$-999$ 이상\n",
        "$999$ 이하의 정수인 경우만 입력으로 주어짐이 보장된다."
      ],
      "metadata": {
        "id": "qMfElmBhcAnU"
      }
    },
    {
      "cell_type": "markdown",
      "source": [
        "### 출력  \n",
        "문제의 답인\n",
        "$x$와\n",
        "$y$를 공백으로 구분해 출력한다"
      ],
      "metadata": {
        "id": "edYxK89_cFs5"
      }
    },
    {
      "cell_type": "markdown",
      "source": [
        "-------------------------------------------------"
      ],
      "metadata": {
        "id": "juqIAnJSjq_x"
      }
    },
    {
      "cell_type": "markdown",
      "source": [
        "# 풀이"
      ],
      "metadata": {
        "id": "8H5AdKJGj3XI"
      }
    },
    {
      "cell_type": "markdown",
      "source": [
        "#### 처음 생각한 풀이\n",
        "1. 2번째 항에 -a/d를 전부 곱한다.\n",
        "2. 두 식을 더한다. 그러면 x항이 소거된다.\n",
        "3. y값을 구하고, x값을 구한다.\n",
        "\n",
        "#### 두번째 생각한 풀이\n",
        "1. x와 y를 a,b,c,d,e,f에 대한 식으로 바꾼다.\n",
        "2. 계산!"
      ],
      "metadata": {
        "id": "DKXJ4yzlEhZ5"
      }
    },
    {
      "cell_type": "markdown",
      "source": [
        "#### 풀이 최종\n",
        "\n",
        "한 방정식에서 한 변수를 다른 변수로 표현합니다. 예를 들어, 첫 번째 방정식에서\n",
        "x를 y에 대해 표현하면\n",
        "$x = (c-by)/a$\n",
        "\n",
        "이 표현을 두 번째 방정식에 대입하여\n",
        "$\n",
        "y$에 대한 식을 만듭니다.\n",
        "\n",
        "$\n",
        "y$의 값을 구한 후, 이 값을 다시 첫 번째 식에 대입해\n",
        "$\n",
        "x$의 값을 구합니다."
      ],
      "metadata": {
        "id": "AvaNjpzmkCJ7"
      }
    },
    {
      "cell_type": "code",
      "source": [
        "# a, b, c, d, e, f에 해당하는 6개의 정수를 사용자로부터 입력받습니다.\n",
        "a, b, c, d, e, f = map(int, input().split())\n",
        "\n",
        "# i를 -999부터 999까지 반복합니다 (x의 가능한 모든 값).\n",
        "for i in range(-999, 1000):\n",
        "    # j를 -999부터 999까지 반복합니다 (y의 가능한 모든 값).\n",
        "    for j in range(-999, 1000):\n",
        "        # 첫 번째 방정식 ax + by = c를 확인합니다.\n",
        "        # i는 x의 후보, j는 y의 후보입니다.\n",
        "        if (a*i) + (b*j) == c and (d*i) + (e*j) == f:\n",
        "            # 두 번째 방정식 dx + ey = f도 동시에 만족할 경우,\n",
        "            # i와 j를 출력합니다 (해를 찾은 경우).\n",
        "            print(i, j)\n"
      ],
      "metadata": {
        "colab": {
          "base_uri": "https://localhost:8080/"
        },
        "id": "QjBssb3dwkL5",
        "outputId": "ac9687da-4b50-4cf1-a7dd-fc9091ad0bb1"
      },
      "execution_count": 5,
      "outputs": [
        {
          "output_type": "stream",
          "name": "stdout",
          "text": [
            "2 5 8 3 -4 -11\n",
            "-1 2\n"
          ]
        }
      ]
    }
  ]
}