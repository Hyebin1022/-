{
  "nbformat": 4,
  "nbformat_minor": 0,
  "metadata": {
    "colab": {
      "provenance": []
    },
    "kernelspec": {
      "name": "python3",
      "display_name": "Python 3"
    },
    "language_info": {
      "name": "python"
    }
  },
  "cells": [
    {
      "cell_type": "markdown",
      "source": [
        "# 2798. 블랙잭"
      ],
      "metadata": {
        "id": "sJWvFwM7rSXv"
      }
    },
    {
      "cell_type": "markdown",
      "source": [
        "https://www.acmicpc.net/problem/2798"
      ],
      "metadata": {
        "id": "gIVxfbX8rvtJ"
      }
    },
    {
      "cell_type": "markdown",
      "source": [
        "### 문제  \n",
        "카지노에서 제일 인기 있는 게임 블랙잭의 규칙은 상당히 쉽다. 카드의 합이 21을 넘지 않는 한도 내에서, 카드의 합을 최대한 크게 만드는 게임이다. 블랙잭은 카지노마다 다양한 규정이 있다.  \n",
        "\n",
        "한국 최고의 블랙잭 고수 김정인은 새로운 블랙잭 규칙을 만들어 상근, 창영이와 게임하려고 한다.  \n",
        "\n",
        "김정인 버전의 블랙잭에서 각 카드에는 양의 정수가 쓰여 있다. 그 다음, 딜러는 N장의 카드를 모두 숫자가 보이도록 바닥에 놓는다. 그런 후에 딜러는 숫자 M을 크게 외친다.  \n",
        "\n",
        "이제 플레이어는 제한된 시간 안에 N장의 카드 중에서 3장의 카드를 골라야 한다. 블랙잭 변형 게임이기 때문에, 플레이어가 고른 카드의 합은 M을 넘지 않으면서 M과 최대한 가깝게 만들어야 한다.  \n",
        "\n",
        "N장의 카드에 써져 있는 숫자가 주어졌을 때, M을 넘지 않으면서 M에 최대한 가까운 카드 3장의 합을 구해 출력하시오.  "
      ],
      "metadata": {
        "id": "uPfblfYvMfpW"
      }
    },
    {
      "cell_type": "markdown",
      "source": [
        "### 입력\n",
        "첫째 줄에 카드의 개수 N(3 ≤ N ≤ 100)과 M(10 ≤ M ≤ 300,000)이 주어진다. 둘째 줄에는 카드에 쓰여 있는 수가 주어지며, 이 값은 100,000을 넘지 않는 양의 정수이다.\n",
        "\n",
        "합이 M을 넘지 않는 카드 3장을 찾을 수 있는 경우만 입력으로 주어진다."
      ],
      "metadata": {
        "id": "qMfElmBhcAnU"
      }
    },
    {
      "cell_type": "markdown",
      "source": [
        "### 출력  \n",
        "첫째 줄에 M을 넘지 않으면서 M에 최대한 가까운 카드 3장의 합을 출력한다."
      ],
      "metadata": {
        "id": "edYxK89_cFs5"
      }
    },
    {
      "cell_type": "markdown",
      "source": [
        "-------------------------------------------------"
      ],
      "metadata": {
        "id": "juqIAnJSjq_x"
      }
    },
    {
      "cell_type": "markdown",
      "source": [
        "# 풀이"
      ],
      "metadata": {
        "id": "8H5AdKJGj3XI"
      }
    },
    {
      "cell_type": "code",
      "source": [
        "# itertools 모듈의 combinations 함수를 import합니다.\n",
        "from itertools import combinations\n",
        "\n",
        "# 사용자로부터 입력을 받습니다. N은 카드의 수, M은 목표 합입니다.\n",
        "N, M = map(int, input().split())\n",
        "\n",
        "# 두 번째 줄에서 N개의 카드에 쓰여있는 수를 입력받아 리스트로 저장합니다.\n",
        "cards = list(map(int, input().split()))\n",
        "\n",
        "# 최대 합을 저장할 변수를 0으로 초기화합니다. 이 변수는 M을 넘지 않는 최대 합을 저장합니다.\n",
        "max_sum = 0\n",
        "\n",
        "# cards 리스트에서 3개의 원소를 선택하는 모든 조합을 for 루프로 반복 처리합니다.\n",
        "for combo in combinations(cards, 3):\n",
        "    # 선택된 3개 카드의 합을 계산합니다.\n",
        "    card_sum = sum(combo)\n",
        "\n",
        "    # 계산된 합이 M 이하인 경우에만 다음을 수행합니다.\n",
        "    if card_sum <= M:\n",
        "        # 현재 계산된 합(card_sum)과 이전에 계산된 최대 합(max_sum) 중 더 큰 값을 max_sum으로 업데이트합니다.\n",
        "        max_sum = max(max_sum, card_sum)\n",
        "\n",
        "# 모든 조합을 검토한 후에, M을 넘지 않는 최대 합(max_sum)을 출력합니다.\n",
        "print(max_sum)\n"
      ],
      "metadata": {
        "colab": {
          "base_uri": "https://localhost:8080/"
        },
        "id": "QjBssb3dwkL5",
        "outputId": "a116ac84-d1ad-44f6-8e63-8804d9cf6ede"
      },
      "execution_count": 1,
      "outputs": [
        {
          "output_type": "stream",
          "name": "stdout",
          "text": [
            "5 21\n",
            "5 6 7 8 9\n",
            "21\n"
          ]
        }
      ]
    }
  ]
}