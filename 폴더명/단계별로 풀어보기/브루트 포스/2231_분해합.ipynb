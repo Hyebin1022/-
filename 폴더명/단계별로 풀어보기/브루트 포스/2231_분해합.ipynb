{
  "nbformat": 4,
  "nbformat_minor": 0,
  "metadata": {
    "colab": {
      "provenance": []
    },
    "kernelspec": {
      "name": "python3",
      "display_name": "Python 3"
    },
    "language_info": {
      "name": "python"
    }
  },
  "cells": [
    {
      "cell_type": "markdown",
      "source": [
        "# 2231. 분해합"
      ],
      "metadata": {
        "id": "sJWvFwM7rSXv"
      }
    },
    {
      "cell_type": "markdown",
      "source": [
        "https://www.acmicpc.net/problem/2231"
      ],
      "metadata": {
        "id": "gIVxfbX8rvtJ"
      }
    },
    {
      "cell_type": "markdown",
      "source": [
        "### 문제  \n",
        "어떤 자연수 N이 있을 때, 그 자연수 N의 분해합은 N과 N을 이루는 각 자리수의 합을 의미한다. 어떤 자연수 M의 분해합이 N인 경우, M을 N의 생성자라 한다. 예를 들어, 245의 분해합은 256(=245+2+4+5)이 된다. 따라서 245는 256의 생성자가 된다. 물론, 어떤 자연수의 경우에는 생성자가 없을 수도 있다. 반대로, 생성자가 여러 개인 자연수도 있을 수 있다.\n",
        "\n",
        "자연수 N이 주어졌을 때, N의 가장 작은 생성자를 구해내는 프로그램을 작성하시오."
      ],
      "metadata": {
        "id": "uPfblfYvMfpW"
      }
    },
    {
      "cell_type": "markdown",
      "source": [
        "### 입력\n",
        "첫째 줄에 자연수 N(1 ≤ N ≤ 1,000,000)이 주어진다."
      ],
      "metadata": {
        "id": "qMfElmBhcAnU"
      }
    },
    {
      "cell_type": "markdown",
      "source": [
        "### 출력  \n",
        "첫째 줄에 답을 출력한다. 생성자가 없는 경우에는 0을 출력한다."
      ],
      "metadata": {
        "id": "edYxK89_cFs5"
      }
    },
    {
      "cell_type": "markdown",
      "source": [
        "-------------------------------------------------"
      ],
      "metadata": {
        "id": "juqIAnJSjq_x"
      }
    },
    {
      "cell_type": "markdown",
      "source": [
        "# 풀이"
      ],
      "metadata": {
        "id": "8H5AdKJGj3XI"
      }
    },
    {
      "cell_type": "markdown",
      "source": [
        " while True + range(무한대) 돌려서 생성자값 있으면 바로 출력시키자."
      ],
      "metadata": {
        "id": "DKXJ4yzlEhZ5"
      }
    },
    {
      "cell_type": "code",
      "source": [
        "# 사용자로부터 자연수 N을 입력받습니다.\n",
        "N = int(input())\n",
        "\n",
        "def find_constructor(N):\n",
        "    # 생성자를 찾기 위한 범위를 설정합니다.\n",
        "    # N에서 9*자릿수만큼 뺀 값부터 N까지를 범위로 설정합니다.\n",
        "    # 예를 들어 N=500일 경우, 최대 감소폭은 9*3=27이므로, 시작 범위는 500-27=473입니다.\n",
        "    start = max(1, N - len(str(N)) * 9)  # len(str(N)) * 9는 최대 감소폭을 의미합니다.\n",
        "\n",
        "    # 시작 범위부터 N까지 반복하며 생성자를 찾습니다.\n",
        "    for i in range(start, N):\n",
        "        # i의 분해합을 구합니다. 분해합은 i와 i의 각 자릿수의 합입니다.\n",
        "        # 예를 들어 i가 198일 경우, 분해합은 198 + 1 + 9 + 8 = 216입니다.\n",
        "        total = i + sum(map(int, str(i)))  # i의 각 자릿수를 문자열로 변환 후 정수로 매핑하고 합산합니다.\n",
        "\n",
        "        # 만약 계산한 분해합이 입력받은 N과 동일하다면,\n",
        "        if total == N:\n",
        "            # i를 반환합니다. i는 N의 생성자 중 하나입니다.\n",
        "            return i\n",
        "\n",
        "    # 위 반복문에서 생성자를 찾지 못한 경우, 0을 반환합니다.\n",
        "    return 0\n",
        "\n",
        "# 함수를 호출하여 결과를 출력합니다.\n",
        "print(find_constructor(N))"
      ],
      "metadata": {
        "colab": {
          "base_uri": "https://localhost:8080/"
        },
        "id": "QjBssb3dwkL5",
        "outputId": "911b4711-7567-421e-d073-1a9469f95005"
      },
      "execution_count": 1,
      "outputs": [
        {
          "output_type": "stream",
          "name": "stdout",
          "text": [
            "216\n",
            "198\n"
          ]
        }
      ]
    }
  ]
}