{
  "nbformat": 4,
  "nbformat_minor": 0,
  "metadata": {
    "colab": {
      "provenance": []
    },
    "kernelspec": {
      "name": "python3",
      "display_name": "Python 3"
    },
    "language_info": {
      "name": "python"
    }
  },
  "cells": [
    {
      "cell_type": "markdown",
      "source": [
        "# 1436. 영화감독 숌"
      ],
      "metadata": {
        "id": "sJWvFwM7rSXv"
      }
    },
    {
      "cell_type": "markdown",
      "source": [
        "https://www.acmicpc.net/problem/1436"
      ],
      "metadata": {
        "id": "gIVxfbX8rvtJ"
      }
    },
    {
      "cell_type": "markdown",
      "source": [
        "### 문제  \n",
        "666은 종말을 나타내는 수라고 한다. 따라서, 많은 블록버스터 영화에서는 666이 들어간 제목을 많이 사용한다. 영화감독 숌은 세상의 종말 이라는 시리즈 영화의 감독이다. 조지 루카스는 스타워즈를 만들 때, 스타워즈 1, 스타워즈 2, 스타워즈 3, 스타워즈 4, 스타워즈 5, 스타워즈 6과 같이 이름을 지었고, 피터 잭슨은 반지의 제왕을 만들 때, 반지의 제왕 1, 반지의 제왕 2, 반지의 제왕 3과 같이 영화 제목을 지었다. 하지만 숌은 자신이 조지 루카스와 피터 잭슨을 뛰어넘는다는 것을 보여주기 위해서 영화 제목을 좀 다르게 만들기로 했다.\n",
        "\n",
        "종말의 수란 어떤 수에 6이 적어도 3개 이상 연속으로 들어가는 수를 말한다. 제일 작은 종말의 수는 666이고, 그 다음으로 큰 수는 1666, 2666, 3666, .... 이다. 따라서, 숌은 첫 번째 영화의 제목은 \"세상의 종말 666\", 두 번째 영화의 제목은 \"세상의 종말 1666\"와 같이 이름을 지을 것이다. 일반화해서 생각하면, N번째 영화의 제목은 세상의 종말 (N번째로 작은 종말의 수) 와 같다.\n",
        "\n",
        "숌이 만든 N번째 영화의 제목에 들어간 수를 출력하는 프로그램을 작성하시오. 숌은 이 시리즈를 항상 차례대로 만들고, 다른 영화는 만들지 않는다."
      ],
      "metadata": {
        "id": "uPfblfYvMfpW"
      }
    },
    {
      "cell_type": "markdown",
      "source": [
        "### 입력\n",
        "첫째 줄에 N이 주어진다. N은 10,000보다 작거나 같은 자연수이다."
      ],
      "metadata": {
        "id": "qMfElmBhcAnU"
      }
    },
    {
      "cell_type": "markdown",
      "source": [
        "### 출력  \n",
        "첫째 줄에 N번째 영화의 제목에 들어간 수를 출력한다."
      ],
      "metadata": {
        "id": "edYxK89_cFs5"
      }
    },
    {
      "cell_type": "markdown",
      "source": [
        "-------------------------------------------------"
      ],
      "metadata": {
        "id": "juqIAnJSjq_x"
      }
    },
    {
      "cell_type": "markdown",
      "source": [
        "# 풀이"
      ],
      "metadata": {
        "id": "8H5AdKJGj3XI"
      }
    },
    {
      "cell_type": "markdown",
      "source": [
        "1. 수열 속에서 '666'이 들어간 n번째 숫자를 찾아야 한다.\n",
        "2. '666'이 들어간 모든 숫자를 차례대로 검토.\n",
        "3. n번째에 해당하는 숫자를 출력"
      ],
      "metadata": {
        "id": "u5Rm7wB100uG"
      }
    },
    {
      "cell_type": "code",
      "source": [
        "n = int(input())\n",
        "\n",
        "# '666'을 포함하는 숫자를 찾기 위한 카운터 변수입니다.\n",
        "count = 0\n",
        "\n",
        "# 숫자 검색을 시작할 초기 값입니다.\n",
        "num = 666\n",
        "\n",
        "# 무한 루프를 시작합니다. 조건에 맞는 숫자를 찾을 때까지 계속 실행됩니다.\n",
        "while True:\n",
        "    # 현재 숫자(num)을 문자열로 변환하고 '666'이 포함되어 있는지 확인합니다.\n",
        "    if '666' in str(num):\n",
        "        # '666'이 포함되어 있다면 카운터를 1 증가시킵니다.\n",
        "        count += 1\n",
        "        # 카운터가 사용자가 원하는 n과 같다면, 현재 숫자(num)가 '666'을 포함하는 n번째 숫자임을 의미합니다.\n",
        "        if count == n:\n",
        "            # num을 출력하고 루프를 종료합니다.\n",
        "            print(num)\n",
        "            break\n",
        "    # 다음 숫자를 검사하기 위해 num을 1 증가시킵니다.\n",
        "    num += 1\n"
      ],
      "metadata": {
        "colab": {
          "base_uri": "https://localhost:8080/"
        },
        "id": "QjBssb3dwkL5",
        "outputId": "8ec46bfd-d3f6-4065-989b-5d182b122d2e"
      },
      "execution_count": 5,
      "outputs": [
        {
          "output_type": "stream",
          "name": "stdout",
          "text": [
            "3\n",
            "2666\n"
          ]
        }
      ]
    }
  ]
}