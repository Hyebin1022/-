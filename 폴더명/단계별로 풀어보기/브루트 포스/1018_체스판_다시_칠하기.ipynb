{
  "nbformat": 4,
  "nbformat_minor": 0,
  "metadata": {
    "colab": {
      "provenance": []
    },
    "kernelspec": {
      "name": "python3",
      "display_name": "Python 3"
    },
    "language_info": {
      "name": "python"
    }
  },
  "cells": [
    {
      "cell_type": "markdown",
      "source": [
        "# 1018. 체스판 다시 칠하기"
      ],
      "metadata": {
        "id": "sJWvFwM7rSXv"
      }
    },
    {
      "cell_type": "markdown",
      "source": [
        "https://www.acmicpc.net/problem/1018"
      ],
      "metadata": {
        "id": "gIVxfbX8rvtJ"
      }
    },
    {
      "cell_type": "markdown",
      "source": [
        "### 문제  \n",
        "지민이는 자신의 저택에서 MN개의 단위 정사각형으로 나누어져 있는 M×N 크기의 보드를 찾았다. 어떤 정사각형은 검은색으로 칠해져 있고, 나머지는 흰색으로 칠해져 있다. 지민이는 이 보드를 잘라서 8×8 크기의 체스판으로 만들려고 한다.  \n",
        "\n",
        "체스판은 검은색과 흰색이 번갈아서 칠해져 있어야 한다. 구체적으로, 각 칸이 검은색과 흰색 중 하나로 색칠되어 있고, 변을 공유하는 두 개의 사각형은 다른 색으로 칠해져 있어야 한다. 따라서 이 정의를 따르면 체스판을 색칠하는 경우는 두 가지뿐이다. 하나는 맨 왼쪽 위 칸이 흰색인 경우, 하나는 검은색인 경우이다.  \n",
        "\n",
        "보드가 체스판처럼 칠해져 있다는 보장이 없어서, 지민이는 8×8 크기의 체스판으로 잘라낸 후에 몇 개의 정사각형을 다시 칠해야겠다고 생각했다. 당연히 8*8 크기는 아무데서나 골라도 된다. 지민이가 다시 칠해야 하는 정사각형의 최소 개수를 구하는 프로그램을 작성하시오.     "
      ],
      "metadata": {
        "id": "uPfblfYvMfpW"
      }
    },
    {
      "cell_type": "markdown",
      "source": [
        "### 입력\n",
        "첫째 줄에 N과 M이 주어진다. N과 M은 8보다 크거나 같고, 50보다 작거나 같은 자연수이다. 둘째 줄부터 N개의 줄에는 보드의 각 행의 상태가 주어진다. B는 검은색이며, W는 흰색이다."
      ],
      "metadata": {
        "id": "qMfElmBhcAnU"
      }
    },
    {
      "cell_type": "markdown",
      "source": [
        "### 출력  \n",
        "첫째 줄에 지민이가 다시 칠해야 하는 정사각형 개수의 최솟값을 출력한다."
      ],
      "metadata": {
        "id": "edYxK89_cFs5"
      }
    },
    {
      "cell_type": "markdown",
      "source": [
        "-------------------------------------------------"
      ],
      "metadata": {
        "id": "juqIAnJSjq_x"
      }
    },
    {
      "cell_type": "markdown",
      "source": [
        "# 풀이"
      ],
      "metadata": {
        "id": "8H5AdKJGj3XI"
      }
    },
    {
      "cell_type": "markdown",
      "source": [
        "1. m과 n은 체스판의 행과 열의 크기를 입력받음\n",
        "2. m 행에 걸쳐 체스판의 각 행이 문자열 형태로 입력받아 board 리스트에 저장된다.\n",
        "3. color 딕셔너리는 인덱스 합의 홀짝성에 따라 색상을 지정 (짝수 인덱스 합은 \"B\", 홀수 인덱스 합은 \"W\").\n",
        "4. paint_list는 각 부분 체스판에 대해 계산된 최소 색칠 횟수를 저장할 리스트.\n",
        "5. 두 중첩 for 문은 모든 가능한 8x8 부분 보드의 시작점 (x_start, y_start)를 탐색한다.\n",
        "6. paint_b와 paint_w는 각각 검은색 시작과 흰색 시작 패턴으로 칠할 때 필요한 색칠 횟수를 카운트한다.\n",
        "7. 내부 두 중첩 for 문은 선택된 8x8 부분 보드의 모든 칸을 확인하면서\n",
        "color[(x + y) % 2]를 통해 현재 칸의 정상 색상을 결정하고, 실제 보드의 색상과 비교하여 잘못된 색상이면 paint_b를 증가시킨다.     \n",
        "8. else 문은 현재 칸이 흰색으로 시작했을 때의 정상 색상이 아닌 경우를 처리하여 paint_w를 증가킨다.     \n",
        "9. 각 부분 보드에 대해 paint_b와 paint_w 중 작은 값을 paint_list에 추가합니다.     \n",
        "10. paint_list에 저장된 모든 부분 보드의 최소 색칠 횟수 중에서 가장 작은 값을 출력합니다. 이 값이 주어진 체스판을 체스판 패턴으로 만드는데 필요한 최소 색칠 횟수이다.     "
      ],
      "metadata": {
        "id": "DKXJ4yzlEhZ5"
      }
    },
    {
      "cell_type": "code",
      "source": [
        "# 사용자로부터 보드의 행(m)과 열(n)의 크기를 입력받습니다.\n",
        "m, n = map(int, input().split())\n",
        "\n",
        "# 보드를 저장할 리스트를 초기화합니다.\n",
        "board = []\n",
        "\n",
        "# m 행에 걸쳐서 사용자로부터 보드의 각 행을 입력받아 리스트에 추가합니다.\n",
        "for _ in range(m):\n",
        "    board.append(input())\n",
        "\n",
        "# 'B'와 'W'의 위치를 결정할 딕셔너리를 초기화합니다. 짝수 인덱스에는 'B', 홀수 인덱스에는 'W'가 옵니다.\n",
        "color = {0: \"B\", 1: \"W\"}\n",
        "\n",
        "# 최소 색칠 변경 횟수를 저장할 리스트를 초기화합니다.\n",
        "paint_list = []\n",
        "\n",
        "# 가능한 모든 8x8 크기의 부분 보드의 시작점 (x_start, y_start)를 탐색합니다.\n",
        "for x_start in range(m - 7):\n",
        "    for y_start in range(n - 7):\n",
        "        # 검은색(B) 시작과 흰색(W) 시작일 때 필요한 색칠 변경 횟수를 저장할 변수를 초기화합니다.\n",
        "        paint_b, paint_w = 0, 0\n",
        "\n",
        "        # 부분 보드의 각 칸을 순회합니다.\n",
        "        for x in range(x_start, x_start + 8):\n",
        "            for y in range(y_start, y_start + 8):\n",
        "                # 현재 칸의 색상이 정상적인 색상이 아니면 색칠 변경 횟수를 증가시킵니다.\n",
        "                # color[(x + y) % 2]는 칸의 위치에 따라 'B' 또는 'W'가 되어야 하는 정상 색상을 결정합니다.\n",
        "                if board[x][y] != color[(x + y) % 2]:\n",
        "                    paint_b += 1  # 검은색 시작일 때 변경 횟수 증가\n",
        "                else:\n",
        "                    paint_w += 1  # 흰색 시작일 때 변경 횟수 증가\n",
        "\n",
        "        # 검은색 시작과 흰색 시작 중 더 적은 변경 횟수를 최소 변경 횟수 리스트에 추가합니다.\n",
        "        paint = min(paint_b, paint_w)\n",
        "        paint_list.append(paint)\n",
        "\n",
        "# 모든 부분 보드에 대해 계산된 최소 변경 횟수 중에서 가장 작은 값을 출력합니다.\n",
        "print(min(paint_list))\n"
      ],
      "metadata": {
        "colab": {
          "base_uri": "https://localhost:8080/"
        },
        "id": "QjBssb3dwkL5",
        "outputId": "1bf9cc52-ffa1-457c-927d-ecd4bd0490e0"
      },
      "execution_count": null,
      "outputs": [
        {
          "output_type": "stream",
          "name": "stdout",
          "text": [
            "8 8\n",
            "WBWBWBWB\n",
            "BWBWBWBW\n",
            "WBWBWBWB\n",
            "BWBBBWBW\n",
            "WBWBWBWB\n",
            "BWBWBWBW\n",
            "WBWBWBWB\n",
            "BWBWBWBW\n",
            "1\n"
          ]
        }
      ]
    }
  ]
}