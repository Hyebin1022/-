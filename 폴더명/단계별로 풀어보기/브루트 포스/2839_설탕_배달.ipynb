{
  "nbformat": 4,
  "nbformat_minor": 0,
  "metadata": {
    "colab": {
      "provenance": []
    },
    "kernelspec": {
      "name": "python3",
      "display_name": "Python 3"
    },
    "language_info": {
      "name": "python"
    }
  },
  "cells": [
    {
      "cell_type": "markdown",
      "source": [
        "# 2839. 설탕 배달"
      ],
      "metadata": {
        "id": "sJWvFwM7rSXv"
      }
    },
    {
      "cell_type": "markdown",
      "source": [
        "https://www.acmicpc.net/problem/2839"
      ],
      "metadata": {
        "id": "gIVxfbX8rvtJ"
      }
    },
    {
      "cell_type": "markdown",
      "source": [
        "### 문제  \n",
        "상근이는 요즘 설탕공장에서 설탕을 배달하고 있다. 상근이는 지금 사탕가게에 설탕을 정확하게 N킬로그램을 배달해야 한다. 설탕공장에서 만드는 설탕은 봉지에 담겨져 있다. 봉지는 3킬로그램 봉지와 5킬로그램 봉지가 있다.   \n",
        "\n",
        "상근이는 귀찮기 때문에, 최대한 적은 봉지를 들고 가려고 한다. 예를 들어, 18킬로그램 설탕을 배달해야 할 때, 3킬로그램 봉지 6개를 가져가도 되지만, 5킬로그램 3개와 3킬로그램 1개를 배달하면, 더 적은 개수의 봉지를 배달할 수 있다.   \n",
        "\n",
        "상근이가 설탕을 정확하게 N킬로그램 배달해야 할 때, 봉지 몇 개를 가져가면 되는지 그 수를 구하는 프로그램을 작성하시오.   "
      ],
      "metadata": {
        "id": "uPfblfYvMfpW"
      }
    },
    {
      "cell_type": "markdown",
      "source": [
        "### 입력\n",
        "첫째 줄에 N이 주어진다. (3 ≤ N ≤ 5000)"
      ],
      "metadata": {
        "id": "qMfElmBhcAnU"
      }
    },
    {
      "cell_type": "markdown",
      "source": [
        "상근이가 배달하는 봉지의 최소 개수를 출력한다. 만약, 정확하게 N킬로그램을 만들 수 없다면 -1을 출력한다."
      ],
      "metadata": {
        "id": "edYxK89_cFs5"
      }
    },
    {
      "cell_type": "markdown",
      "source": [
        "-------------------------------------------------"
      ],
      "metadata": {
        "id": "juqIAnJSjq_x"
      }
    },
    {
      "cell_type": "markdown",
      "source": [
        "# 풀이"
      ],
      "metadata": {
        "id": "8H5AdKJGj3XI"
      }
    },
    {
      "cell_type": "markdown",
      "source": [
        "1. 5kg 봉지 우선적으로 사용\n",
        "2. 남은 설탕봉지 있을때 3kg 사용"
      ],
      "metadata": {
        "id": "u5Rm7wB100uG"
      }
    },
    {
      "cell_type": "code",
      "source": [
        "def sugar_delivery(n):\n",
        "    # 5kg 봉지의 최대 사용 가능 개수를 계산합니다.\n",
        "    bags_5kg = n // 5\n",
        "\n",
        "    # 5kg 봉지를 사용한 후 남은 설탕 무게를 계산합니다.\n",
        "    remainder = n % 5\n",
        "\n",
        "    # 남은 무게가 3kg 봉지로 나누어 떨어질 때까지 5kg 봉지의 수를 조절합니다.\n",
        "    while bags_5kg >= 0:\n",
        "        if remainder % 3 == 0:\n",
        "            # 남은 무게가 3kg 봉지로 정확히 나누어 떨어지면\n",
        "            # 5kg 봉지 수와 3kg 봉지 수의 합을 반환합니다.\n",
        "            bags_3kg = remainder // 3\n",
        "            return bags_5kg + bags_3kg\n",
        "        # 5kg 봉지를 하나 줄이고, 남은 무게를 다시 계산합니다.\n",
        "        bags_5kg -= 1\n",
        "        remainder += 5\n",
        "\n",
        "    # 가능한 봉지 조합이 없으면 -1을 반환합니다.\n",
        "    return -1\n",
        "\n",
        "n = int(input())\n",
        "print(sugar_delivery(n))"
      ],
      "metadata": {
        "colab": {
          "base_uri": "https://localhost:8080/"
        },
        "id": "QjBssb3dwkL5",
        "outputId": "ed5829d5-83f0-400e-9043-fd03c24e2874"
      },
      "execution_count": 4,
      "outputs": [
        {
          "output_type": "stream",
          "name": "stdout",
          "text": [
            "11\n",
            "3\n"
          ]
        }
      ]
    }
  ]
}