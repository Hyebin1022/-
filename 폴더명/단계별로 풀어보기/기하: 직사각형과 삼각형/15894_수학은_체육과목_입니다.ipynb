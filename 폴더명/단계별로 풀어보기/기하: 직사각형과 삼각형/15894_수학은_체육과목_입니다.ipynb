{
  "nbformat": 4,
  "nbformat_minor": 0,
  "metadata": {
    "colab": {
      "provenance": []
    },
    "kernelspec": {
      "name": "python3",
      "display_name": "Python 3"
    },
    "language_info": {
      "name": "python"
    }
  },
  "cells": [
    {
      "cell_type": "markdown",
      "source": [
        "# 15894. 수학은 체육과목 입니다\n",
        "\n"
      ],
      "metadata": {
        "id": "sJWvFwM7rSXv"
      }
    },
    {
      "cell_type": "markdown",
      "source": [
        "https://www.acmicpc.net/problem/15894"
      ],
      "metadata": {
        "id": "gIVxfbX8rvtJ"
      }
    },
    {
      "cell_type": "markdown",
      "source": [
        "### 문제  \n",
        "성원이는 수학을 정말 못 하는 고등학생이다. 수학을 못하는 대신 근성과 팔 힘이 뛰어난 성원이는 수학 시험에서 수학 지식을 사용하지 않고 근성과 체력을 사용해 문제를 푼다. 지난 시험에서는 아래 사진에 나와있는 문제를 근성과 체력을 사용해 열심히 풀었지만 사진에서 볼 수 있듯이 틀려버리고 말았다!    \n",
        "\n",
        "결국 이 문제는 틀려버렸지만 성원이는 여전히 자신의 체력에 강한 자신감을 갖고 있다. 어떤 어려운 문제가 나와도 이런 식으로 근성과 체력을 사용하면 다 풀 수 있으니 이 방법은 최고의 방법이라고 생각하고 있다.    \n",
        "\n",
        "성원이의 친구 형석이는 근성과 체력으로 수학 문제를 푸는 것은 굉장히 무식한 방법이라고 생각한다. 형석이는 수학을 공부하면 문제를 훨씬 빨리 풀 수 있다는 것을 알려주기 위해 위 사진에 나와있는 문제를 갖고 성원이와 퀴즈 내기를 하기로 했다. 위 사진의 문제를 다시 정리하면 아래와 같다.    \n",
        "\n",
        ">\"한 변의 길이가 1인 정사각형을 아래 그림과 같이 겹치지 않게 빈틈없이 계속 붙여 나간다. 가장 아랫부분의 정사각형이 n개가 되었을 때, 실선으로 이루어진 도형의 둘레의 길이를 구하시오.\"  \n",
        "\n",
        "가장 아랫부분의 정사각형 개수가 주어지면 그에 해당하는 답을 출력하는 프로그램을 만들어 형석이를 도와주자!"
      ],
      "metadata": {
        "id": "uPfblfYvMfpW"
      }
    },
    {
      "cell_type": "markdown",
      "source": [
        "### 입력\n",
        "첫 번째 줄에 가장 아랫부분의 정사각형 개수 n이 주어진다. $(1 ≤ n ≤ 10^9)$"
      ],
      "metadata": {
        "id": "qMfElmBhcAnU"
      }
    },
    {
      "cell_type": "markdown",
      "source": [
        "### 출력  \n",
        "첫 번째 줄에 형석이가 말해야 하는 답을 출력한다."
      ],
      "metadata": {
        "id": "edYxK89_cFs5"
      }
    },
    {
      "cell_type": "markdown",
      "source": [
        "-------------------------------------------------"
      ],
      "metadata": {
        "id": "juqIAnJSjq_x"
      }
    },
    {
      "cell_type": "markdown",
      "source": [
        "# 풀이"
      ],
      "metadata": {
        "id": "8H5AdKJGj3XI"
      }
    },
    {
      "cell_type": "markdown",
      "source": [
        "* 1 > 4\n",
        "* 2 > 8\n",
        "* 3 > 12\n",
        "\n",
        "4 * n인거 같다!"
      ],
      "metadata": {
        "id": "t0b64tBmYVZ0"
      }
    },
    {
      "cell_type": "code",
      "source": [
        "n = int(input())\n",
        "\n",
        "print(4*n)"
      ],
      "metadata": {
        "colab": {
          "base_uri": "https://localhost:8080/"
        },
        "id": "Z-NJ_JJHWVH9",
        "outputId": "c2d8e479-c61e-49c1-b477-43191eec971f"
      },
      "execution_count": 1,
      "outputs": [
        {
          "output_type": "stream",
          "name": "stdout",
          "text": [
            "3\n",
            "12\n"
          ]
        }
      ]
    }
  ]
}