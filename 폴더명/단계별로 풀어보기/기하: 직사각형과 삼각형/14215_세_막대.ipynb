{
  "nbformat": 4,
  "nbformat_minor": 0,
  "metadata": {
    "colab": {
      "provenance": []
    },
    "kernelspec": {
      "name": "python3",
      "display_name": "Python 3"
    },
    "language_info": {
      "name": "python"
    }
  },
  "cells": [
    {
      "cell_type": "markdown",
      "source": [
        "# 14215. 세 막대"
      ],
      "metadata": {
        "id": "sJWvFwM7rSXv"
      }
    },
    {
      "cell_type": "markdown",
      "source": [
        "https://www.acmicpc.net/problem/14215"
      ],
      "metadata": {
        "id": "gIVxfbX8rvtJ"
      }
    },
    {
      "cell_type": "markdown",
      "source": [
        "### 문제  \n",
        "영선이는 길이가 a, b, c인 세 막대를 가지고 있고, 각 막대의 길이를 마음대로 줄일 수 있다.\n",
        "\n",
        "영선이는 세 막대를 이용해서 아래 조건을 만족하는 삼각형을 만들려고 한다.\n",
        "\n",
        "* 각 막대의 길이는 양의 정수이다\n",
        "* 세 막대를 이용해서 넓이가 양수인 삼각형을 만들 수 있어야 한다.\n",
        "* 삼각형의 둘레를 최대로 해야 한다.\n",
        "\n",
        "a, b, c가 주어졌을 때, 만들 수 있는 가장 큰 둘레를 구하는 프로그램을 작성하시오."
      ],
      "metadata": {
        "id": "uPfblfYvMfpW"
      }
    },
    {
      "cell_type": "markdown",
      "source": [
        "### 입력\n",
        "첫째 줄에 a, b, c (1 ≤ a, b, c ≤ 100)가 주어진다."
      ],
      "metadata": {
        "id": "qMfElmBhcAnU"
      }
    },
    {
      "cell_type": "markdown",
      "source": [
        "### 출력  \n",
        "첫째 줄에 만들 수 있는 가장 큰 삼각형의 둘레를 출력한다."
      ],
      "metadata": {
        "id": "edYxK89_cFs5"
      }
    },
    {
      "cell_type": "markdown",
      "source": [
        "-------------------------------------------------"
      ],
      "metadata": {
        "id": "juqIAnJSjq_x"
      }
    },
    {
      "cell_type": "markdown",
      "source": [
        "# 풀이"
      ],
      "metadata": {
        "id": "8H5AdKJGj3XI"
      }
    },
    {
      "cell_type": "markdown",
      "source": [
        "1. 세 막대의 길이를 받는다.\n",
        "2. sorted로 정렬한다.\n",
        "3. 가장 작은 두막대의 길이 합 -1 이 되도록 큰 막대 조정\n",
        "4. 세 개 막대 길이 더하기"
      ],
      "metadata": {
        "id": "t0b64tBmYVZ0"
      }
    },
    {
      "cell_type": "code",
      "source": [
        "a, b, c = map(int, input().split())\n",
        "\n",
        "lengths = sorted([a, b, c])\n",
        "\n",
        "if lengths[2] >= lengths[0] + lengths[1] - 1:\n",
        "    lengths[2] = lengths[0] + lengths[1] - 1\n",
        "\n",
        "print(sum(lengths))"
      ],
      "metadata": {
        "colab": {
          "base_uri": "https://localhost:8080/"
        },
        "id": "Z-NJ_JJHWVH9",
        "outputId": "c2fcb59e-95db-4837-a098-55a0e53e3165"
      },
      "execution_count": 7,
      "outputs": [
        {
          "name": "stdout",
          "output_type": "stream",
          "text": [
            "41 64 16\n"
          ]
        },
        {
          "output_type": "execute_result",
          "data": {
            "text/plain": [
              "113"
            ]
          },
          "metadata": {},
          "execution_count": 7
        }
      ]
    },
    {
      "cell_type": "markdown",
      "source": [
        "백준에선 거의 무조건 print를 해야하는거 같다.\n",
        "마지막에 sum(lengths)만 남겼다가 틀렸다."
      ],
      "metadata": {
        "id": "qtJoER4zRTo8"
      }
    }
  ]
}