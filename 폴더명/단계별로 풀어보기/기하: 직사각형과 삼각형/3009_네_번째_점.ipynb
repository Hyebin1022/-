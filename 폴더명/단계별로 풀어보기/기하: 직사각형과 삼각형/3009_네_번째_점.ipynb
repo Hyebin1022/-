{
  "nbformat": 4,
  "nbformat_minor": 0,
  "metadata": {
    "colab": {
      "provenance": []
    },
    "kernelspec": {
      "name": "python3",
      "display_name": "Python 3"
    },
    "language_info": {
      "name": "python"
    }
  },
  "cells": [
    {
      "cell_type": "markdown",
      "source": [
        "# 3009. 네 번째 점\n",
        "\n"
      ],
      "metadata": {
        "id": "sJWvFwM7rSXv"
      }
    },
    {
      "cell_type": "markdown",
      "source": [
        "https://www.acmicpc.net/problem/3009"
      ],
      "metadata": {
        "id": "gIVxfbX8rvtJ"
      }
    },
    {
      "cell_type": "markdown",
      "source": [
        "### 문제  \n",
        "세 점이 주어졌을 때, 축에 평행한 직사각형을 만들기 위해서 필요한 네 번째 점을 찾는 프로그램을 작성하시오.\n"
      ],
      "metadata": {
        "id": "uPfblfYvMfpW"
      }
    },
    {
      "cell_type": "markdown",
      "source": [
        "### 입력\n",
        "세 점의 좌표가 한 줄에 하나씩 주어진다. 좌표는 1보다 크거나 같고, 1000보다 작거나 같은 정수이다."
      ],
      "metadata": {
        "id": "qMfElmBhcAnU"
      }
    },
    {
      "cell_type": "markdown",
      "source": [
        "### 출력  \n",
        "직사각형의 네 번째 점의 좌표를 출력한다."
      ],
      "metadata": {
        "id": "edYxK89_cFs5"
      }
    },
    {
      "cell_type": "markdown",
      "source": [
        "-------------------------------------------------"
      ],
      "metadata": {
        "id": "juqIAnJSjq_x"
      }
    },
    {
      "cell_type": "markdown",
      "source": [
        "# 풀이"
      ],
      "metadata": {
        "id": "8H5AdKJGj3XI"
      }
    },
    {
      "cell_type": "markdown",
      "source": [
        "일단 (x,y)를 전부 입력후에, 좌표값들 중 없는 값을 넣는 식으로 풀었다."
      ],
      "metadata": {
        "id": "t0b64tBmYVZ0"
      }
    },
    {
      "cell_type": "code",
      "source": [
        "# 백준 3009번 문제는 세 점의 좌표가 주어졌을 때, 직사각형을 이루는 네 번째 점의 좌표를 찾는 문제입니다.\n",
        "\n",
        "# 첫 번째 점의 좌표를 입력받습니다.\n",
        "a_1, b_1 = map(int, input().split())\n",
        "# 두 번째 점의 좌표를 입력받습니다.\n",
        "a_2, b_2 = map(int, input().split())\n",
        "# 세 번째 점의 좌표를 입력받습니다.\n",
        "a_3, b_3 = map(int, input().split())\n",
        "\n",
        "# 세 점 중에 한 점만 다른 값을 찾아주는 함수를 정의합니다.\n",
        "def find_different_number(num1, num2, num3):\n",
        "    if num1 != num2 and num1 != num3:  # 첫 번째 숫자가 두 번째와 세 번째와 다른 경우\n",
        "        return num1\n",
        "    elif num2 != num1 and num2 != num3:  # 두 번째 숫자가 첫 번째와 세 번째와 다른 경우\n",
        "        return num2\n",
        "    else:  # 세 번째 숫자가 첫 번째와 두 번째와 다른 경우\n",
        "        return num3\n",
        "\n",
        "# 네 번째 점의 x좌표를 구합니다.\n",
        "A = find_different_number(a_1, a_2, a_3)\n",
        "# 네 번째 점의 y좌표를 구합니다.\n",
        "B = find_different_number(b_1, b_2, b_3)\n",
        "\n",
        "# 구한 네 번째 점의 좌표를 출력합니다.\n",
        "print(A, B)"
      ],
      "metadata": {
        "colab": {
          "base_uri": "https://localhost:8080/"
        },
        "id": "Z-NJ_JJHWVH9",
        "outputId": "d764e4fc-309b-4d2e-e4cd-fc9fb6dca715"
      },
      "execution_count": 6,
      "outputs": [
        {
          "output_type": "stream",
          "name": "stdout",
          "text": [
            "30 20\n",
            "10 10\n",
            "10 20\n",
            "30 10\n"
          ]
        }
      ]
    },
    {
      "cell_type": "markdown",
      "source": [
        "내 풀이가 너무 길어서 본 다른 코딩   \n",
        "생각보다 이번 내 풀이 나쁘지 않았을지도..?"
      ],
      "metadata": {
        "id": "Kc9Wl8ZgYlw7"
      }
    },
    {
      "cell_type": "code",
      "source": [
        "x_points = []\n",
        "y_points = []\n",
        "\n",
        "for _ in range(3):\n",
        "    x, y = map(int, input().split())\n",
        "    x_points.append(x)\n",
        "    y_points.append(y)\n",
        "\n",
        "for i in range(3):\n",
        "    if x_points.count(x_points[i]) == 1:\n",
        "        x4 = x_points[i]\n",
        "    if y_points.count(y_points[i]) == 1:\n",
        "        y4 = y_points[i]\n",
        "\n",
        "print(x4, y4)"
      ],
      "metadata": {
        "id": "1AK3hF_kYoKS"
      },
      "execution_count": null,
      "outputs": []
    }
  ]
}