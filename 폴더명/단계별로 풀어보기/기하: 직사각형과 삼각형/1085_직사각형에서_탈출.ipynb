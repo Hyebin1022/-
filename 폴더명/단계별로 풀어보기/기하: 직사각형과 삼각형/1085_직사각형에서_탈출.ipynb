{
  "nbformat": 4,
  "nbformat_minor": 0,
  "metadata": {
    "colab": {
      "provenance": []
    },
    "kernelspec": {
      "name": "python3",
      "display_name": "Python 3"
    },
    "language_info": {
      "name": "python"
    }
  },
  "cells": [
    {
      "cell_type": "markdown",
      "source": [
        "# 1085. 직사각형에서 탈출\n",
        "\n",
        "\n"
      ],
      "metadata": {
        "id": "sJWvFwM7rSXv"
      }
    },
    {
      "cell_type": "markdown",
      "source": [
        "https://www.acmicpc.net/problem/1085"
      ],
      "metadata": {
        "id": "gIVxfbX8rvtJ"
      }
    },
    {
      "cell_type": "markdown",
      "source": [
        "### 문제  \n",
        "한수는 지금 (x, y)에 있다. 직사각형은 각 변이 좌표축에 평행하고, 왼쪽 아래 꼭짓점은 (0, 0), 오른쪽 위 꼭짓점은 (w, h)에 있다. 직사각형의 경계선까지 가는 거리의 최솟값을 구하는 프로그램을 작성하시오."
      ],
      "metadata": {
        "id": "uPfblfYvMfpW"
      }
    },
    {
      "cell_type": "markdown",
      "source": [
        "### 입력\n",
        "첫째 줄에 x, y, w, h가 주어진다.  "
      ],
      "metadata": {
        "id": "qMfElmBhcAnU"
      }
    },
    {
      "cell_type": "markdown",
      "source": [
        "### 출력  \n",
        "첫째 줄에 문제의 정답을 출력한다"
      ],
      "metadata": {
        "id": "edYxK89_cFs5"
      }
    },
    {
      "cell_type": "markdown",
      "source": [
        "### 제한  \n",
        "* 1 ≤ w, h ≤ 1,000\n",
        "* 1 ≤ x ≤ w-1\n",
        "* 1 ≤ y ≤ h-1\n",
        "* x, y, w, h는 정수"
      ],
      "metadata": {
        "id": "bQ2nYyX06peJ"
      }
    },
    {
      "cell_type": "markdown",
      "source": [
        "-------------------------------------------------"
      ],
      "metadata": {
        "id": "juqIAnJSjq_x"
      }
    },
    {
      "cell_type": "markdown",
      "source": [
        "# 풀이"
      ],
      "metadata": {
        "id": "8H5AdKJGj3XI"
      }
    },
    {
      "cell_type": "markdown",
      "source": [
        "1. (x,y)는 (w,h) 보다 작음 > 직사각형 안에 있는 점이다.  \n",
        "2. 그러면... 4개의 범위로 나눠서 각각의 x=0, x=w, y=0, y=h 이 선 4개에 닿는걸로 할까...... 알고리즘 도통 모르겠다"
      ],
      "metadata": {
        "id": "JcSG3lFthK4g"
      }
    },
    {
      "cell_type": "code",
      "source": [
        "x, y, w, h = map(int, input().split())\n",
        "print(min(x, y, w-x, h-y))"
      ],
      "metadata": {
        "colab": {
          "base_uri": "https://localhost:8080/"
        },
        "id": "fH0GBZIm68cc",
        "outputId": "d6e5c924-b7ed-41c5-e89d-a2711cd8b7c1"
      },
      "execution_count": 1,
      "outputs": [
        {
          "output_type": "stream",
          "name": "stdout",
          "text": [
            "6 2 10 3\n",
            "1\n"
          ]
        }
      ]
    },
    {
      "cell_type": "markdown",
      "source": [
        "이 문제는 한수가 직사각형 모서리로 가장 빨리 도망치려고 할 때, 얼마나 빨리 탈출할 수 있는지를 계산하는 문제이다.  \n",
        "한수는 직사각형 안에 있고, 직사각형의 경계까지 가장 가까운 거리를 찾아야 한다.   \n",
        "\n",
        "직사각형은 네 변으로 구성되어 있고, 한수의 위치는 (x, y)로 주어진다. 직사각형의 오른쪽 위 꼭짓점은 (w, h)      \n",
        "\n",
        "간단히 말해서, 한수는 네 방향 중 하나로 움직여 직사각형의 경계에 도달할 수 있습니다. 이 네 방향은 위, 아래, 왼쪽, 오른쪽입니다. 한수가 각 방향으로 움직일 때, 각각 얼마나 멀리 있는지를 계산하면 됩니다.\n",
        "\n",
        "1. **왼쪽 변까지의 거리**: 한수의 x좌표입니다.\n",
        "2. **오른쪽 변까지의 거리**: 직사각형의 너비에서 한수의 x좌표를 뺀 값입니다.\n",
        "3. **아래쪽 변까지의 거리**: 한수의 y좌표입니다.\n",
        "4. **위쪽 변까지의 거리**: 직사각형의 높이에서 한수의 y좌표를 뺀 값입니다.\n",
        "\n",
        "이렇게 계산한 네 개의 거리 중 가장 작은 값이 한수가 직사각형의 경계까지 도달하기 위해 이동해야 하는 최소 거리입니다.\n",
        "\n",
        "예를 들어, 만약 한수가 (6, 2)에 있고, 직사각형의 꼭짓점이 (10, 10)이라면, 한수는 각 변까지 다음과 같은 거리를 가집니다:\n",
        "\n",
        "- 왼쪽 변까지: 6\n",
        "- 오른쪽 변까지: 4 (10 - 6)\n",
        "- 아래쪽 변까지: 2\n",
        "- 위쪽 변까지: 8 (10 - 2)\n",
        "\n",
        "이 중 가장 작은 거리는 2이므로, 한수가 직사각형의 경계까지 가는데 필요한 최소 거리는 2입니다."
      ],
      "metadata": {
        "id": "x0HOuCxgmeJB"
      }
    }
  ]
}