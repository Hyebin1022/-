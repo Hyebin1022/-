{
  "nbformat": 4,
  "nbformat_minor": 0,
  "metadata": {
    "colab": {
      "provenance": []
    },
    "kernelspec": {
      "name": "python3",
      "display_name": "Python 3"
    },
    "language_info": {
      "name": "python"
    }
  },
  "cells": [
    {
      "cell_type": "markdown",
      "source": [
        "# 10101. 삼각형 외우기\n"
      ],
      "metadata": {
        "id": "sJWvFwM7rSXv"
      }
    },
    {
      "cell_type": "markdown",
      "source": [
        "https://www.acmicpc.net/problem/10101"
      ],
      "metadata": {
        "id": "gIVxfbX8rvtJ"
      }
    },
    {
      "cell_type": "markdown",
      "source": [
        "### 문제  \n",
        "창영이는 삼각형의 종류를 잘 구분하지 못한다. 따라서 프로그램을 이용해 이를 외우려고 한다.   \n",
        "\n",
        "삼각형의 세 각을 입력받은 다음,\n",
        "\n",
        "* 세 각의 크기가 모두 60이면, Equilateral\n",
        "* 세 각의 합이 180이고, 두 각이 같은 경우에는 Isosceles\n",
        "* 세 각의 합이 180이고, 같은 각이 없는 경우에는 Scalene\n",
        "* 세 각의 합이 180이 아닌 경우에는 Error     \n",
        "\n",
        "를 출력하는 프로그램을 작성하시오.   "
      ],
      "metadata": {
        "id": "uPfblfYvMfpW"
      }
    },
    {
      "cell_type": "markdown",
      "source": [
        "### 입력\n",
        "총 3개의 줄에 걸쳐 삼각형의 각의 크기가 주어진다. 모든 정수는 0보다 크고, 180보다 작다."
      ],
      "metadata": {
        "id": "qMfElmBhcAnU"
      }
    },
    {
      "cell_type": "markdown",
      "source": [
        "### 출력  \n",
        "문제의 설명에 따라 Equilateral, Isosceles, Scalene, Error 중 하나를 출력한다."
      ],
      "metadata": {
        "id": "edYxK89_cFs5"
      }
    },
    {
      "cell_type": "markdown",
      "source": [
        "-------------------------------------------------"
      ],
      "metadata": {
        "id": "juqIAnJSjq_x"
      }
    },
    {
      "cell_type": "markdown",
      "source": [
        "# 풀이"
      ],
      "metadata": {
        "id": "8H5AdKJGj3XI"
      }
    },
    {
      "cell_type": "markdown",
      "source": [
        "세 각을 받아서 한 리스트에 넣은 다음,\n",
        "먼저 세 각이 180 아닌 경우를 제외시키고,\n",
        "그 다음엔 set 함수 이용해서 분류시켜야겠다."
      ],
      "metadata": {
        "id": "t0b64tBmYVZ0"
      }
    },
    {
      "cell_type": "code",
      "source": [
        "# 세 개의 각도를 저장할 리스트를 생성합니다.\n",
        "angle = []\n",
        "\n",
        "# 세 번의 반복을 통해 사용자로부터 각도를 입력받고 리스트에 추가합니다.\n",
        "for _ in range(3):\n",
        "    a = int(input())  # 각도를 입력받습니다.\n",
        "    angle.append(a)   # 입력받은 각도를 리스트에 추가합니다.\n",
        "\n",
        "if sum(angle) != 180: print('Error')  # 삼각형의 각도의 합이 180이 아닌 경우, 에러를 출력합니다.\n",
        "elif len(set(angle)) == 1: print('Equilateral')  # 모든 각이 동일한 경우, 정삼각형을 출력합니다.\n",
        "elif len(set(angle)) == 2: print('Isosceles')  # 두 개의 각이 동일한 경우, 이등변삼각형을 출력합니다.\n",
        "else: print('Scalene')  # 모든 각이 다른 경우, 부등변삼각형을 출력합니다."
      ],
      "metadata": {
        "colab": {
          "base_uri": "https://localhost:8080/"
        },
        "id": "Z-NJ_JJHWVH9",
        "outputId": "0bd34b8e-c078-49a2-ee8e-5baefe4b08b2"
      },
      "execution_count": 4,
      "outputs": [
        {
          "output_type": "stream",
          "name": "stdout",
          "text": [
            "60\n",
            "70\n",
            "50\n",
            "Scalene\n"
          ]
        }
      ]
    },
    {
      "cell_type": "code",
      "source": [
        "## 다른 사람 풀이\n",
        "\n",
        "# 세 각을 입력받습니다.\n",
        "angle1 = int(input())\n",
        "angle2 = int(input())\n",
        "angle3 = int(input())\n",
        "\n",
        "# 세 각의 합을 계산합니다.\n",
        "sum_of_angles = angle1 + angle2 + angle3\n",
        "\n",
        "# 삼각형의 세 각의 합이 180도가 아니면, 삼각형이 될 수 없습니다.\n",
        "if sum_of_angles != 180:\n",
        "    print('Error')\n",
        "# 모든 각이 60도라면, 정삼각형입니다.\n",
        "elif angle1 == 60 and angle2 == 60 and angle3 == 60:\n",
        "    print('Equilateral')\n",
        "# 세 각 중 적어도 두 각이 같다면, 이등변삼각형입니다.\n",
        "elif angle1 == angle2 or angle1 == angle3 or angle2 == angle3:\n",
        "    print('Isosceles')\n",
        "# 그 외의 경우, 부등변삼각형입니다.\n",
        "else:\n",
        "    print('Scalene')"
      ],
      "metadata": {
        "id": "52CIdOV4eOn2"
      },
      "execution_count": null,
      "outputs": []
    }
  ]
}