{
  "nbformat": 4,
  "nbformat_minor": 0,
  "metadata": {
    "colab": {
      "provenance": []
    },
    "kernelspec": {
      "name": "python3",
      "display_name": "Python 3"
    },
    "language_info": {
      "name": "python"
    }
  },
  "cells": [
    {
      "cell_type": "markdown",
      "source": [
        "# 5073. 삼각형과 세 변\n"
      ],
      "metadata": {
        "id": "sJWvFwM7rSXv"
      }
    },
    {
      "cell_type": "markdown",
      "source": [
        "https://www.acmicpc.net/problem/5073"
      ],
      "metadata": {
        "id": "gIVxfbX8rvtJ"
      }
    },
    {
      "cell_type": "markdown",
      "source": [
        "### 문제  \n",
        "삼각형의 세 변의 길이가 주어질 때 변의 길이에 따라 다음과 같이 정의한다.\n",
        "\n",
        "* Equilateral :  세 변의 길이가 모두 같은 경우\n",
        "* Isosceles : 두 변의 길이만 같은 경우\n",
        "* Scalene : 세 변의 길이가 모두 다른 경우\n",
        "\n",
        "단 주어진 세 변의 길이가 삼각형의 조건을 만족하지 못하는 경우에는 \"Invalid\" 를 출력한다. 예를 들어 6, 3, 2가 이 경우에 해당한다. 가장 긴 변의 길이보다 나머지 두 변의 길이의 합이 길지 않으면 삼각형의 조건을 만족하지 못한다.   \n",
        "\n",
        "세 변의 길이가 주어질 때 위 정의에 따른 결과를 출력하시오.   "
      ],
      "metadata": {
        "id": "uPfblfYvMfpW"
      }
    },
    {
      "cell_type": "markdown",
      "source": [
        "### 입력\n",
        "각 줄에는 1,000을 넘지 않는 양의 정수 3개가 입력된다. 마지막 줄은 0 0 0이며 이 줄은 계산하지 않는다."
      ],
      "metadata": {
        "id": "qMfElmBhcAnU"
      }
    },
    {
      "cell_type": "markdown",
      "source": [
        "### 출력  \n",
        "각 입력에 맞는 결과 (Equilateral, Isosceles, Scalene, Invalid) 를 출력하시오."
      ],
      "metadata": {
        "id": "edYxK89_cFs5"
      }
    },
    {
      "cell_type": "markdown",
      "source": [
        "-------------------------------------------------"
      ],
      "metadata": {
        "id": "juqIAnJSjq_x"
      }
    },
    {
      "cell_type": "markdown",
      "source": [
        "# 풀이"
      ],
      "metadata": {
        "id": "8H5AdKJGj3XI"
      }
    },
    {
      "cell_type": "markdown",
      "source": [
        "세 변을 받아서 한 리스트에 넣은 다음,\n",
        "먼저 삼각형 조건 안맞는 경우를 제외시키고,\n",
        "set 함수 이용해서 분류시켜야겠다."
      ],
      "metadata": {
        "id": "t0b64tBmYVZ0"
      }
    },
    {
      "cell_type": "code",
      "source": [
        "while True:\n",
        "  a, b, c = map(int, input().split())  # 세 변의 길이를 입력 받음\n",
        "  if a == 0 and b == 0 and c == 0: break  # '000' 입력 시 반복문 종료\n",
        "  lines = sorted([a,b,c])\n",
        "  if lines[2]>=lines[0]+lines[1] : print('Invalid')\n",
        "  elif len(set(lines)) ==1:print('Equilateral')\n",
        "  elif len(set(lines)) == 2 : print('Isosceles')\n",
        "  else : print('Scalene')\n",
        "\n"
      ],
      "metadata": {
        "colab": {
          "base_uri": "https://localhost:8080/",
          "height": 0
        },
        "id": "Z-NJ_JJHWVH9",
        "outputId": "af9fc4a6-acb5-4213-c864-665a98707ed4"
      },
      "execution_count": 6,
      "outputs": [
        {
          "name": "stdout",
          "output_type": "stream",
          "text": [
            "7 7 7\n",
            "Equilateral\n",
            "6 5 4 \n",
            "Scalene\n",
            "3 2 5\n",
            "Invalid\n",
            "6 2 6\n",
            "Isosceles\n",
            "0 0 0\n"
          ]
        }
      ]
    },
    {
      "cell_type": "code",
      "source": [
        "## 다른 사람 풀이\n",
        "\n",
        "while True:\n",
        "    # 세 변의 길이 입력 받기\n",
        "    a, b, c = map(int, input().split())\n",
        "    # 종료 조건\n",
        "    if a == 0 and b == 0 and c == 0:\n",
        "        break\n",
        "\n",
        "    # 세 변을 길이 순으로 정렬\n",
        "    sides = sorted([a, b, c])\n",
        "\n",
        "    # 삼각형이 될 수 없는 조건\n",
        "    if sides[2] >= sides[0] + sides[1]:\n",
        "        print(\"Invalid\")\n",
        "    # 정삼각형 조건\n",
        "    elif sides[0] == sides[1] == sides[2]:\n",
        "        print(\"Equilateral\")\n",
        "    # 이등변삼각형 조건 (세 변 중 최소 2변이 같음)\n",
        "    elif sides[0] == sides[1] or sides[1] == sides[2]:\n",
        "        print(\"Isosceles\")\n",
        "    # 나머지 경우는 부등변삼각형\n",
        "    else:\n",
        "        print(\"Scalene\")\n"
      ],
      "metadata": {
        "id": "52CIdOV4eOn2"
      },
      "execution_count": null,
      "outputs": []
    }
  ]
}