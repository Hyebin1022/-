{
  "nbformat": 4,
  "nbformat_minor": 0,
  "metadata": {
    "colab": {
      "provenance": []
    },
    "kernelspec": {
      "name": "python3",
      "display_name": "Python 3"
    },
    "language_info": {
      "name": "python"
    }
  },
  "cells": [
    {
      "cell_type": "markdown",
      "source": [
        "# 2869. 달팽이는 올라가고 싶다"
      ],
      "metadata": {
        "id": "sJWvFwM7rSXv"
      }
    },
    {
      "cell_type": "markdown",
      "source": [
        "https://www.acmicpc.net/problem/2869"
      ],
      "metadata": {
        "id": "gIVxfbX8rvtJ"
      }
    },
    {
      "cell_type": "markdown",
      "source": [
        "### 문제  \n",
        "땅 위에 달팽이가 있다. 이 달팽이는 높이가 V미터인 나무 막대를 올라갈 것이다.  \n",
        "\n",
        "달팽이는 낮에 A미터 올라갈 수 있다. 하지만, 밤에 잠을 자는 동안 B미터 미끄러진다. 또, 정상에 올라간 후에는 미끄러지지 않는다.  \n",
        "\n",
        "달팽이가 나무 막대를 모두 올라가려면, 며칠이 걸리는지 구하는 프로그램을 작성하시오.  "
      ],
      "metadata": {
        "id": "uPfblfYvMfpW"
      }
    },
    {
      "cell_type": "markdown",
      "source": [
        "### 입력\n",
        "첫째 줄에 세 정수 A, B, V가 공백으로 구분되어서 주어진다. (1 ≤ B < A ≤ V ≤ 1,000,000,000)"
      ],
      "metadata": {
        "id": "qMfElmBhcAnU"
      }
    },
    {
      "cell_type": "markdown",
      "source": [
        "### 출력  \n",
        "첫째 줄에 달팽이가 나무 막대를 모두 올라가는데 며칠이 걸리는지 출력한다."
      ],
      "metadata": {
        "id": "edYxK89_cFs5"
      }
    },
    {
      "cell_type": "code",
      "source": [
        "A, B, V = map(int, input().split())  # 입력 받기"
      ],
      "metadata": {
        "colab": {
          "base_uri": "https://localhost:8080/"
        },
        "id": "XddySzwRbl9D",
        "outputId": "14e96a16-8eec-4812-e809-20f9e950886e"
      },
      "execution_count": 15,
      "outputs": [
        {
          "name": "stdout",
          "output_type": "stream",
          "text": [
            "100 99 1000000000\n"
          ]
        }
      ]
    },
    {
      "cell_type": "markdown",
      "source": [
        "* 실제로 달팽이가 나무 막대의 정상에 도달하기 위해서는 마지막 날에는 미끄러지지 않기 때문에, 마지막 날에 도달할 수 있는 높이를 계산할 때는 밤에 미끄러지는 높이 B를 고려하지 않아도 된다.   따라서 (V-B)는 달팽이가 실제로 올라가야 하는 총 높이에서 마지막 날에 미끄러지지 않는 높이를 제외한 값이다. ( 생각지도 못했다!!)"
      ],
      "metadata": {
        "id": "8Srqok2MfMNe"
      }
    },
    {
      "cell_type": "code",
      "source": [
        "# V-B = 올라가야할 거리\n",
        "# (A-B)는 달팽이가 하루에 실제로 올라갈 수 있는 순수한 높이\n",
        "\n",
        "\n",
        "if (V-B) % (A-B) == 0 : print((V-B)//(A-B))  # 달팽이가 정상에 도달하기 위해 필요한 일수가 정확히 나누어 떨어지는지 확인합\n",
        "else : print((V-B)//(A-B)+1)"
      ],
      "metadata": {
        "colab": {
          "base_uri": "https://localhost:8080/"
        },
        "id": "8gbchNmbcOjF",
        "outputId": "0646a4d8-6800-466e-c9d4-ceca5b4ef2d3"
      },
      "execution_count": 17,
      "outputs": [
        {
          "output_type": "stream",
          "name": "stdout",
          "text": [
            "999999901\n"
          ]
        }
      ]
    },
    {
      "cell_type": "markdown",
      "source": [
        "* 문제를 보면 시간제한이 0.15초이다 즉 반복문을 사용하면 안된다는 뜻! (처음알았다)\n",
        "\n",
        "* 낮 동안에 정상까지 간 경우를 미쳐 생각하지 못했다."
      ],
      "metadata": {
        "id": "a2XdMQ-OeHGz"
      }
    }
  ]
}