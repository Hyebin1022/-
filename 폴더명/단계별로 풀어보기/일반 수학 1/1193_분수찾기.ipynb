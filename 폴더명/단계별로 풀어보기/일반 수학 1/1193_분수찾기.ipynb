{
  "nbformat": 4,
  "nbformat_minor": 0,
  "metadata": {
    "colab": {
      "provenance": []
    },
    "kernelspec": {
      "name": "python3",
      "display_name": "Python 3"
    },
    "language_info": {
      "name": "python"
    }
  },
  "cells": [
    {
      "cell_type": "markdown",
      "source": [
        "# 1193. 분수찾기"
      ],
      "metadata": {
        "id": "sJWvFwM7rSXv"
      }
    },
    {
      "cell_type": "markdown",
      "source": [
        "https://www.acmicpc.net/problem/1193"
      ],
      "metadata": {
        "id": "gIVxfbX8rvtJ"
      }
    },
    {
      "cell_type": "markdown",
      "source": [
        "대각선으로 줄을 세보면  \n",
        "     \n",
        "1줄 : 숫자 1개, 분모+분자 = 2  \n",
        "2줄 : 숫자 2개, 분모 + 분자 = 3  \n",
        ".  \n",
        ".  \n",
        ".  \n",
        "n줄 : 숫자 n개 , 분모 + 분자 = n+1"
      ],
      "metadata": {
        "id": "uPfblfYvMfpW"
      }
    },
    {
      "cell_type": "code",
      "source": [
        "num = int(input())  # 숫자 입력받기\n",
        "line = 1      # 현재 num이 대각선에 몇번째 줄에 있는지 나타냄 (초기값 설정 1)"
      ],
      "metadata": {
        "colab": {
          "base_uri": "https://localhost:8080/"
        },
        "id": "CVJklpRtMdpP",
        "outputId": "18b364e2-cde5-43da-b366-89b4d87c44f6"
      },
      "execution_count": 3,
      "outputs": [
        {
          "name": "stdout",
          "output_type": "stream",
          "text": [
            "5\n"
          ]
        }
      ]
    },
    {
      "cell_type": "code",
      "source": [
        "# num이 line 보다 큰 동안에 계속해서 num이 현재 대각선 어느 위치인지 파악\n",
        "while num > line:\n",
        "    num -= line\n",
        "    line += 1\n",
        "\n",
        "# 짝수\n",
        "if line % 2 == 0:\n",
        "    a = num\n",
        "    b = line - num + 1\n",
        "# 홀수\n",
        "else:\n",
        "    a = line - num + 1\n",
        "    b = num\n",
        "\n",
        "print(f'{a}/{b}')"
      ],
      "metadata": {
        "colab": {
          "base_uri": "https://localhost:8080/"
        },
        "id": "XxLaKk5sQR2e",
        "outputId": "563c23ba-39a3-43a1-ff15-8db56e79dd3e"
      },
      "execution_count": 4,
      "outputs": [
        {
          "output_type": "stream",
          "name": "stdout",
          "text": [
            "2/2\n"
          ]
        }
      ]
    }
  ]
}