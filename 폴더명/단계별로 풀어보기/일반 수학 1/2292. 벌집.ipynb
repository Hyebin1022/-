{
  "nbformat": 4,
  "nbformat_minor": 0,
  "metadata": {
    "colab": {
      "provenance": []
    },
    "kernelspec": {
      "name": "python3",
      "display_name": "Python 3"
    },
    "language_info": {
      "name": "python"
    }
  },
  "cells": [
    {
      "cell_type": "markdown",
      "source": [
        "# 2292. 벌집  "
      ],
      "metadata": {
        "id": "sJWvFwM7rSXv"
      }
    },
    {
      "cell_type": "markdown",
      "source": [
        "https://www.acmicpc.net/problem/2292"
      ],
      "metadata": {
        "id": "gIVxfbX8rvtJ"
      }
    },
    {
      "cell_type": "markdown",
      "source": [
        "첫번째 줄은 1까지   \n",
        "두번째 줄은 7까지  \n",
        "세번째 줄은 19까지  \n",
        "네번재 줄은 37까지  \n",
        "\n",
        "각 줄마다 6의 배수씩 더해져 가는 규칙을 찾을 수 있다."
      ],
      "metadata": {
        "id": "WJqrl9M9q2IS"
      }
    },

    {
      "cell_type": "code",
      "execution_count": 1,
      "metadata": {
        "colab": {
          "base_uri": "https://localhost:8080/"
        },
        "id": "HvQVVB2pquxA",
        "outputId": "f916a586-205d-4909-d682-db2c22d6a5f3"
      },
      "outputs": [
        {
          "output_type": "stream",
          "name": "stdout",
          "text": [
            "13\n",
            "3\n"
          ]
        }
      ],
      "source": [
        "room=int(input()) #방 번호 받기\n",
        "nums = 1 # 1번 벌집 번호\n",
        "\n",
        "for i in range(room):\n",
        "    nums += i*6         ## i번째 줄의 벌집 개수는 6의 배수로 늘어난다.\n",
        "\n",
        "    if room <= nums:         # 현재 위치한 방이 몇번째 바깥 벌집에 위치하는지 출력\n",
        "        print(i+1)\n",
        "        break"
      ]
    }
  ]
}
