{
  "nbformat": 4,
  "nbformat_minor": 0,
  "metadata": {
    "colab": {
      "provenance": []
    },
    "kernelspec": {
      "name": "python3",
      "display_name": "Python 3"
    },
    "language_info": {
      "name": "python"
    }
  },
  "cells": [
    {
      "cell_type": "markdown",
      "source": [
        "# 24262. 알고리즘 수업 - 알고리즘의 수행 시간 1"
      ],
      "metadata": {
        "id": "sJWvFwM7rSXv"
      }
    },
    {
      "cell_type": "markdown",
      "source": [
        "https://www.acmicpc.net/problem/24262"
      ],
      "metadata": {
        "id": "gIVxfbX8rvtJ"
      }
    },
    {
      "cell_type": "markdown",
      "source": [
        "### 문제  \n",
        "오늘도 서준이는 알고리즘의 수행시간 수업 조교를 하고 있다. 아빠가 수업한 내용을 학생들이 잘 이해했는지 문제를 통해서 확인해보자.\n",
        "\n",
        "입력의 크기 n이 주어지면 MenOfPassion 알고리즘 수행 시간을 예제 출력과 같은 방식으로 출력해보자.\n",
        "\n",
        "MenOfPassion 알고리즘은 다음과 같다.\n",
        "\n",
        ">MenOfPassion(A[], n) {\n",
        "    i = ⌊n / 2⌋;\n",
        "    return A[i]; # 코드1\n",
        "}"
      ],
      "metadata": {
        "id": "uPfblfYvMfpW"
      }
    },
    {
      "cell_type": "markdown",
      "source": [
        "### 입력\n",
        "첫째 줄에 입력의 크기 n(1 ≤ n ≤ 500,000)이 주어진다."
      ],
      "metadata": {
        "id": "qMfElmBhcAnU"
      }
    },
    {
      "cell_type": "markdown",
      "source": [
        "### 출력  \n",
        "첫째 줄에 코드1 의 수행 횟수를 출력한다.  \n",
        "\n",
        "둘째 줄에 코드1의 수행 횟수를 다항식으로 나타내었을 때, 최고차항의 차수를 출력한다. 단, 다항식으로 나타낼 수 없거나 최고차항의 차수가 3보다 크면 4를 출력한다.  "
      ],
      "metadata": {
        "id": "edYxK89_cFs5"
      }
    },
    {
      "cell_type": "markdown",
      "source": [
        "-------------------------------------------------"
      ],
      "metadata": {
        "id": "juqIAnJSjq_x"
      }
    },
    {
      "cell_type": "markdown",
      "source": [
        "# 풀이"
      ],
      "metadata": {
        "id": "8H5AdKJGj3XI"
      }
    },
    {
      "cell_type": "markdown",
      "source": [
        "1. 두 알고리즘의 수행 시간을 이해\n",
        "2. 첫 번째 알고리즘의 수행 시간인\n",
        " N초와 두 번째 알고리즘의 수행 시간인 1초를 비교하여, 두 번째 알고리즘이 몇 배 더 효율적인지를 계산"
      ],
      "metadata": {
        "id": "t0b64tBmYVZ0"
      }
    },
    {
      "cell_type": "code",
      "source": [
        "print(1)\n",
        "print(0)"
      ],
      "metadata": {
        "colab": {
          "base_uri": "https://localhost:8080/"
        },
        "id": "Z-NJ_JJHWVH9",
        "outputId": "498ef51a-31ba-44c4-984e-6493ed9d40ff"
      },
      "execution_count": 2,
      "outputs": [
        {
          "output_type": "stream",
          "name": "stdout",
          "text": [
            "1\n",
            "0\n"
          ]
        }
      ]
    },
    {
      "cell_type": "markdown",
      "source": [
        "처음에 문제 자체가 생소해서 이해하는게 어려웠다.\n",
        "\n",
        "https://kevinitcoding.tistory.com/entry/%EB%B0%B1%EC%A4%80Python-24262%EB%B2%88-%EC%95%8C%EA%B3%A0%EB%A6%AC%EC%A6%98-%EC%88%98%EC%97%85-%EC%95%8C%EA%B3%A0%EB%A6%AC%EC%A6%98%EC%9D%98-%EC%88%98%ED%96%89-%EC%8B%9C%EA%B0%84-1-%EB%AC%B8%EC%A0%9C\n",
        "\n",
        ">당신이 같은 거리를 가는 데 두 가지 방법이 있다고 합니다. 첫 번째 방법은 걸어가는 것이고, 두 번째 방법은 순간 이동하는 것입니다. 걸어가면 거리에 따라 시간이 더 오래 걸리겠지만, 순간 이동은 거리에 상관없이 바로 도착할 수 있습니다.  \n",
        "이 문제에서는 두 가지 \"알고리즘\"을 비교합니다.   \n",
        "첫 번째 알고리즘은 입력 크기(예: 데이터의 양)에 따라 시간이 더 오래 걸립니다. 예를 들어, 데이터가 10개면 10초가 걸리고, 100개면 100초가 걸립니다.   \n",
        "두 번째 알고리즘은 입력 크기와 상관없이 항상 1초만에 작업을 마칩니다.   \n",
        "문제에서는 당신에게 두 번째 알고리즘이 첫 번째 알고리즘보다 몇 배 더 효율적인지 묻고 있습니다.   \n",
        "이는 매우 단순한 비교로, 두 번째 알고리즘은 항상 1초만에 작업을 마칩니다. 따라서 첫 번째 알고리즘이 작업을 마치는 데 필요한 시간(데이터의 양)과 상관없이 두 번째 알고리즘이 더 효율적입니다.   \n",
        "이 문제의 정답은 두 번째 알고리즘이 첫 번째 알고리즘보다 항상 더 효율적이라는 것을 인식하는 것입니다. 정확한 배수를 계산하는 것이 아니라, 핵심은 \"입력 크기에 관계없이 항상 1초\"만에 작업을 마치는 알고리즘이 얼마나 더 효율적인지 이해하는 것입니다."
      ],
      "metadata": {
        "id": "qtJoER4zRTo8"
      }
    }
  ]
}