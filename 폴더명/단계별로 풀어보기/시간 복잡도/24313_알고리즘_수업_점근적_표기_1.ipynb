{
  "nbformat": 4,
  "nbformat_minor": 0,
  "metadata": {
    "colab": {
      "provenance": []
    },
    "kernelspec": {
      "name": "python3",
      "display_name": "Python 3"
    },
    "language_info": {
      "name": "python"
    }
  },
  "cells": [
    {
      "cell_type": "markdown",
      "source": [
        "# 24313. 알고리즘 수업 - 점근적 표기 1"
      ],
      "metadata": {
        "id": "sJWvFwM7rSXv"
      }
    },
    {
      "cell_type": "markdown",
      "source": [
        "https://www.acmicpc.net/problem/24313"
      ],
      "metadata": {
        "id": "gIVxfbX8rvtJ"
      }
    },
    {
      "cell_type": "markdown",
      "source": [
        "### 문제  \n",
        "오늘도 서준이는 점근적 표기 수업 조교를 하고 있다. 아빠가 수업한 내용을 학생들이 잘 이해했는지 문제를 통해서 확인해보자.\n",
        "\n",
        "알고리즘의 소요 시간을 나타내는 O-표기법(빅-오)을 다음과 같이 정의하자.\n",
        "\n",
        "$ O(g(n)) = {f(n) | 모든 n ≥ n0에 대하여 f(n) ≤ c × g(n)인 양의 상수 c와 n0가 존재한다} $\n",
        "\n",
        "이 정의는 실제 O-표기법(https://en.wikipedia.org/wiki/Big_O_notation)과 다를 수 있다.\n",
        "\n",
        "함수 $f(n) = a_1n + a_0$, 양의 정수 $c, n_0$가 주어질 경우 O(n) 정의를 만족하는지 알아보자."
      ],
      "metadata": {
        "id": "uPfblfYvMfpW"
      }
    },
    {
      "cell_type": "markdown",
      "source": [
        "### 입력\n",
        "$첫째 줄에 함수 f(n)을 나타내는 정수 a_1, a_0가 주어진다. (0 ≤ |a_i| ≤ 100)$  \n",
        "\n",
        "$다음 줄에 양의 정수 c가 주어진다. (1 ≤ c ≤ 100)$  \n",
        "\n",
        "$다음 줄에 양의 정수 n0가 주어진다. (1 ≤ n_0 ≤ 100)$  "
      ],
      "metadata": {
        "id": "qMfElmBhcAnU"
      }
    },
    {
      "cell_type": "markdown",
      "source": [
        "### 출력  \n",
        "$f(n), c, n_0$가 O(n) 정의를 만족하면 1, 아니면 0을 출력한다."
      ],
      "metadata": {
        "id": "edYxK89_cFs5"
      }
    },
    {
      "cell_type": "markdown",
      "source": [
        "-------------------------------------------------"
      ],
      "metadata": {
        "id": "juqIAnJSjq_x"
      }
    },
    {
      "cell_type": "markdown",
      "source": [
        "# 풀이"
      ],
      "metadata": {
        "id": "8H5AdKJGj3XI"
      }
    },
    {
      "cell_type": "markdown",
      "source": [
        "점근적 표기에 대해 간략히 설명을 하자면, Big-O를 계산할 때 입력값의 크기에 따라 함수가 얼마나 빨리 커지는지 알아볼 때 중요하지 않은 항과 상수 계수를 제거하면서 이해를 방해하는 불필요한 부분을 없앤 표기법이라고 볼 수 있다.\n",
        "\n",
        "즉, 간략한 예로\n",
        "\n",
        "$y = 0.0006n^3 -1000$ 라고 했을때 , $O(y) = n$ 가 되는 반면에,  \n",
        "$x = 1000n^2 + 1000$의 Big O는 $O(x) = n^2$\n",
        "가 되기 마련입니다.\n",
        "\n",
        "\n",
        "\n",
        "따라서 y의 수행시간이 x보다 더 크다고 할 수 있습니다.\n",
        "\n",
        "\n",
        "\n",
        "\n"
      ],
      "metadata": {
        "id": "JPZAS7gBhKom"
      }
    },
    {
      "cell_type": "markdown",
      "source": [
        "문제에서 사용한 수식\n",
        "\n",
        "* $f(n) = a_1n + a_0$\n",
        "* $g(n) = n$\n",
        "\n",
        "n을 변수라고 했을 때, 두 식 모두 1차 식\n",
        "선형임을 알 수 있습니다.\n",
        "\n",
        "이것을 고려했을 때 풀이는 더욱 더 간단해집니다.\n",
        "\n",
        "같은 1차 식이라면, 다음 두가지만 집중하면 됩니다.\n",
        "\n",
        "1. $a_1n$의 크기와 $cg(n)$의 크기 확인\n",
        "2. $n_0$값에 따른 전체 출력 값 비교 : $f(n) vs C*g(n)$"
      ],
      "metadata": {
        "id": "oqb8pW0PImTG"
      }
    },
    {
      "cell_type": "code",
      "source": [
        "# g 함수 정의\n",
        "def g(n: int) -> int:\n",
        "    # g 함수는 입력된 n을 그대로 반환합니다.\n",
        "    return n\n",
        "\n",
        "# f 함수 정의\n",
        "def f(a0: int, a1: int, n: int) -> int:\n",
        "    # f 함수는 입력된 a1, a0, n을 사용하여 a1*n + a0을 계산하여 반환합니다.\n",
        "    return (a1 * n) + a0\n",
        "\n",
        "if __name__ == '__main__':\n",
        "    # 입력 부분\n",
        "    a1, a0 = map(int, input().split())  # a1과 a0을 공백으로 구분하여 입력받습니다.\n",
        "    c = int(input())  # c 값을 입력받습니다.\n",
        "    n0 = int(input())  # n0 값을 입력받습니다.\n",
        "\n",
        "    # 점근적 표기에 대한 생각 (주석으로 설명 추가)\n",
        "    # 상수항은 중요하지 않다는 주석입니다. 여기서는 c가 a1과 같거나 클 경우에 대한 조건을 설정합니다.\n",
        "    if c >= a1:\n",
        "        # 두 함수의 초기 결과를 비교합니다.\n",
        "        # g 함수와 f 함수에 n0을 대입한 결과를 비교합니다.\n",
        "        if c * g(n0) >= f(a0, a1, n0):\n",
        "            print(1)  # c*g(n0)이 f(a0, a1, n0)보다 크거나 같으면 1을 출력\n",
        "        else:\n",
        "            print(0)  # 그렇지 않으면 0을 출력\n",
        "    else:\n",
        "        print(0)  # c < a1인 경우에는 무조건 0을 출력\n"
      ],
      "metadata": {
        "colab": {
          "base_uri": "https://localhost:8080/"
        },
        "id": "Z-NJ_JJHWVH9",
        "outputId": "e3e0a992-f67d-4ee2-87d4-102a3e7fc6d9"
      },
      "execution_count": 2,
      "outputs": [
        {
          "output_type": "stream",
          "name": "stdout",
          "text": [
            "7 7\n",
            "8\n",
            "1\n",
            "0\n"
          ]
        }
      ]
    },
    {
      "cell_type": "markdown",
      "source": [
        "* 숏코드"
      ],
      "metadata": {
        "id": "4aJvewPdJZXI"
      }
    },
    {
      "cell_type": "code",
      "source": [
        "# 이 스크립트가 메인으로 실행될 때만 아래 코드를 실행합니다.\n",
        "if __name__ == '__main__':\n",
        "\n",
        "    # 사용자로부터 두 개의 정수 a1, a0를 입력받습니다. 입력 예: \"3 5\" 입력시 a1=3, a0=5\n",
        "    a1, a0 = map(int, input().split())\n",
        "    # 사용자로부터 정수 c를 입력받습니다.\n",
        "    c = int(input())\n",
        "    # 사용자로부터 정수 n0를 입력받습니다.\n",
        "    n0 = int(input())\n",
        "\n",
        "    # 조건 비교 시작:\n",
        "    # 첫 번째 조건: (a1 * n0 + a0) <= (c * n0) -> 함수 f(n) = a1*n + a0 와 c*n (g 함수의 c배) 비교\n",
        "    # 두 번째 조건: a1 <= c -> 상수 c가 계수 a1보다 크거나 같아야 함\n",
        "    # 두 조건 모두 참일 때 1을 출력, 그렇지 않으면 0을 출력\n",
        "    if ((a1 * n0 + a0) <= (c * n0)) and (a1 <= c):\n",
        "        print(1)  # 두 조건이 참이면 1 출력\n",
        "    else:\n",
        "        print(0)  # 하나라도 거짓이면 0 출력\n"
      ],
      "metadata": {
        "colab": {
          "base_uri": "https://localhost:8080/"
        },
        "id": "ONX-qpybJa_q",
        "outputId": "7051cbd7-f177-44e5-8890-b9c880a44685"
      },
      "execution_count": 3,
      "outputs": [
        {
          "output_type": "stream",
          "name": "stdout",
          "text": [
            "7 7\n",
            "8 \n",
            "10\n",
            "1\n"
          ]
        }
      ]
    },
    {
      "cell_type": "markdown",
      "source": [
        "왜이렇게 어렵고 이해하기 힘들지..."
      ],
      "metadata": {
        "id": "K1lc8iZqKu3O"
      }
    }
  ]
}