{
  "nbformat": 4,
  "nbformat_minor": 0,
  "metadata": {
    "colab": {
      "provenance": []
    },
    "kernelspec": {
      "name": "python3",
      "display_name": "Python 3"
    },
    "language_info": {
      "name": "python"
    }
  },
  "cells": [
    {
      "cell_type": "markdown",
      "source": [
        "# 24267. 알고리즘 수업 - 알고리즘의 수행 시간 6"
      ],
      "metadata": {
        "id": "sJWvFwM7rSXv"
      }
    },
    {
      "cell_type": "markdown",
      "source": [
        "https://www.acmicpc.net/problem/24267"
      ],
      "metadata": {
        "id": "gIVxfbX8rvtJ"
      }
    },
    {
      "cell_type": "markdown",
      "source": [
        "### 문제  \n",
        "오늘도 서준이는 알고리즘의 수행시간 수업 조교를 하고 있다. 아빠가 수업한 내용을 학생들이 잘 이해했는지 문제를 통해서 확인해보자.\n",
        "\n",
        "입력의 크기 n이 주어지면 MenOfPassion 알고리즘 수행 시간을 예제 출력과 같은 방식으로 출력해보자.\n",
        "\n",
        "MenOfPassion 알고리즘은 다음과 같다."
      ],
      "metadata": {
        "id": "uPfblfYvMfpW"
      }
    },
    {
      "cell_type": "code",
      "source": [
        "MenOfPassion(A[], n) {\n",
        "    sum <- 0;\n",
        "    for i <- 1 to n - 2\n",
        "        for j <- i + 1 to n - 1\n",
        "            for k <- j + 1 to n\n",
        "                sum <- sum + A[i] × A[j] × A[k]; # 코드1\n",
        "    return sum;\n",
        "}"
      ],
      "metadata": {
        "id": "dR9WjnLN5G8m"
      },
      "execution_count": null,
      "outputs": []
    },
    {
      "cell_type": "markdown",
      "source": [
        "### 입력\n",
        "첫째 줄에 입력의 크기 n(1 ≤ n ≤ 500,000)이 주어진다."
      ],
      "metadata": {
        "id": "qMfElmBhcAnU"
      }
    },
    {
      "cell_type": "markdown",
      "source": [
        "### 출력  \n",
        "첫째 줄에 코드1 의 수행 횟수를 출력한다.\n",
        "\n",
        "둘째 줄에 코드1의 수행 횟수를 다항식으로 나타내었을 때, 최고차항의 차수를 출력한다. 단, 다항식으로 나타낼 수 없거나 최고차항의 차수가 3보다 크면 4를 출력한다."
      ],
      "metadata": {
        "id": "edYxK89_cFs5"
      }
    },
    {
      "cell_type": "markdown",
      "source": [
        "-------------------------------------------------"
      ],
      "metadata": {
        "id": "juqIAnJSjq_x"
      }
    },
    {
      "cell_type": "markdown",
      "source": [
        "# 풀이"
      ],
      "metadata": {
        "id": "8H5AdKJGj3XI"
      }
    },
    {
      "cell_type": "markdown",
      "source": [
        "7예시로 하면\n",
        "\n",
        "첫 번째 for문은 1, 2, 3, 4, 5 까지 실행\n",
        "첫 번째 for문이 1일 때,  \n",
        "두 번째 for문은 2, 3, 4, 5, 6 까지 실행  \n",
        "첫 번짜 for문이 1, 두번 째 for문이 2 일 땐\n",
        "세 번째 for문이 3, 4, 5, 6, 7 까지 실행  \n",
        "\n",
        ">  1 부터 n까지의 숫자중 3가지를 뽑아 중복 없이, 크기 순으로 작성하는 경우의 수가 수행 횟수가 된다\n",
        "\n",
        "$ _nC_3 = (n!)/(n-3)!*3! $\n",
        "\n",
        "계산하면 $(n-2)(n-1)n / 6$ 이다.\n",
        "\n",
        "\n",
        "\n",
        "\n",
        "\n"
      ],
      "metadata": {
        "id": "JPZAS7gBhKom"
      }
    },
    {
      "cell_type": "code",
      "source": [
        "n = int(input())\n",
        "print((n * (n - 1) * (n - 2)) // 6)    # 정수 나눗셈 연산자 // 사용\n",
        "print(3)"
      ],
      "metadata": {
        "colab": {
          "base_uri": "https://localhost:8080/"
        },
        "id": "Z-NJ_JJHWVH9",
        "outputId": "bb1e0e57-927e-4d9e-87d5-4bfed0058b31"
      },
      "execution_count": 2,
      "outputs": [
        {
          "output_type": "stream",
          "name": "stdout",
          "text": [
            "7\n",
            "35\n",
            "3\n"
          ]
        }
      ]
    },
    {
      "cell_type": "markdown",
      "source": [
        "/ 이거 하나만 쓰면 부동소수점까지 출력되므로, // 이거 두개써야한다!!"
      ],
      "metadata": {
        "id": "KDlKG2RyeraK"
      }
    }
  ]
}