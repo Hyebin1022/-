{
  "nbformat": 4,
  "nbformat_minor": 0,
  "metadata": {
    "colab": {
      "provenance": []
    },
    "kernelspec": {
      "name": "python3",
      "display_name": "Python 3"
    },
    "language_info": {
      "name": "python"
    }
  },
  "cells": [
    {
      "cell_type": "markdown",
      "source": [
        "# 24263. 알고리즘 수업 - 알고리즘의 수행 시간 2"
      ],
      "metadata": {
        "id": "sJWvFwM7rSXv"
      }
    },
    {
      "cell_type": "markdown",
      "source": [
        "https://www.acmicpc.net/problem/24263"
      ],
      "metadata": {
        "id": "gIVxfbX8rvtJ"
      }
    },
    {
      "cell_type": "markdown",
      "source": [
        "### 문제  \n",
        "오늘도 서준이는 알고리즘의 수행시간 수업 조교를 하고 있다. 아빠가 수업한 내용을 학생들이 잘 이해했는지 문제를 통해서 확인해보자.\n",
        "\n",
        "입력의 크기 n이 주어지면 MenOfPassion 알고리즘 수행 시간을 예제 출력과 같은 방식으로 출력해보자.\n",
        "\n",
        "MenOfPassion 알고리즘은 다음과 같다."
      ],
      "metadata": {
        "id": "uPfblfYvMfpW"
      }
    },
    {
      "cell_type": "code",
      "source": [
        "MenOfPassion(A[], n) {\n",
        "    sum <- 0;\n",
        "    for i <- 1 to n\n",
        "        sum <- sum + A[i]; # 코드1\n",
        "    return sum;\n",
        "}"
      ],
      "metadata": {
        "id": "y3NZRZSWXMkW"
      },
      "execution_count": null,
      "outputs": []
    },
    {
      "cell_type": "markdown",
      "source": [
        "### 입력\n",
        "첫째 줄에 입력의 크기 n(1 ≤ n ≤ 500,000)이 주어진다."
      ],
      "metadata": {
        "id": "qMfElmBhcAnU"
      }
    },
    {
      "cell_type": "markdown",
      "source": [
        "### 출력  \n",
        "첫째 줄에 코드1 의 수행 횟수를 출력한다.\n",
        "\n",
        "둘째 줄에 코드1의 수행 횟수를 다항식으로 나타내었을 때, 최고차항의 차수를 출력한다. 단, 다항식으로 나타낼 수 없거나 최고차항의 차수가 3보다 크면 4를 출력한다."
      ],
      "metadata": {
        "id": "edYxK89_cFs5"
      }
    },
    {
      "cell_type": "markdown",
      "source": [
        "-------------------------------------------------"
      ],
      "metadata": {
        "id": "juqIAnJSjq_x"
      }
    },
    {
      "cell_type": "markdown",
      "source": [
        "# 풀이"
      ],
      "metadata": {
        "id": "8H5AdKJGj3XI"
      }
    },
    {
      "cell_type": "markdown",
      "source": [
        "1. 두 알고리즘의 수행 시간을 이해\n",
        "2. 첫 번째 알고리즘의 수행 시간인\n",
        " N초와 두 번째 알고리즘의 수행 시간인 1초를 비교하여, 두 번째 알고리즘이 몇 배 더 효율적인지를 계산"
      ],
      "metadata": {
        "id": "t0b64tBmYVZ0"
      }
    },
    {
      "cell_type": "code",
      "source": [
        "print(input())\n",
        "print(1)"
      ],
      "metadata": {
        "colab": {
          "base_uri": "https://localhost:8080/"
        },
        "id": "Z-NJ_JJHWVH9",
        "outputId": "73b937b8-645a-4f8d-cbe6-a91eae51ad56"
      },
      "execution_count": 2,
      "outputs": [
        {
          "output_type": "stream",
          "name": "stdout",
          "text": [
            "7\n",
            "7\n",
            "1\n"
          ]
        }
      ]
    },
    {
      "cell_type": "markdown",
      "source": [
        "위 문제는 지난 문제와 동일한 구조이지만 시간 복잡도를 구할 알고리즘의 변화가 생겼다.  \n",
        "\n",
        "for 문이라는 반복이 생긴 것이다.  \n",
        "\n",
        "위 알고리즘의 시간 복잡도를 O(n) 으로 표기했을 시, O(n) = n 이 되기 때문에, 입력 받은 수를 그대로 출력하면 된다.  \n",
        "\n",
        "최고 차항은 n 이기 때문에 항상 1을 출력하면 된다.    "
      ],
      "metadata": {
        "id": "9YwF3f0cX1oS"
      }
    }
  ]
}