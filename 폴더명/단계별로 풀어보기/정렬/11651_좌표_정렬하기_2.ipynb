{
  "nbformat": 4,
  "nbformat_minor": 0,
  "metadata": {
    "colab": {
      "provenance": []
    },
    "kernelspec": {
      "name": "python3",
      "display_name": "Python 3"
    },
    "language_info": {
      "name": "python"
    }
  },
  "cells": [
    {
      "cell_type": "markdown",
      "source": [
        "# 11651. 좌표 정렬하기 2"
      ],
      "metadata": {
        "id": "sJWvFwM7rSXv"
      }
    },
    {
      "cell_type": "markdown",
      "source": [
        "https://www.acmicpc.net/problem/11651"
      ],
      "metadata": {
        "id": "gIVxfbX8rvtJ"
      }
    },
    {
      "cell_type": "markdown",
      "source": [
        "### 문제  \n",
        "2차원 평면 위의 점 N개가 주어진다. 좌표를 y좌표가 증가하는 순으로, y좌표가 같으면 x좌표가 증가하는 순서로 정렬한 다음 출력하는 프로그램을 작성하시오."
      ],
      "metadata": {
        "id": "uPfblfYvMfpW"
      }
    },
    {
      "cell_type": "markdown",
      "source": [
        "### 입력\n",
        "첫째 줄에 점의 개수 N (1 ≤ N ≤ 100,000)이 주어진다. 둘째 줄부터 N개의 줄에는 i번점의 위치 xi와 yi가 주어진다. (-100,000 ≤ xi, yi ≤ 100,000) 좌표는 항상 정수이고, 위치가 같은 두 점은 없다."
      ],
      "metadata": {
        "id": "qMfElmBhcAnU"
      }
    },
    {
      "cell_type": "markdown",
      "source": [
        "### 출력\n",
        "\n",
        "첫째 줄부터 N개의 줄에 점을 정렬한 결과를 출력한다."
      ],
      "metadata": {
        "id": "edYxK89_cFs5"
      }
    },
    {
      "cell_type": "markdown",
      "source": [
        "-------------------------------------------------"
      ],
      "metadata": {
        "id": "juqIAnJSjq_x"
      }
    },
    {
      "cell_type": "markdown",
      "source": [
        "# 풀이"
      ],
      "metadata": {
        "id": "8H5AdKJGj3XI"
      }
    },
    {
      "cell_type": "code",
      "source": [
        "N = int(input())  # 점의 개수\n",
        "\n",
        "# 숫자 쌍을 저장할 빈 리스트를 초기화합니다.\n",
        "pairs = []\n",
        "\n",
        "# N 횟수만큼 반복하여 사용자로부터 숫자 쌍을 입력받습니다.\n",
        "for _ in range(N):\n",
        "    # 입력받은 문자열을 공백을 기준으로 나눈 후 정수로 변환하여 first와 second 변수에 저장합니다.\n",
        "    first, second = map(int, input().split())\n",
        "    # [first, second] 리스트를 pairs 리스트에 추가합니다.\n",
        "    pairs.append([first, second])\n",
        "\n",
        "# 입력받은 숫자 쌍을 첫 번째 요소를 기준으로 오름차순 정렬\n",
        "pairs.sort(key=lambda x: x[1])\n",
        "\n",
        "# 정렬된 숫자 쌍을 차례대로 출력\n",
        "for pair in pairs:\n",
        "    print(pair[0], pair[1])"
      ],
      "metadata": {
        "id": "LrH6ad68zMO4",
        "colab": {
          "base_uri": "https://localhost:8080/"
        },
        "outputId": "a76623c6-4eca-4da4-904a-3082783f2bf2"
      },
      "execution_count": 1,
      "outputs": [
        {
          "output_type": "stream",
          "name": "stdout",
          "text": [
            "5\n",
            "0 4\n",
            "1 2\n",
            "1 -1\n",
            "2 2\n",
            "3 3\n",
            "1 -1\n",
            "1 2\n",
            "2 2\n",
            "3 3\n",
            "0 4\n"
          ]
        }
      ]
    }
  ]
}