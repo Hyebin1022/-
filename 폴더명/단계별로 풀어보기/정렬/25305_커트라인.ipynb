{
  "nbformat": 4,
  "nbformat_minor": 0,
  "metadata": {
    "colab": {
      "provenance": []
    },
    "kernelspec": {
      "name": "python3",
      "display_name": "Python 3"
    },
    "language_info": {
      "name": "python"
    }
  },
  "cells": [
    {
      "cell_type": "markdown",
      "source": [
        "# 25305. 커트라인"
      ],
      "metadata": {
        "id": "sJWvFwM7rSXv"
      }
    },
    {
      "cell_type": "markdown",
      "source": [
        "https://www.acmicpc.net/problem/25305"
      ],
      "metadata": {
        "id": "gIVxfbX8rvtJ"
      }
    },
    {
      "cell_type": "markdown",
      "source": [
        "### 문제  \n",
        "2022 연세대학교 미래캠퍼스 슬기로운 코딩생활에\n",
        "$N$명의 학생들이 응시했다.\n",
        "\n",
        "이들 중 점수가 가장 높은\n",
        "$k$명은 상을 받을 것이다. 이 때, 상을 받는 커트라인이 몇 점인지 구하라.\n",
        "\n",
        "커트라인이란 상을 받는 사람들 중 점수가 가장 가장 낮은 사람의 점수를 말한다."
      ],
      "metadata": {
        "id": "uPfblfYvMfpW"
      }
    },
    {
      "cell_type": "markdown",
      "source": [
        "### 입력\n",
        "첫째 줄에는 응시자의 수\n",
        "$N$과 상을 받는 사람의 수\n",
        "$k$가 공백을 사이에 두고 주어진다.\n",
        "\n",
        "둘째 줄에는 각 학생의 점수\n",
        "$x$가 공백을 사이에 두고 주어진다."
      ],
      "metadata": {
        "id": "qMfElmBhcAnU"
      }
    },
    {
      "cell_type": "markdown",
      "source": [
        "### 출력\n",
        "상을 받는 커트라인을 출력하라."
      ],
      "metadata": {
        "id": "edYxK89_cFs5"
      }
    },
    {
      "cell_type": "markdown",
      "source": [
        "### 제한"
      ],
      "metadata": {
        "id": "6ncImsls3zs9"
      }
    },
    {
      "cell_type": "markdown",
      "source": [
        "\n",
        "* $1 ≤ N ≤ 1\\,000$\n",
        "\n",
        "* $1 ≤ k ≤ N$\n",
        "\n",
        "* $0 ≤ x ≤ 10\\,000$"
      ],
      "metadata": {
        "id": "2EXJ62JT36X1"
      }
    },
    {
      "cell_type": "markdown",
      "source": [
        "-------------------------------------------------"
      ],
      "metadata": {
        "id": "juqIAnJSjq_x"
      }
    },
    {
      "cell_type": "markdown",
      "source": [
        "# 풀이"
      ],
      "metadata": {
        "id": "8H5AdKJGj3XI"
      }
    },
    {
      "cell_type": "code",
      "source": [
        "N, K = map(int,input().split())\n",
        "A = map(int,input().split())\n",
        "\n",
        "A = sorted(A, reverse=True)\n",
        "print(A[K-1])"
      ],
      "metadata": {
        "colab": {
          "base_uri": "https://localhost:8080/"
        },
        "id": "QjBssb3dwkL5",
        "outputId": "f2ace68f-05a5-4248-81e6-0349f30f94fd"
      },
      "execution_count": 5,
      "outputs": [
        {
          "output_type": "stream",
          "name": "stdout",
          "text": [
            "5 2\n",
            "100 76 85 93 98\n",
            "98\n"
          ]
        }
      ]
    }
  ]
}