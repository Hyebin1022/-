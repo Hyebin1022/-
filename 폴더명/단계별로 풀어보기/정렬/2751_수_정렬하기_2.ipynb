{
  "nbformat": 4,
  "nbformat_minor": 0,
  "metadata": {
    "colab": {
      "provenance": []
    },
    "kernelspec": {
      "name": "python3",
      "display_name": "Python 3"
    },
    "language_info": {
      "name": "python"
    }
  },
  "cells": [
    {
      "cell_type": "markdown",
      "source": [
        "# 2751. 수 정렬하기 2"
      ],
      "metadata": {
        "id": "sJWvFwM7rSXv"
      }
    },
    {
      "cell_type": "markdown",
      "source": [
        "https://www.acmicpc.net/problem/2751"
      ],
      "metadata": {
        "id": "gIVxfbX8rvtJ"
      }
    },
    {
      "cell_type": "markdown",
      "source": [
        "### 문제  \n",
        "N개의 수가 주어졌을 때, 이를 오름차순으로 정렬하는 프로그램을 작성하시오."
      ],
      "metadata": {
        "id": "uPfblfYvMfpW"
      }
    },
    {
      "cell_type": "markdown",
      "source": [
        "### 입력\n",
        "첫째 줄에 수의 개수 N(1 ≤ N ≤ 1,000,000)이 주어진다. 둘째 줄부터 N개의 줄에는 수가 주어진다. 이 수는 절댓값이 1,000,000보다 작거나 같은 정수이다. 수는 중복되지 않는다."
      ],
      "metadata": {
        "id": "qMfElmBhcAnU"
      }
    },
    {
      "cell_type": "markdown",
      "source": [
        "### 출력\n",
        "\n",
        "\n",
        "첫째 줄부터 N개의 줄에 오름차순으로 정렬한 결과를 한 줄에 하나씩 출력한다."
      ],
      "metadata": {
        "id": "edYxK89_cFs5"
      }
    },
    {
      "cell_type": "markdown",
      "source": [
        "-------------------------------------------------"
      ],
      "metadata": {
        "id": "FRSK4RLeG03N"
      }
    },
    {
      "cell_type": "markdown",
      "source": [
        "# 풀이"
      ],
      "metadata": {
        "id": "8H5AdKJGj3XI"
      }
    },
    {
      "cell_type": "code",
      "source": [
        "############ 시간초과 나온 풀이\n",
        "\n",
        "N = int(input(\"개수 입력받기: \"))  # 개수를 정수로 입력받기\n",
        "A = []\n",
        "\n",
        "for _ in range(N):\n",
        "    num = int(input(\"숫자 입력: \"))\n",
        "    A.append(num)\n",
        "\n",
        "A.sort()  # 리스트 정렬\n",
        "for num in A:\n",
        "    print(num)  # 정렬된 숫자 출력"
      ],
      "metadata": {
        "colab": {
          "base_uri": "https://localhost:8080/"
        },
        "id": "BOQSSfbgH5V1",
        "outputId": "2e355d91-9852-4d68-afed-162e80ae7133"
      },
      "execution_count": null,
      "outputs": [
        {
          "output_type": "stream",
          "name": "stdout",
          "text": [
            "개수 입력받기: 5\n",
            "숫자 입력: 5\n",
            "숫자 입력: 4\n",
            "숫자 입력: 3\n",
            "숫자 입력: 2\n",
            "숫자 입력: 1\n",
            "1\n",
            "2\n",
            "3\n",
            "4\n",
            "5\n"
          ]
        }
      ]
    },
    {
      "cell_type": "code",
      "source": [
        "num=int(input())\n",
        "numbers=[]\n",
        "for i in range(num):\n",
        "    numbers.append(int(input()))\n",
        "for i in sorted(numbers):\n",
        "    print(i)"
      ],
      "metadata": {
        "id": "_39sWARKt0Hv",
        "outputId": "4f50a863-356b-484d-9c33-04fb973a2016",
        "colab": {
          "base_uri": "https://localhost:8080/"
        }
      },
      "execution_count": null,
      "outputs": [
        {
          "output_type": "stream",
          "name": "stdout",
          "text": [
            "5\n",
            "5\n",
            "4\n",
            "3\n",
            "2\n",
            "1\n",
            "1\n",
            "2\n",
            "3\n",
            "4\n",
            "5\n"
          ]
        }
      ]
    },
    {
      "cell_type": "markdown",
      "source": [
        "이 문제 시간초과 때문에 2시간은 쓴거 같다.\n",
        "결론은 제출을 pypy3으로 했다.\n",
        "\n",
        "    \n",
        "Python 자체가 많이 느리니깐 앞으로 코드가 맞는 코드인데 시간초과가 뜨면 pypy3으로 제출해봐야겠다."
      ],
      "metadata": {
        "id": "83QQihvxz5Qi"
      }
    }
  ]
}