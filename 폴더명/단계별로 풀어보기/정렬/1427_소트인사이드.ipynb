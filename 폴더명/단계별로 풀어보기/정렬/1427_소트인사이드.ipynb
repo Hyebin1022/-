{
  "nbformat": 4,
  "nbformat_minor": 0,
  "metadata": {
    "colab": {
      "provenance": []
    },
    "kernelspec": {
      "name": "python3",
      "display_name": "Python 3"
    },
    "language_info": {
      "name": "python"
    }
  },
  "cells": [
    {
      "cell_type": "markdown",
      "source": [
        "# 1427. 소트인사이드"
      ],
      "metadata": {
        "id": "sJWvFwM7rSXv"
      }
    },
    {
      "cell_type": "markdown",
      "source": [
        "https://www.acmicpc.net/problem/1427"
      ],
      "metadata": {
        "id": "gIVxfbX8rvtJ"
      }
    },
    {
      "cell_type": "markdown",
      "source": [
        "### 문제  \n",
        "배열을 정렬하는 것은 쉽다. 수가 주어지면, 그 수의 각 자리수를 내림차순으로 정렬해보자."
      ],
      "metadata": {
        "id": "uPfblfYvMfpW"
      }
    },
    {
      "cell_type": "markdown",
      "source": [
        "### 입력\n",
        "첫째 줄에 정렬하려고 하는 수 N이 주어진다. N은 1,000,000,000보다 작거나 같은 자연수이다."
      ],
      "metadata": {
        "id": "qMfElmBhcAnU"
      }
    },
    {
      "cell_type": "markdown",
      "source": [
        "### 출력\n",
        "\n",
        "첫째 줄에 자리수를 내림차순으로 정렬한 수를 출력한다."
      ],
      "metadata": {
        "id": "edYxK89_cFs5"
      }
    },
    {
      "cell_type": "markdown",
      "source": [
        "-------------------------------------------------"
      ],
      "metadata": {
        "id": "juqIAnJSjq_x"
      }
    },
    {
      "cell_type": "markdown",
      "source": [
        "# 풀이"
      ],
      "metadata": {
        "id": "8H5AdKJGj3XI"
      }
    },
    {
      "cell_type": "code",
      "source": [
        "N = input()\n",
        "sort_N = sorted(N, reverse=True)\n",
        "sorted_number = int(\"\".join(sort_N))\n",
        "\n",
        "print(sorted_number)"
      ],
      "metadata": {
        "colab": {
          "base_uri": "https://localhost:8080/"
        },
        "id": "LrH6ad68zMO4",
        "outputId": "c27e46f4-8ab2-4dbe-eed0-1decb15d6946"
      },
      "execution_count": 5,
      "outputs": [
        {
          "output_type": "stream",
          "name": "stdout",
          "text": [
            "2143\n",
            "4321\n"
          ]
        }
      ]
    }
  ]
}