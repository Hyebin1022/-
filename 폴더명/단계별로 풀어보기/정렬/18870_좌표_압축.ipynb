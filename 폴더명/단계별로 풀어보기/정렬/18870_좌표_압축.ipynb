{
  "nbformat": 4,
  "nbformat_minor": 0,
  "metadata": {
    "colab": {
      "provenance": []
    },
    "kernelspec": {
      "name": "python3",
      "display_name": "Python 3"
    },
    "language_info": {
      "name": "python"
    }
  },
  "cells": [
    {
      "cell_type": "markdown",
      "source": [
        "# 18870. 좌표 압축"
      ],
      "metadata": {
        "id": "sJWvFwM7rSXv"
      }
    },
    {
      "cell_type": "markdown",
      "source": [
        "https://www.acmicpc.net/problem/18870"
      ],
      "metadata": {
        "id": "gIVxfbX8rvtJ"
      }
    },
    {
      "cell_type": "markdown",
      "source": [
        "### 문제  \n",
        "수직선 위에 N개의 좌표 X1, X2, ..., XN이 있다. 이 좌표에 좌표 압축을 적용하려고 한다.\n",
        "\n",
        "Xi를 좌표 압축한 결과 X'i의 값은 Xi > Xj를 만족하는 서로 다른 좌표 Xj의 개수와 같아야 한다.\n",
        "\n",
        "X1, X2, ..., XN에 좌표 압축을 적용한 결과 X'1, X'2, ..., X'N를 출력해보자.."
      ],
      "metadata": {
        "id": "uPfblfYvMfpW"
      }
    },
    {
      "cell_type": "markdown",
      "source": [
        "### 입력\n",
        "첫째 줄에 N이 주어진다.\n",
        "\n",
        "둘째 줄에는 공백 한 칸으로 구분된 X1, X2, ..., XN이 주어진다."
      ],
      "metadata": {
        "id": "qMfElmBhcAnU"
      }
    },
    {
      "cell_type": "markdown",
      "source": [
        "### 출력\n",
        "\n",
        "첫째 줄에 X'1, X'2, ..., X'N을 공백 한 칸으로 구분해서 출력한다.\n",
        "\n"
      ],
      "metadata": {
        "id": "edYxK89_cFs5"
      }
    },
    {
      "cell_type": "markdown",
      "source": [
        "### 제한\n",
        "\n",
        "\n",
        "*  1 ≤ N ≤ 1,000,000\n",
        "*  $-10^9 ≤ Xi ≤ 10^9$\n"
      ],
      "metadata": {
        "id": "D-TQW-EehQm9"
      }
    },
    {
      "cell_type": "markdown",
      "source": [
        "-------------------------------------------------"
      ],
      "metadata": {
        "id": "juqIAnJSjq_x"
      }
    },
    {
      "cell_type": "markdown",
      "source": [
        "# 풀이"
      ],
      "metadata": {
        "id": "8H5AdKJGj3XI"
      }
    },
    {
      "cell_type": "markdown",
      "source": [
        "1. 입력받기\n",
        "2. 주어진 좌표들 중복 제거한 상태로 정렬\n",
        "3. 정렬된 좌표 리스트에서 각 좌표 인덱스 기록\n",
        "4. 원래 좌표 리스트의 각 좌표를 정렬된 리스트에서의 인덱스로 대체"
      ],
      "metadata": {
        "id": "VB_kqBvtHxLf"
      }
    },
    {
      "cell_type": "code",
      "source": [
        "n = int(input())       # 좌표 개수\n",
        "arr = list(map(int, input().split()))  # 입력받은 좌표들을 공백으로 구분하여 리스트로 저장\n",
        "\n",
        "sortArr = sorted(list(set(arr)))  # 리스트에서 중복된 요소를 제거\n",
        "dic = {}\n",
        "for idx, item in enumerate(sortArr):  # 요소, 인덱스 동시 반환\n",
        "    dic[item] = idx\n",
        "\n",
        "for item in arr:\n",
        "    print(dic[item], end = ' ')"
      ],
      "metadata": {
        "id": "LrH6ad68zMO4",
        "colab": {
          "base_uri": "https://localhost:8080/"
        },
        "outputId": "acea8a9b-2478-41b8-8987-d4e669c3607b"
      },
      "execution_count": 1,
      "outputs": [
        {
          "output_type": "stream",
          "name": "stdout",
          "text": [
            "5\n",
            "2 4 -10 4 -9\n",
            "2 3 0 3 1 "
          ]
        }
      ]
    }
  ]
}