{
  "nbformat": 4,
  "nbformat_minor": 0,
  "metadata": {
    "colab": {
      "provenance": []
    },
    "kernelspec": {
      "name": "python3",
      "display_name": "Python 3"
    },
    "language_info": {
      "name": "python"
    }
  },
  "cells": [
    {
      "cell_type": "markdown",
      "source": [
        "# 1181. 단어 정렬"
      ],
      "metadata": {
        "id": "sJWvFwM7rSXv"
      }
    },
    {
      "cell_type": "markdown",
      "source": [
        "https://www.acmicpc.net/problem/1181"
      ],
      "metadata": {
        "id": "gIVxfbX8rvtJ"
      }
    },
    {
      "cell_type": "markdown",
      "source": [
        "### 문제  \n",
        "알파벳 소문자로 이루어진 N개의 단어가 들어오면 아래와 같은 조건에 따라 정렬하는 프로그램을 작성하시오.\n",
        "\n",
        "1.   길이가 짧은 것부터\n",
        "2.   길이가 같으면 사전 순으로\n",
        "\n",
        "단, 중복된 단어는 하나만 남기고 제거해야 한다."
      ],
      "metadata": {
        "id": "uPfblfYvMfpW"
      }
    },
    {
      "cell_type": "markdown",
      "source": [
        "### 입력\n",
        "첫째 줄에 단어의 개수 N이 주어진다. (1 ≤ N ≤ 20,000) 둘째 줄부터 N개의 줄에 걸쳐 알파벳 소문자로 이루어진 단어가 한 줄에 하나씩 주어진다. 주어지는 문자열의 길이는 50을 넘지 않는다."
      ],
      "metadata": {
        "id": "qMfElmBhcAnU"
      }
    },
    {
      "cell_type": "markdown",
      "source": [
        "### 출력\n",
        "\n",
        "조건에 따라 정렬하여 단어들을 출력한다."
      ],
      "metadata": {
        "id": "edYxK89_cFs5"
      }
    },
    {
      "cell_type": "markdown",
      "source": [
        "-------------------------------------------------"
      ],
      "metadata": {
        "id": "juqIAnJSjq_x"
      }
    },
    {
      "cell_type": "markdown",
      "source": [
        "# 풀이"
      ],
      "metadata": {
        "id": "8H5AdKJGj3XI"
      }
    },
    {
      "cell_type": "markdown",
      "source": [
        "1. 입력받기\n",
        "2. 중복된 단어 제거\n",
        "3. 단어 정렬하기 ( 길이, 사전순)\n",
        "4. 출력"
      ],
      "metadata": {
        "id": "VB_kqBvtHxLf"
      }
    },
    {
      "cell_type": "code",
      "source": [
        "# 입력을 받습니다.\n",
        "N = int(input())  # 단어의 개수\n",
        "words = []\n",
        "\n",
        "# N개의 단어를 입력받아 리스트에 저장합니다.\n",
        "for _ in range(N):\n",
        "    word = input().strip()\n",
        "    words.append(word)\n",
        "\n",
        "# 중복된 단어를 제거하기 위해 set을 사용합니다.\n",
        "unique_words = list(set(words))\n",
        "\n",
        "# 정렬합니다. 첫 번째 기준은 길이, 두 번째 기준은 사전 순.\n",
        "unique_words.sort(key=lambda x: (len(x), x))\n",
        "\n",
        "# 정렬된 단어들을 출력합니다.\n",
        "for word in unique_words:\n",
        "    print(word)\n"
      ],
      "metadata": {
        "id": "LrH6ad68zMO4",
        "colab": {
          "base_uri": "https://localhost:8080/"
        },
        "outputId": "ddbf7dbb-1997-4006-d018-5698e38b91d8"
      },
      "execution_count": null,
      "outputs": [
        {
          "output_type": "stream",
          "name": "stdout",
          "text": [
            "13\n",
            "but\n",
            "i\n",
            "wont\n",
            "hesitate\n",
            "no\n",
            "more\n",
            "no\n",
            "more\n",
            "it\n",
            "cannot\n",
            "wait\n",
            "im\n",
            "yours\n",
            "i\n",
            "im\n",
            "it\n",
            "no\n",
            "but\n",
            "more\n",
            "wait\n",
            "wont\n",
            "yours\n",
            "cannot\n",
            "hesitate\n"
          ]
        }
      ]
    }
  ]
}