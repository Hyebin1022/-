{
  "nbformat": 4,
  "nbformat_minor": 0,
  "metadata": {
    "colab": {
      "provenance": []
    },
    "kernelspec": {
      "name": "python3",
      "display_name": "Python 3"
    },
    "language_info": {
      "name": "python"
    }
  },
  "cells": [
    {
      "cell_type": "markdown",
      "source": [
        "# 11653. 소인수분해\n",
        "\n",
        "\n"
      ],
      "metadata": {
        "id": "sJWvFwM7rSXv"
      }
    },
    {
      "cell_type": "markdown",
      "source": [
        "https://www.acmicpc.net/problem/11653"
      ],
      "metadata": {
        "id": "gIVxfbX8rvtJ"
      }
    },
    {
      "cell_type": "markdown",
      "source": [
        "### 문제  \n",
        "정수 N이 주어졌을 때, 소인수분해하는 프로그램을 작성하시오."
      ],
      "metadata": {
        "id": "uPfblfYvMfpW"
      }
    },
    {
      "cell_type": "markdown",
      "source": [
        "### 입력\n",
        "첫째 줄에 정수 N (1 ≤ N ≤ 10,000,000)이 주어진다."
      ],
      "metadata": {
        "id": "qMfElmBhcAnU"
      }
    },
    {
      "cell_type": "markdown",
      "source": [
        "### 출력  \n",
        "N의 소인수분해 결과를 한 줄에 하나씩 오름차순으로 출력한다. N이 1인 경우 아무것도 출력하지 않는다."
      ],
      "metadata": {
        "id": "edYxK89_cFs5"
      }
    },
    {
      "cell_type": "markdown",
      "source": [
        "-------------------------------------------------"
      ],
      "metadata": {
        "id": "juqIAnJSjq_x"
      }
    },
    {
      "cell_type": "markdown",
      "source": [
        "# 풀이"
      ],
      "metadata": {
        "id": "8H5AdKJGj3XI"
      }
    },
    {
      "cell_type": "markdown",
      "source": [
        "### 내가 생각한 알고리즘\n",
        "\n",
        "1. range 범위를 입력받은 숫자로하기\n",
        "2. for 문 안에서 나눈 숫자로 입력받은 숫자 수 나누기\n",
        "3. while 로 숫자가 1이 될 때까지 진행하기"
      ],
      "metadata": {
        "id": "3jUZzK2MREPX"
      }
    },
    {
      "cell_type": "code",
      "source": [
        "##### 숫자 입력\n",
        "num = int(input())\n",
        "\n",
        "if num == 1:\n",
        "    print('')\n",
        "\n",
        "\n",
        "###### 소인수분해 함수 정의\n",
        "def Factorization(num):\n",
        "    while num !=1 :\n",
        "      #for i in range(2,num**0.5):   # range 에서 오류난다.\n",
        "      for i in range(2, int(num**0.5)+1):\n",
        "        if num % i == 0: # 약수이면\n",
        "          while num % i == 0:\n",
        "            print(i)\n",
        "            num = num / i\n",
        "\n",
        "# 함수 호출\n",
        "Factorization(num)"
      ],
      "metadata": {
        "colab": {
          "base_uri": "https://localhost:8080/",
          "height": 342
        },
        "id": "kxnz4CNuRQW0",
        "outputId": "be79a7db-9c29-4d48-9241-a3e1830b3b94"
      },
      "execution_count": 9,
      "outputs": [
        {
          "output_type": "stream",
          "name": "stdout",
          "text": [
            "6\n",
            "2\n"
          ]
        },
        {
          "output_type": "error",
          "ename": "KeyboardInterrupt",
          "evalue": "",
          "traceback": [
            "\u001b[0;31m---------------------------------------------------------------------------\u001b[0m",
            "\u001b[0;31mKeyboardInterrupt\u001b[0m                         Traceback (most recent call last)",
            "\u001b[0;32m<ipython-input-9-b663b502b1e0>\u001b[0m in \u001b[0;36m<cell line: 19>\u001b[0;34m()\u001b[0m\n\u001b[1;32m     17\u001b[0m \u001b[0;34m\u001b[0m\u001b[0m\n\u001b[1;32m     18\u001b[0m \u001b[0;31m# 함수 호출\u001b[0m\u001b[0;34m\u001b[0m\u001b[0;34m\u001b[0m\u001b[0m\n\u001b[0;32m---> 19\u001b[0;31m \u001b[0mFactorization\u001b[0m\u001b[0;34m(\u001b[0m\u001b[0mnum\u001b[0m\u001b[0;34m)\u001b[0m\u001b[0;34m\u001b[0m\u001b[0;34m\u001b[0m\u001b[0m\n\u001b[0m",
            "\u001b[0;32m<ipython-input-9-b663b502b1e0>\u001b[0m in \u001b[0;36mFactorization\u001b[0;34m(num)\u001b[0m\n\u001b[1;32m     10\u001b[0m     \u001b[0;32mwhile\u001b[0m \u001b[0mnum\u001b[0m \u001b[0;34m!=\u001b[0m\u001b[0;36m1\u001b[0m \u001b[0;34m:\u001b[0m\u001b[0;34m\u001b[0m\u001b[0;34m\u001b[0m\u001b[0m\n\u001b[1;32m     11\u001b[0m       \u001b[0;31m#for i in range(2,num**0.5):   # range 에서 오류난다.\u001b[0m\u001b[0;34m\u001b[0m\u001b[0;34m\u001b[0m\u001b[0m\n\u001b[0;32m---> 12\u001b[0;31m       \u001b[0;32mfor\u001b[0m \u001b[0mi\u001b[0m \u001b[0;32min\u001b[0m \u001b[0mrange\u001b[0m\u001b[0;34m(\u001b[0m\u001b[0;36m2\u001b[0m\u001b[0;34m,\u001b[0m \u001b[0mint\u001b[0m\u001b[0;34m(\u001b[0m\u001b[0mnum\u001b[0m\u001b[0;34m**\u001b[0m\u001b[0;36m0.5\u001b[0m\u001b[0;34m)\u001b[0m\u001b[0;34m+\u001b[0m\u001b[0;36m1\u001b[0m\u001b[0;34m)\u001b[0m\u001b[0;34m:\u001b[0m\u001b[0;34m\u001b[0m\u001b[0;34m\u001b[0m\u001b[0m\n\u001b[0m\u001b[1;32m     13\u001b[0m         \u001b[0;32mif\u001b[0m \u001b[0mnum\u001b[0m \u001b[0;34m%\u001b[0m \u001b[0mi\u001b[0m \u001b[0;34m==\u001b[0m \u001b[0;36m0\u001b[0m\u001b[0;34m:\u001b[0m \u001b[0;31m# 약수이면\u001b[0m\u001b[0;34m\u001b[0m\u001b[0;34m\u001b[0m\u001b[0m\n\u001b[1;32m     14\u001b[0m           \u001b[0;32mwhile\u001b[0m \u001b[0mnum\u001b[0m \u001b[0;34m%\u001b[0m \u001b[0mi\u001b[0m \u001b[0;34m==\u001b[0m \u001b[0;36m0\u001b[0m\u001b[0;34m:\u001b[0m\u001b[0;34m\u001b[0m\u001b[0;34m\u001b[0m\u001b[0m\n",
            "\u001b[0;31mKeyboardInterrupt\u001b[0m: "
          ]
        }
      ]
    },
    {
      "cell_type": "markdown",
      "source": [
        "range함수는 정수만을 인자로 받기 때문에 위 코드에서 오류가 났다.  \n",
        "밑의 코드는 위의 틀린코드 지피티에서 고쳐달라고 해서 고쳐준 코드.. 공부 더 해야지..   \n"
      ],
      "metadata": {
        "id": "ZDVFBFnDQUZ_"
      }
    },
    {
      "cell_type": "code",
      "source": [
        "##### 숫자 입력\n",
        "num = int(input())\n",
        "\n",
        "if num == 1:\n",
        "    print('')\n",
        "\n",
        "###### 소인수분해 함수 정의\n",
        "def Factorization(num):\n",
        "    i = 2\n",
        "    # 소수를 찾는 범위를 효율적으로 조정합니다.\n",
        "    while i * i <= num:\n",
        "        if num % i == 0:  # 만약 i가 num의 약수라면,\n",
        "            print(i)       # 해당 소수를 출력합니다.\n",
        "            num //= i      # 정수 나눗셈으로 변경하여 num을 업데이트합니다.\n",
        "        else:\n",
        "            i += 1         # 다음 소수를 찾기 위해 i를 1 증가시킵니다.\n",
        "\n",
        "    # 마지막으로 남은 num이 1이 아니라면, 그것은 소수입니다.\n",
        "    if num > 1:\n",
        "        print(num)\n",
        "\n",
        "# 함수 호출\n",
        "Factorization(num)\n"
      ],
      "metadata": {
        "colab": {
          "base_uri": "https://localhost:8080/"
        },
        "id": "sDyp3irQRXEL",
        "outputId": "d1257f91-2667-4f1d-e1a2-9a7033048092"
      },
      "execution_count": 12,
      "outputs": [
        {
          "output_type": "stream",
          "name": "stdout",
          "text": [
            "9991\n",
            "97\n",
            "103\n"
          ]
        }
      ]
    },
    {
      "cell_type": "markdown",
      "source": [
        "* 다른 방식으로 풀어본 코드"
      ],
      "metadata": {
        "id": "64vq9rIkRbpZ"
      }
    },
    {
      "cell_type": "code",
      "source": [
        "# 사용자로부터 입력을 받아 정수형으로 변환하여 변수 num에 저장합니다.\n",
        "num = int(input())\n",
        "\n",
        "# 만약 입력받은 숫자가 1이라면, 아무것도 출력하지 않고 프로그램을 종료합니다.\n",
        "if num == 1:\n",
        "    print('')\n",
        "\n",
        "###### 소인수분해 함수 정의 ######\n",
        "\n",
        "# 소인수분해를 수행하는 함수를 정의합니다.\n",
        "def Factorization(num):\n",
        "    i = 2  # 가장 작은 소수인 2부터 시작하여 소인수분해를 진행하기 위한 변수 i를 초기화합니다.\n",
        "\n",
        "    # 입력받은 숫자가 1이 될 때까지 반복합니다.\n",
        "    while num != 1:\n",
        "        # 현재의 소수인 i로 숫자를 나눌 수 있는 만큼 반복합니다.\n",
        "        while num % i == 0:  # 만약 현재의 소수 i가 num의 약수라면,\n",
        "            print(i)         # 해당 소수를 출력합니다.\n",
        "            num = num // i  # num을 해당 소수로 나눈 몫으로 업데이트합니다.\n",
        "        i += 1              # 다음 소수를 찾기 위해 i를 1 증가시킵니다.\n",
        "\n",
        "# 소인수분해 함수를 호출하여 입력받은 숫자를 소인수분해합니다.\n",
        "Factorization(num)\n",
        "\n"
      ],
      "metadata": {
        "colab": {
          "base_uri": "https://localhost:8080/"
        },
        "id": "LvoAZt_MQLIo",
        "outputId": "0e190792-cbad-494b-a2df-c46a49018262"
      },
      "execution_count": 11,
      "outputs": [
        {
          "output_type": "stream",
          "name": "stdout",
          "text": [
            "9991\n",
            "97\n",
            "103\n"
          ]
        }
      ]
    }
  ]
}