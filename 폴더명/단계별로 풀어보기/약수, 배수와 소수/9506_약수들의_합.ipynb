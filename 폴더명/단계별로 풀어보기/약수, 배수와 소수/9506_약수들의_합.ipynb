{
  "nbformat": 4,
  "nbformat_minor": 0,
  "metadata": {
    "colab": {
      "provenance": []
    },
    "kernelspec": {
      "name": "python3",
      "display_name": "Python 3"
    },
    "language_info": {
      "name": "python"
    }
  },
  "cells": [
    {
      "cell_type": "markdown",
      "source": [
        "# 9506. 약수들의 합"
      ],
      "metadata": {
        "id": "sJWvFwM7rSXv"
      }
    },
    {
      "cell_type": "markdown",
      "source": [
        "https://www.acmicpc.net/problem/9506"
      ],
      "metadata": {
        "id": "gIVxfbX8rvtJ"
      }
    },
    {
      "cell_type": "markdown",
      "source": [
        "### 문제  \n",
        "어떤 숫자 n이 자신을 제외한 모든 약수들의 합과 같으면, 그 수를 완전수라고 한다.  \n",
        "\n",
        "예를 들어 6은 6 = 1 + 2 + 3 으로 완전수이다.  \n",
        "\n",
        "n이 완전수인지 아닌지 판단해주는 프로그램을 작성하라.  "
      ],
      "metadata": {
        "id": "uPfblfYvMfpW"
      }
    },
    {
      "cell_type": "markdown",
      "source": [
        "### 입력\n",
        "입력은 테스트 케이스마다 한 줄 간격으로 n이 주어진다. (2 < n < 100,000)  \n",
        "\n",
        "입력의 마지막엔 -1이 주어진다.  "
      ],
      "metadata": {
        "id": "qMfElmBhcAnU"
      }
    },
    {
      "cell_type": "markdown",
      "source": [
        "### 출력  \n",
        "테스트케이스 마다 한줄에 하나씩 출력해야 한다.  \n",
        "\n",
        "n이 완전수라면, n을 n이 아닌 약수들의 합으로 나타내어 출력한다(예제 출력 참고).  \n",
        "\n",
        "이때, 약수들은 오름차순으로 나열해야 한다.  \n",
        "\n",
        "n이 완전수가 아니라면 n is NOT perfect. 를 출력한다.  "
      ],
      "metadata": {
        "id": "edYxK89_cFs5"
      }
    },
    {
      "cell_type": "markdown",
      "source": [
        "-------------------------------------------------"
      ],
      "metadata": {
        "id": "juqIAnJSjq_x"
      }
    },
    {
      "cell_type": "markdown",
      "source": [
        "# 풀이"
      ],
      "metadata": {
        "id": "8H5AdKJGj3XI"
      }
    },
    {
      "cell_type": "code",
      "source": [
        "####### 첫번째 시도\n",
        "\n",
        "num = int(input())\n",
        "\n",
        "measure = []   # 약수의 합들이 들어가 있음\n",
        "sum = 0\n",
        "for i in range(1, num):\n",
        "  if num % i == 0 :\n",
        "    measure.append(i)\n",
        "    sum += i\n",
        "\n",
        "if sum == num:  print(num, \" = \", \" + \".join(str(i) for i in measure), sep=\"\")\n",
        "else : print(num, \"is NOT perfect.\")"
      ],
      "metadata": {
        "colab": {
          "base_uri": "https://localhost:8080/"
        },
        "id": "XddySzwRbl9D",
        "outputId": "27f7b21e-dbdd-4b97-8271-e8409047f952"
      },
      "execution_count": 7,
      "outputs": [
        {
          "output_type": "stream",
          "name": "stdout",
          "text": [
            "6\n",
            "6 = 1 + 2 + 3\n"
          ]
        }
      ]
    },
    {
      "cell_type": "markdown",
      "source": [
        "처음에 약수에서 자기 자신을 제외하고 더해야한다는 사실을 + 입력을 여러번 해야한다는 사실을 간과해서 계속 에러가 났다."
      ],
      "metadata": {
        "id": "WvFNRrNQsLyE"
      }
    },
    {
      "cell_type": "code",
      "source": [
        "####### 두번째 시도\n",
        "\n",
        "while True:    ## 일단 입력을 무한반복으로 받아야한다.\n",
        "    num = int(input())\n",
        "    if num == -1:  # 입력의 종료 조건\n",
        "        break\n",
        "\n",
        "    measure = []  # 약수들을 저장할 리스트\n",
        "    sum = 0  # 약수들의 합을 저장할 변수\n",
        "\n",
        "    # num의 약수를 찾아서 measure에 추가하고, 약수들의 합을 구함\n",
        "    # 여기서는 num을 제외한 약수들만 고려함\n",
        "    for i in range(1, num):\n",
        "        if num % i == 0:\n",
        "            measure.append(i)\n",
        "            sum += i\n",
        "\n",
        "    # 약수들의 합과 num을 비교하여 완전수인지 판별\n",
        "    if sum == num:\n",
        "        print(num, \" = \", \" + \".join(str(i) for i in measure), sep=\"\")\n",
        "    else:\n",
        "        print(num, \"is NOT perfect.\")"
      ],
      "metadata": {
        "id": "1HQRq_jOvIb2"
      },
      "execution_count": null,
      "outputs": []
    },
    {
      "cell_type": "markdown",
      "source": [
        "#### \" + \".join(str(i) for i in measure)\n",
        "* str(i) for i in measure: 리스트 컴프리헨션을 사용하여 measure 리스트에 저장된 각 요소(i)를 문자열(str(i))로 변환합니다. measure 리스트에는 num의 약수들이 저장되어 있습니다.  \n",
        "* \" + \".join(...): join() 메서드는 인자로 받은 반복 가능한(iterable) 요소들을 특정 문자열(\" + \"에서는 더하기 기호와 공백)로 연결하여 하나의 문자열로 합칩니다. 여기서는 약수들을 문자열로 변환한 뒤, 각 약수 사이에 \" + \"를 삽입하여 모든 약수를 더하는 수식의 형태로 만듭니다.  "
      ],
      "metadata": {
        "id": "yXkRUTg9vx_k"
      }
    }
  ]
}