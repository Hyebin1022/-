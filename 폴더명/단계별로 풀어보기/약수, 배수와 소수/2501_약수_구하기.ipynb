{
  "nbformat": 4,
  "nbformat_minor": 0,
  "metadata": {
    "colab": {
      "provenance": []
    },
    "kernelspec": {
      "name": "python3",
      "display_name": "Python 3"
    },
    "language_info": {
      "name": "python"
    }
  },
  "cells": [
    {
      "cell_type": "markdown",
      "source": [
        "# 2501. 약수 구하기\n"
      ],
      "metadata": {
        "id": "sJWvFwM7rSXv"
      }
    },
    {
      "cell_type": "markdown",
      "source": [
        "https://www.acmicpc.net/problem/2501"
      ],
      "metadata": {
        "id": "gIVxfbX8rvtJ"
      }
    },
    {
      "cell_type": "markdown",
      "source": [
        "### 문제  \n",
        "어떤 자연수 p와 q가 있을 때, 만일 p를 q로 나누었을 때 나머지가 0이면 q는 p의 약수이다.   \n",
        "\n",
        "6을 예로 들면  \n",
        "\n",
        "* 6 ÷ 1 = 6 … 0  \n",
        "* 6 ÷ 2 = 3 … 0  \n",
        "* 6 ÷ 3 = 2 … 0  \n",
        "* 6 ÷ 4 = 1 … 2  \n",
        "* 6 ÷ 5 = 1 … 1  \n",
        "* 6 ÷ 6 = 1 … 0  \n",
        "그래서 6의 약수는 1, 2, 3, 6, 총 네 개이다.  \n",
        "\n",
        "두 개의 자연수 N과 K가 주어졌을 때, N의 약수들 중 K번째로 작은 수를 출력하는 프로그램을 작성하시오.    "
      ],
      "metadata": {
        "id": "uPfblfYvMfpW"
      }
    },
    {
      "cell_type": "markdown",
      "source": [
        "### 입력\n",
        "첫째 줄에 N과 K가 빈칸을 사이에 두고 주어진다. N은 1 이상 10,000 이하이다. K는 1 이상 N 이하이다."
      ],
      "metadata": {
        "id": "qMfElmBhcAnU"
      }
    },
    {
      "cell_type": "markdown",
      "source": [
        "### 출력  \n",
        "첫째 줄에 N의 약수들 중 K번째로 작은 수를 출력한다. 만일 N의 약수의 개수가 K개보다 적어서 K번째 약수가 존재하지 않을 경우에는 0을 출력하시오."
      ],
      "metadata": {
        "id": "edYxK89_cFs5"
      }
    },
    {
      "cell_type": "markdown",
      "source": [
        "-------------------------------------------------"
      ],
      "metadata": {
        "id": "juqIAnJSjq_x"
      }
    },
    {
      "cell_type": "markdown",
      "source": [
        "# 풀이"
      ],
      "metadata": {
        "id": "8H5AdKJGj3XI"
      }
    },
    {
      "cell_type": "code",
      "source": [
        "N, K = map(int, input().split()) # 숫자 입력받고\n",
        "\n",
        "measure = []\n",
        "for i in range(1, N + 1):\n",
        "    if N % i == 0:\n",
        "        measure.append(i)\n",
        "\n",
        "if len(measure) >= K:\n",
        "    print(measure[K - 1])  # 결과를 출력\n",
        "else:\n",
        "    print(0)  # K번째 약수가 존재하지 않는 경우 0을 출력\n"
      ],
      "metadata": {
        "colab": {
          "base_uri": "https://localhost:8080/"
        },
        "id": "XddySzwRbl9D",
        "outputId": "50051606-eeaa-48bb-9f22-a0901ab72151"
      },
      "execution_count": 6,
      "outputs": [
        {
          "name": "stdout",
          "output_type": "stream",
          "text": [
            "6 3\n"
          ]
        }
      ]
    }
  ]
}