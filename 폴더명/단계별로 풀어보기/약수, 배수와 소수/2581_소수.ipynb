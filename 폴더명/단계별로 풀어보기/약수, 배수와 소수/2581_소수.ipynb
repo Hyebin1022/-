{
  "nbformat": 4,
  "nbformat_minor": 0,
  "metadata": {
    "colab": {
      "provenance": []
    },
    "kernelspec": {
      "name": "python3",
      "display_name": "Python 3"
    },
    "language_info": {
      "name": "python"
    }
  },
  "cells": [
    {
      "cell_type": "markdown",
      "source": [
        "# 2581. 소수\n",
        "\n",
        "\n"
      ],
      "metadata": {
        "id": "sJWvFwM7rSXv"
      }
    },
    {
      "cell_type": "markdown",
      "source": [
        "https://www.acmicpc.net/problem/2581"
      ],
      "metadata": {
        "id": "gIVxfbX8rvtJ"
      }
    },
    {
      "cell_type": "markdown",
      "source": [
        "### 문제  \n",
        "자연수 M과 N이 주어질 때 M이상 N이하의 자연수 중 소수인 것을 모두 골라 이들 소수의 합과 최솟값을 찾는 프로그램을 작성하시오.  \n",
        "\n",
        "예를 들어 M=60, N=100인 경우 60이상 100이하의 자연수 중 소수는 61, 67, 71, 73, 79, 83, 89, 97 총 8개가 있으므로, 이들 소수의 합은 620이고, 최솟값은 61이 된다."
      ],
      "metadata": {
        "id": "uPfblfYvMfpW"
      }
    },
    {
      "cell_type": "markdown",
      "source": [
        "### 입력\n",
        "입력의 첫째 줄에 M이, 둘째 줄에 N이 주어진다.  \n",
        "\n",
        "M과 N은 10,000이하의 자연수이며, M은 N보다 작거나 같다."
      ],
      "metadata": {
        "id": "qMfElmBhcAnU"
      }
    },
    {
      "cell_type": "markdown",
      "source": [
        "### 출력  \n",
        "M이상 N이하의 자연수 중 소수인 것을 모두 찾아 첫째 줄에 그 합을, 둘째 줄에 그 중 최솟값을 출력한다.   \n",
        "\n",
        "단, M이상 N이하의 자연수 중 소수가 없을 경우는 첫째 줄에 -1을 출력한다.   "
      ],
      "metadata": {
        "id": "edYxK89_cFs5"
      }
    },
    {
      "cell_type": "markdown",
      "source": [
        "-------------------------------------------------"
      ],
      "metadata": {
        "id": "juqIAnJSjq_x"
      }
    },
    {
      "cell_type": "markdown",
      "source": [
        "# 풀이"
      ],
      "metadata": {
        "id": "8H5AdKJGj3XI"
      }
    },
    {
      "cell_type": "markdown",
      "source": [
        "### 내가 생각한 알고리즘\n",
        "\n",
        "1. range 범위를 M에서 N+1 까지 잡기\n",
        "2. 소수 구하는 함수짜서 함수로 판별되면 빈 리스트에 넣기  ex(리스트 이름 : prime)\n",
        "3. sum(prime), min(prime) 출력하기, 소수 없으면 -1 출력하기"
      ],
      "metadata": {
        "id": "3jUZzK2MREPX"
      }
    },
    {
      "cell_type": "code",
      "source": [
        "##### 범위 입력\n",
        "M = int(input())\n",
        "N = int(input())\n",
        "\n",
        "###### 소수 판별 함수 정의\n",
        "def is_prime(num):\n",
        "    # 2 미만의 숫자는 소수가 아님\n",
        "    if num < 2:\n",
        "        return False\n",
        "    # 2부터 해당 숫자의 제곱근까지의 범위에서 반복하여 나눠봄\n",
        "    for i in range(2, int(num**0.5) + 1):\n",
        "        # 나누어 떨어지는 경우, 즉 소수가 아님\n",
        "        if num % i == 0:\n",
        "            return False\n",
        "    # 나누어 떨어지는 수가 없는 경우, 소수임\n",
        "    return True\n",
        "\n",
        "\n",
        "# 소수를 저장할 빈 리스트 생성\n",
        "prime = []\n",
        "\n",
        "##### 시작 범위부터 끝 범위까지의 숫자 범위에서 소수 찾기\n",
        "for num in range(M, N + 1):\n",
        "    if is_prime(num):  # 소수인 경우\n",
        "        prime.append(num)  # 소수를 리스트에 추가\n",
        "\n",
        "##### 소수 리스트의 합과 최솟값 출력\n",
        "if len(prime) > 0:  # 소수가 존재하는 경우\n",
        "    print(sum(prime))  # 소수 리스트의 합 출력\n",
        "    print(min(prime))  # 소수 리스트의 최솟값 출력\n",
        "else:  # 소수가 존재하지 않는 경우\n",
        "    print(-1)  # -1 출력\n"
      ],
      "metadata": {
        "colab": {
          "base_uri": "https://localhost:8080/"
        },
        "id": "kxnz4CNuRQW0",
        "outputId": "71cb095c-14ae-402f-849d-f03187be5e00"
      },
      "execution_count": 5,
      "outputs": [
        {
          "output_type": "stream",
          "name": "stdout",
          "text": [
            "64\n",
            "65\n",
            "-1\n"
          ]
        }
      ]
    },
    {
      "cell_type": "markdown",
      "source": [
        "제곱근까지만 확인하는 것으로도 소수 여부를 판별할 수 있다. 이 방법을 사용하면 비교적 적은 수의 나눗셈으로 소수 여부를 파악할 수 있어서 효율적이다. ( 처음 알았다!!!!)"
      ],
      "metadata": {
        "id": "XsSsjMZ9aYEu"
      }
    }
  ]
}