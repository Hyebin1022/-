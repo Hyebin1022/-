{
  "nbformat": 4,
  "nbformat_minor": 0,
  "metadata": {
    "colab": {
      "provenance": []
    },
    "kernelspec": {
      "name": "python3",
      "display_name": "Python 3"
    },
    "language_info": {
      "name": "python"
    }
  },
  "cells": [
    {
      "cell_type": "markdown",
      "source": [
        "# 5086. 배수와 약수"
      ],
      "metadata": {
        "id": "sJWvFwM7rSXv"
      }
    },
    {
      "cell_type": "markdown",
      "source": [
        "https://www.acmicpc.net/problem/5086"
      ],
      "metadata": {
        "id": "gIVxfbX8rvtJ"
      }
    },
    {
      "cell_type": "markdown",
      "source": [
        "### 문제  \n",
        "4 × 3 = 12이다.  \n",
        "\n",
        "이 식을 통해 다음과 같은 사실을 알 수 있다.  \n",
        "\n",
        "3은 12의 약수이고, 12는 3의 배수이다.  \n",
        "\n",
        "4도 12의 약수이고, 12는 4의 배수이다.  \n",
        "\n",
        "두 수가 주어졌을 때, 다음 3가지 중 어떤 관계인지 구하는 프로그램을 작성하시오.  \n",
        "\n",
        "1. 첫 번째 숫자가 두 번째 숫자의 약수이다.  \n",
        "2. 첫 번째 숫자가 두 번째 숫자의 배수이다.  \n",
        "3. 첫 번째 숫자가 두 번째 숫자의 약수와 배수 모두 아니다.  "
      ],
      "metadata": {
        "id": "uPfblfYvMfpW"
      }
    },
    {
      "cell_type": "markdown",
      "source": [
        "### 입력\n",
        "입력은 여러 테스트 케이스로 이루어져 있다. 각 테스트 케이스는 10,000이 넘지않는 두 자연수로 이루어져 있다. 마지막 줄에는 0이 2개 주어진다. 두 수가 같은 경우는 없다."
      ],
      "metadata": {
        "id": "qMfElmBhcAnU"
      }
    },
    {
      "cell_type": "markdown",
      "source": [
        "### 출력  \n",
        "각 테스트 케이스마다 첫 번째 숫자가 두 번째 숫자의 약수라면 factor를, 배수라면 multiple을, 둘 다 아니라면 neither를 출력한다."
      ],
      "metadata": {
        "id": "edYxK89_cFs5"
      }
    },
    {
      "cell_type": "markdown",
      "source": [
        "-------------------------------------------------"
      ],
      "metadata": {
        "id": "juqIAnJSjq_x"
      }
    },
    {
      "cell_type": "markdown",
      "source": [
        "# 풀이"
      ],
      "metadata": {
        "id": "8H5AdKJGj3XI"
      }
    },
    {
      "cell_type": "markdown",
      "source": [
        "1. while 문을 써서 0 0 이 입력값으로 들어오면 break 한다.\n"
      ],
      "metadata": {
        "id": "xc7DIHgDj5lT"
      }
    },
    {
      "cell_type": "code",
      "source": [
        "while True:  # 참(True)인 동안 계속 반복하라\n",
        "  a, b = map(int, input().split())  # 입력 받기\n",
        "  if a == 0 and b == 0:\n",
        "    break\n",
        "  elif a % b == 0:  # a가 b의 배수인 경우\n",
        "    print(\"multiple\")\n",
        "  elif b % a == 0:  # b가 a의 배수인 경우\n",
        "    print(\"factor\")\n",
        "  else:\n",
        "    print(\"neither\")\n"
      ],
      "metadata": {
        "colab": {
          "base_uri": "https://localhost:8080/"
        },
        "id": "XddySzwRbl9D",
        "outputId": "d4dadc8a-6c61-43e2-8686-d8872298b963"
      },
      "execution_count": 4,
      "outputs": [
        {
          "name": "stdout",
          "output_type": "stream",
          "text": [
            "8 16\n",
            "factor\n",
            "32 4\n",
            "multiple\n",
            "17 5\n",
            "neither\n",
            "0 0\n"
          ]
        }
      ]
    },
    {
      "cell_type": "markdown",
      "source": [
        "오늘 껀 쉬웠다~ while True만 기억해두자!"
      ],
      "metadata": {
        "id": "-uDvsi0KmZsl"
      }
    }
  ]
}