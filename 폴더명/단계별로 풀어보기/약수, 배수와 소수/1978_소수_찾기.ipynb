{
  "nbformat": 4,
  "nbformat_minor": 0,
  "metadata": {
    "colab": {
      "provenance": []
    },
    "kernelspec": {
      "name": "python3",
      "display_name": "Python 3"
    },
    "language_info": {
      "name": "python"
    }
  },
  "cells": [
    {
      "cell_type": "markdown",
      "source": [
        "# 1978. 소수 찾기\n",
        "\n",
        "\n"
      ],
      "metadata": {
        "id": "sJWvFwM7rSXv"
      }
    },
    {
      "cell_type": "markdown",
      "source": [
        "https://www.acmicpc.net/problem/1978"
      ],
      "metadata": {
        "id": "gIVxfbX8rvtJ"
      }
    },
    {
      "cell_type": "markdown",
      "source": [
        "### 문제  \n",
        "주어진 수 N개 중에서 소수가 몇 개인지 찾아서 출력하는 프로그램을 작성하시오."
      ],
      "metadata": {
        "id": "uPfblfYvMfpW"
      }
    },
    {
      "cell_type": "markdown",
      "source": [
        "### 입력\n",
        "첫 줄에 수의 개수 N이 주어진다. N은 100이하이다. 다음으로 N개의 수가 주어지는데 수는 1,000 이하의 자연수이다."
      ],
      "metadata": {
        "id": "qMfElmBhcAnU"
      }
    },
    {
      "cell_type": "markdown",
      "source": [
        "### 출력  \n",
        "주어진 수들 중 소수의 개수를 출력한다."
      ],
      "metadata": {
        "id": "edYxK89_cFs5"
      }
    },
    {
      "cell_type": "markdown",
      "source": [
        "-------------------------------------------------"
      ],
      "metadata": {
        "id": "juqIAnJSjq_x"
      }
    },
    {
      "cell_type": "markdown",
      "source": [
        "# 풀이"
      ],
      "metadata": {
        "id": "8H5AdKJGj3XI"
      }
    },
    {
      "cell_type": "markdown",
      "source": [
        "### 내가 생각한 알고리즘\n",
        "\n",
        "1. range 를 무한대로 설정\n",
        "2. 만약에 나누기를 했는데 1ㅘ 자기자신밖에 약수가 안나오면 소수 리스트에 추가.\n",
        "3. 소수 리스트의 갯수가 처음 받는 input 숫자만큼 채워지면 break"
      ],
      "metadata": {
        "id": "3jUZzK2MREPX"
      }
    },
    {
      "cell_type": "code",
      "source": [
        "########################### 첫번째 시도\n",
        "\n",
        "def is_prime(number):\n",
        "    if number < 2:\n",
        "        return False\n",
        "    for i in range(2, number):\n",
        "        if number % i == 0:\n",
        "            return False\n",
        "    return True\n",
        "\n",
        "n = int(input())  # 찾고자 하는 소수의 개수\n",
        "primes = []  # 소수를 저장할 리스트\n",
        "num = 2  # 검사할 첫 번째 숫자\n",
        "\n",
        "while len(primes) < n:\n",
        "    if is_prime(num):\n",
        "        primes.append(num)\n",
        "    num += 1\n",
        "\n",
        "print(primes)\n"
      ],
      "metadata": {
        "colab": {
          "base_uri": "https://localhost:8080/"
        },
        "id": "kxnz4CNuRQW0",
        "outputId": "567b18fa-6a52-46cb-97a7-45d0ff385cf5"
      },
      "execution_count": 2,
      "outputs": [
        {
          "output_type": "stream",
          "name": "stdout",
          "text": [
            "4\n",
            "[2, 3, 5, 7]\n"
          ]
        }
      ]
    },
    {
      "cell_type": "markdown",
      "source": [
        "주어진 코드는 주어진 개수만큼의 소수를 찾아서 출력하는 것으로 문제를 착각해서 첫번째 시도는 틀렸다 ㅠㅠ"
      ],
      "metadata": {
        "id": "viXyE3hjImn_"
      }
    },
    {
      "cell_type": "code",
      "source": [
        "#### 두번째 시도\n",
        "\n",
        "n = int(input())  # 입력: 숫자의 개수\n",
        "data = list(map(int, input().split()))  # 입력: 숫자들의 리스트\n",
        "count = 0  # 소수의 개수를 세는 변수\n",
        "\n",
        "# 입력된 숫자들을 하나씩 확인\n",
        "for x in data:\n",
        "    # 주어진 숫자 x에 대해 2부터 x까지의 숫자로 나눠보며 소수인지 판별\n",
        "    for i in range(2, x+1):\n",
        "        if x % i == 0:  # x가 i로 나누어 떨어지는 경우\n",
        "            if x == i:  # x와 i가 같으면, x는 자기 자신으로만 나누어 떨어지는 소수\n",
        "                count += 1  # count를 증가시켜 소수의 개수를 센다\n",
        "            break  # 소수가 아니면 다음 숫자로 넘어감\n",
        "\n",
        "print(count)  # 소수의 개수 출력\n"
      ],
      "metadata": {
        "colab": {
          "base_uri": "https://localhost:8080/"
        },
        "id": "sHnpeFmJIRhz",
        "outputId": "b01e5e5b-3f2a-46a7-a862-e3cd4328b13d"
      },
      "execution_count": 3,
      "outputs": [
        {
          "output_type": "stream",
          "name": "stdout",
          "text": [
            "4\n",
            "1 3 5 7\n",
            "3\n"
          ]
        }
      ]
    }
  ]
}