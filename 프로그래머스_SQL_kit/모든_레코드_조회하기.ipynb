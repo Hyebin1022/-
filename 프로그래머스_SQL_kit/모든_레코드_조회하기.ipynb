{
  "nbformat": 4,
  "nbformat_minor": 0,
  "metadata": {
    "colab": {
      "provenance": []
    },
    "kernelspec": {
      "name": "python3",
      "display_name": "Python 3"
    },
    "language_info": {
      "name": "python"
    }
  },
  "cells": [
    {
      "cell_type": "code",
      "source": [
        "# 동물 보호소에 들어온 모든 동물의 정보를 ANIMAL_ID순으로 조회\n",
        "SELECT ANIMAL_ID,ANIMAL_TYPE,DATETIME,INTAKE_CONDITION,NAME,SEX_UPON_INTAKE\n",
        "FROM ANIMAL_INS\n",
        "ORDER BY ANIMAL_ID ASC;"
      ],
      "metadata": {
        "id": "Ujdmf7MssAvU"
      },
      "execution_count": null,
      "outputs": []
    }
  ]
}