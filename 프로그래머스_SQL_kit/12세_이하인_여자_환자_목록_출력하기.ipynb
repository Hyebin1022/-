{
  "nbformat": 4,
  "nbformat_minor": 0,
  "metadata": {
    "colab": {
      "provenance": []
    },
    "kernelspec": {
      "name": "python3",
      "display_name": "Python 3"
    },
    "language_info": {
      "name": "python"
    }
  },
  "cells": [
    {
      "cell_type": "code",
      "source": [
        "# COALESCE 는 SELECT 절 안에서만 사용!\n",
        "SELECT PT_NAME,PT_NO,GEND_CD, AGE, COALESCE(TLNO, 'NONE') AS TLNO\n",
        "FROM PATIENT\n",
        "WHERE AGE <= 12 AND GEND_CD='w'\n",
        "ORDER BY AGE DESC , PT_NAME\n"
      ],
      "metadata": {
        "id": "Ujdmf7MssAvU"
      },
      "execution_count": null,
      "outputs": []
    }
  ]
}