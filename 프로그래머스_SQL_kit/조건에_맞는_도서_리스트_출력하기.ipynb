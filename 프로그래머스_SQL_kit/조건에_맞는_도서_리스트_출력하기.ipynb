{
  "nbformat": 4,
  "nbformat_minor": 0,
  "metadata": {
    "colab": {
      "provenance": []
    },
    "kernelspec": {
      "name": "python3",
      "display_name": "Python 3"
    },
    "language_info": {
      "name": "python"
    }
  },
  "cells": [
    {
      "cell_type": "code",
      "source": [
        "# 데이트 포멧 암기하기\n",
        "SELECT BOOK_ID,\tDATE_FORMAT(PUBLISHED_DATE,'%Y-%m-%d') AS PUBLISHED_DATE\n",
        "FROM BOOK\n",
        "WHERE YEAR(PUBLISHED_DATE) = 2021 AND CATEGORY = '인문'\n",
        "ORDER BY PUBLISHED_DATE ASC"
      ],
      "metadata": {
        "id": "Ujdmf7MssAvU"
      },
      "execution_count": null,
      "outputs": []
    }
  ]
}