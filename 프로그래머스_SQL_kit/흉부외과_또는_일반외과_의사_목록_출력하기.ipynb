{
  "nbformat": 4,
  "nbformat_minor": 0,
  "metadata": {
    "colab": {
      "provenance": []
    },
    "kernelspec": {
      "name": "python3",
      "display_name": "Python 3"
    },
    "language_info": {
      "name": "python"
    }
  },
  "cells": [
    {
      "cell_type": "code",
      "source": [
        "# 날짜 설정하는거 기억하기, date_format!\n",
        "SELECT DR_NAME, DR_ID, MCDP_CD, DATE_FORMAT(HIRE_YMD, '%Y-%m-%d') AS HIRE_YMD\n",
        "FROM DOCTOR\n",
        "# 조건문 방식 기억해두기\n",
        "WHERE MCDP_CD = 'CS' or  MCDP_CD ='GS'\n",
        "ORDER BY HIRE_YMD DESC , DR_NAME ;"
      ],
      "metadata": {
        "id": "Ujdmf7MssAvU"
      },
      "execution_count": null,
      "outputs": []
    }
  ]
}