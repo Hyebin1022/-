{
  "nbformat": 4,
  "nbformat_minor": 0,
  "metadata": {
    "colab": {
      "provenance": []
    },
    "kernelspec": {
      "name": "python3",
      "display_name": "Python 3"
    },
    "language_info": {
      "name": "python"
    }
  },
  "cells": [
    {
      "cell_type": "code",
      "source": [
        "# FOOD_FACTORY 테이블\n",
        "# 강원도에 위치한 식품공장의 공장 ID, 공장 이름, 주소를 조회\n",
        "# 공장 ID를 기준으로 오름차순 정렬\n",
        "SELECT FACTORY_ID, FACTORY_NAME, ADDRESS\n",
        "FROM FOOD_FACTORY\n",
        "WHERE ADDRESS like '강원도%'\n",
        "ORDER BY FACTORY_ID;"
      ],
      "metadata": {
        "id": "Ujdmf7MssAvU"
      },
      "execution_count": null,
      "outputs": []
    }
  ]
}