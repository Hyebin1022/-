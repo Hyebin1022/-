{
  "nbformat": 4,
  "nbformat_minor": 0,
  "metadata": {
    "colab": {
      "provenance": []
    },
    "kernelspec": {
      "name": "python3",
      "display_name": "Python 3"
    },
    "language_info": {
      "name": "python"
    }
  },
  "cells": [
    {
      "cell_type": "code",
      "source": [
        "# 전화번호가 NULL인 경우는 출력대상에서 제외\n",
        "SELECT MEMBER_ID,MEMBER_NAME,GENDER,DATE_FORMAT(DATE_OF_BIRTH,'%Y-%m-%d') AS DATE_OF_BIRTH\n",
        "FROM MEMBER_PROFILE\n",
        "WHERE DATE_FORMAT(DATE_OF_BIRTH,'%m') = '03'\n",
        "    AND GENDER = 'W'\n",
        "    # is not null 용법 잘 쓰기\n",
        "    AND TLNO IS NOT NULL\n",
        "ORDER BY MEMBER_ID ASC;"
      ],
      "metadata": {
        "id": "Ujdmf7MssAvU"
      },
      "execution_count": null,
      "outputs": []
    }
  ]
}