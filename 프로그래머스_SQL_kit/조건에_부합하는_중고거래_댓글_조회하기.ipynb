{
  "nbformat": 4,
  "nbformat_minor": 0,
  "metadata": {
    "colab": {
      "provenance": []
    },
    "kernelspec": {
      "name": "python3",
      "display_name": "Python 3"
    },
    "language_info": {
      "name": "python"
    }
  },
  "cells": [
    {
      "cell_type": "code",
      "source": [
        "# JOIN 문법이랑 DATE_FORMAT 아직 약함\n",
        "SELECT GB.TITLE, GB.BOARD_ID, GR.REPLY_ID, GR.WRITER_ID, GR.CONTENTS, DATE_FORMAT(GR.CREATED_DATE,'%Y-%m-%d') AS CREATED_DATE\n",
        "FROM USED_GOODS_BOARD AS GB\n",
        "JOIN USED_GOODS_REPLY AS GR ON GB.BOARD_ID = GR.BOARD_ID\n",
        "WHERE DATE_FORMAT(GB.CREATED_DATE,'%Y-%m') = '2022-10'\n",
        "ORDER BY GR.CREATED_DATE ASC, GB.TITLE ASC;"
      ],
      "metadata": {
        "id": "Ujdmf7MssAvU"
      },
      "execution_count": null,
      "outputs": []
    }
  ]
}