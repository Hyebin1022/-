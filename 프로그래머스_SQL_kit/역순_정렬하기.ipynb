{
  "nbformat": 4,
  "nbformat_minor": 0,
  "metadata": {
    "colab": {
      "provenance": []
    },
    "kernelspec": {
      "name": "python3",
      "display_name": "Python 3"
    },
    "language_info": {
      "name": "python"
    }
  },
  "cells": [
    {
      "cell_type": "code",
      "source": [
        "SELECT NAME,\tDATETIME\n",
        "FROM ANIMAL_INS\n",
        "ORDER BY ANIMAL_ID DESC;"
      ],
      "metadata": {
        "id": "Ujdmf7MssAvU"
      },
      "execution_count": null,
      "outputs": []
    }
  ]
}