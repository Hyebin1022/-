{
  "nbformat": 4,
  "nbformat_minor": 0,
  "metadata": {
    "colab": {
      "provenance": []
    },
    "kernelspec": {
      "name": "python3",
      "display_name": "Python 3"
    },
    "language_info": {
      "name": "python"
    }
  },
  "cells": [
    {
      "cell_type": "code",
      "source": [
        "# round(숫자, 1) -> 12.3\n",
        "# round(숫자, 0) -> 12\n",
        "SELECT ROUND(AVG(cr.DAILY_FEE),0) AVERAGE_FEE\n",
        "FROM CAR_RENTAL_COMPANY_CAR cr\n",
        "WHERE cr.CAR_TYPE = 'SUV'"
      ],
      "metadata": {
        "id": "Ujdmf7MssAvU"
      },
      "execution_count": null,
      "outputs": []
    }
  ]
}