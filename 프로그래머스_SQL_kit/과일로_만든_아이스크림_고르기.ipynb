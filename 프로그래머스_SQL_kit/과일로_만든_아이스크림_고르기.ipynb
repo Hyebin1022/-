{
  "nbformat": 4,
  "nbformat_minor": 0,
  "metadata": {
    "colab": {
      "provenance": []
    },
    "kernelspec": {
      "name": "python3",
      "display_name": "Python 3"
    },
    "language_info": {
      "name": "python"
    }
  },
  "cells": [
    {
      "cell_type": "code",
      "source": [
        "#상반기 아이스크림 총주문량이 3,000보다 높으면서\n",
        "#아이스크림의 주 성분이 과일인 아이스크림의 맛을 총주문량이 큰 순서대로 조회\n",
        "SELECT fh.FLAVOR\n",
        "FROM FIRST_HALF fh\n",
        "# join ~ on  암기!!\n",
        "JOIN ICECREAM_INFO ii ON fh.FLAVOR = ii.FLAVOR\n",
        "WHERE fh.TOTAL_ORDER > 3000\n",
        "AND ii.INGREDIENT_TYPE = 'fruit_based'\n",
        "ORDER BY fh.TOTAL_ORDER DESC"
      ],
      "metadata": {
        "id": "Ujdmf7MssAvU"
      },
      "execution_count": null,
      "outputs": []
    }
  ]
}