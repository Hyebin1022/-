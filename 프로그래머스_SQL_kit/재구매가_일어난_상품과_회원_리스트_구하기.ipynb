{
  "nbformat": 4,
  "nbformat_minor": 0,
  "metadata": {
    "colab": {
      "provenance": []
    },
    "kernelspec": {
      "name": "python3",
      "display_name": "Python 3"
    },
    "language_info": {
      "name": "python"
    }
  },
  "cells": [
    {
      "cell_type": "code",
      "source": [
        "# ONLINE_SALE 테이블에서 동일한 회원이 동일한 상품을 재구매한 데이터\n",
        "SELECT USER_ID, PRODUCT_ID\n",
        "FROM ONLINE_SALE\n",
        "GROUP BY USER_ID, PRODUCT_ID\n",
        "# having 은 group by 랑 같이 쓴다\n",
        "HAVING COUNT(*)>1\n",
        "# 오름차순 ASC 귀찮아도 작성하기\n",
        "ORDER BY USER_ID ASC, PRODUCT_ID DESC"
      ],
      "metadata": {
        "id": "Ujdmf7MssAvU"
      },
      "execution_count": null,
      "outputs": []
    }
  ]
}