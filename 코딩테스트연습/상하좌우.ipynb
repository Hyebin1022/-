{
  "nbformat": 4,
  "nbformat_minor": 0,
  "metadata": {
    "colab": {
      "provenance": []
    },
    "kernelspec": {
      "name": "python3",
      "display_name": "Python 3"
    },
    "language_info": {
      "name": "python"
    }
  },
  "cells": [
    {
      "cell_type": "code",
      "source": [
        "space = int(input())"
      ],
      "metadata": {
        "colab": {
          "base_uri": "https://localhost:8080/"
        },
        "id": "lSQSCzTOGd9Y",
        "outputId": "6d4051dd-57fd-4117-b5db-b5a442be147f"
      },
      "execution_count": 17,
      "outputs": [
        {
          "name": "stdout",
          "output_type": "stream",
          "text": [
            "5\n"
          ]
        }
      ]
    },
    {
      "cell_type": "code",
      "source": [
        "route = list(input().split())"
      ],
      "metadata": {
        "colab": {
          "base_uri": "https://localhost:8080/"
        },
        "id": "yuwb5LLZHisi",
        "outputId": "bbe3da67-450a-4a5d-f9c5-c9ad7fd154e3"
      },
      "execution_count": 18,
      "outputs": [
        {
          "name": "stdout",
          "output_type": "stream",
          "text": [
            "R R R U D D\n"
          ]
        }
      ]
    },
    {
      "cell_type": "code",
      "source": [
        "# 일단 처음이 1,1\n",
        "# 그런데 5니까, 좌우 합해서 4가 최대다!!!\n",
        "# 그리고 아래로도 4!!\n",
        "# 아 근데 무시도 한다는데.. 이건 어떻게 구현하지"
      ],
      "metadata": {
        "id": "B3XUYbHh7ycR"
      },
      "execution_count": null,
      "outputs": []
    },
    {
      "cell_type": "code",
      "source": [
        "a, b = 1,1 # 여기서 a,b가 1보다 작아지면 동작 안하게!!"
      ],
      "metadata": {
        "id": "dqAQq80FHM4T"
      },
      "execution_count": 34,
      "outputs": []
    },
    {
      "cell_type": "code",
      "source": [
        "route"
      ],
      "metadata": {
        "colab": {
          "base_uri": "https://localhost:8080/"
        },
        "id": "irsKSTzq-hAG",
        "outputId": "21d964b0-d017-485d-c159-11abe619db61"
      },
      "execution_count": 21,
      "outputs": [
        {
          "output_type": "execute_result",
          "data": {
            "text/plain": [
              "['R', 'R', 'R', 'U', 'D', 'D']"
            ]
          },
          "metadata": {},
          "execution_count": 21
        }
      ]
    },
    {
      "cell_type": "code",
      "source": [
        "for i in route :\n",
        "  if i == 'L' :\n",
        "    b -= 1\n",
        "    if b  < 1 :\n",
        "      b = b + 1\n",
        "  if i == 'R' :\n",
        "    b += 1\n",
        "    if b  > space :\n",
        "      b = b - 1\n",
        "  if i == 'U' :\n",
        "    a -= 1\n",
        "    if a  < 1 :\n",
        "      a = a + 1\n",
        "  elif i == 'D' :\n",
        "    a += 1\n",
        "    if a  > space :\n",
        "      a = a - 1"
      ],
      "metadata": {
        "id": "zvj4lB2gHhBn"
      },
      "execution_count": 35,
      "outputs": []
    },
    {
      "cell_type": "code",
      "source": [
        "a,b"
      ],
      "metadata": {
        "colab": {
          "base_uri": "https://localhost:8080/"
        },
        "id": "MJeBNe2lI3Z7",
        "outputId": "942b8a2b-c245-4a6a-b3dc-478afd45775b"
      },
      "execution_count": 42,
      "outputs": [
        {
          "output_type": "execute_result",
          "data": {
            "text/plain": [
              "(3, 4)"
            ]
          },
          "metadata": {},
          "execution_count": 42
        }
      ]
    },
    {
      "cell_type": "markdown",
      "source": [
        "- 개선 ver\n",
        "  - 여기선 변수명 x,y 로 하자"
      ],
      "metadata": {
        "id": "Q28zAdOVKHNe"
      }
    },
    {
      "cell_type": "code",
      "source": [
        "movement = {\n",
        "    'L' : (0, -1),\n",
        "    'R' : (0, 1),\n",
        "    'U' : (-1, 0),\n",
        "    'D' : (1, 0),\n",
        "}\n",
        "\n",
        "x , y = 1, 1"
      ],
      "metadata": {
        "id": "z2150BUdJhj8"
      },
      "execution_count": 67,
      "outputs": []
    },
    {
      "cell_type": "code",
      "source": [
        "for i in route:\n",
        "  dx , dy = movement[i]\n",
        "  x, y = x+dx , y+dy\n",
        "  if x < 1: x = 1\n",
        "  if y < 1: y = 1\n",
        "  if x > space: x = space\n",
        "  if y > space: y =space"
      ],
      "metadata": {
        "id": "Ww6SFJMFKZwq"
      },
      "execution_count": 48,
      "outputs": []
    },
    {
      "cell_type": "code",
      "source": [
        "x,y"
      ],
      "metadata": {
        "colab": {
          "base_uri": "https://localhost:8080/"
        },
        "id": "gyQQS-DiLTHC",
        "outputId": "cd494905-363f-4ede-8b11-bb5ad43c9ee3"
      },
      "execution_count": 49,
      "outputs": [
        {
          "output_type": "execute_result",
          "data": {
            "text/plain": [
              "(3, 4)"
            ]
          },
          "metadata": {},
          "execution_count": 49
        }
      ]
    },
    {
      "cell_type": "markdown",
      "source": [
        "- 더더 개선 ver"
      ],
      "metadata": {
        "id": "Ab0eGSLeLyEq"
      }
    },
    {
      "cell_type": "code",
      "source": [
        "for i in route:\n",
        "  dx , dy = movement[i]\n",
        "  nx, ny = x+dx , y+dy\n",
        "  if 1 <=nx <=  space and 1 <=ny <=  space :\n",
        "    x, y = nx , ny"
      ],
      "metadata": {
        "id": "y_3Avn3ELzRy"
      },
      "execution_count": 68,
      "outputs": []
    },
    {
      "cell_type": "code",
      "source": [
        "x,y"
      ],
      "metadata": {
        "colab": {
          "base_uri": "https://localhost:8080/"
        },
        "id": "7q9Ttjc1MZ1H",
        "outputId": "80a75167-fdae-4aba-9d6a-48ae149828d1"
      },
      "execution_count": 69,
      "outputs": [
        {
          "output_type": "execute_result",
          "data": {
            "text/plain": [
              "(3, 4)"
            ]
          },
          "metadata": {},
          "execution_count": 69
        }
      ]
    }
  ]
}