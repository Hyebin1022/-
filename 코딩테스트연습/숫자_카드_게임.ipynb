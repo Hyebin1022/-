{
  "nbformat": 4,
  "nbformat_minor": 0,
  "metadata": {
    "colab": {
      "provenance": []
    },
    "kernelspec": {
      "name": "python3",
      "display_name": "Python 3"
    },
    "language_info": {
      "name": "python"
    }
  },
  "cells": [
    {
      "cell_type": "code",
      "execution_count": 13,
      "metadata": {
        "colab": {
          "base_uri": "https://localhost:8080/"
        },
        "id": "IxZXTxyI66cI",
        "outputId": "c906819c-2532-4609-e307-4c993dde9f2a"
      },
      "outputs": [
        {
          "name": "stdout",
          "output_type": "stream",
          "text": [
            "2 4\n"
          ]
        }
      ],
      "source": [
        "n , m = map(int,input().split())"
      ]
    },
    {
      "cell_type": "code",
      "source": [
        "value = []\n",
        "for _ in range(n):\n",
        "  a = list(map(int, input().split()))\n",
        "  value.append(min(a))"
      ],
      "metadata": {
        "colab": {
          "base_uri": "https://localhost:8080/"
        },
        "id": "B3XUYbHh7ycR",
        "outputId": "2dd7cc0d-9887-4ecb-d03f-45f02d7d4c75"
      },
      "execution_count": 14,
      "outputs": [
        {
          "name": "stdout",
          "output_type": "stream",
          "text": [
            "7 3 1 8\n",
            "3 3 3 4\n"
          ]
        }
      ]
    },
    {
      "cell_type": "code",
      "source": [
        "print(max(value))"
      ],
      "metadata": {
        "colab": {
          "base_uri": "https://localhost:8080/"
        },
        "id": "irsKSTzq-hAG",
        "outputId": "72a4aa52-c44d-49d5-8370-bc06b7edd059"
      },
      "execution_count": 16,
      "outputs": [
        {
          "output_type": "stream",
          "name": "stdout",
          "text": [
            "3\n"
          ]
        }
      ]
    }
  ]
}