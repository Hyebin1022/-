{
  "nbformat": 4,
  "nbformat_minor": 0,
  "metadata": {
    "colab": {
      "provenance": []
    },
    "kernelspec": {
      "name": "python3",
      "display_name": "Python 3"
    },
    "language_info": {
      "name": "python"
    }
  },
  "cells": [
    {
      "cell_type": "markdown",
      "source": [
        "- arr.sort() → 리스트를 정렬하지만, 아무것도 반환하지 않음 (None)  \n",
        "- sorted(arr) → 정렬된 새로운 리스트를 반환 (원본 유지)  "
      ],
      "metadata": {
        "id": "sUIhfBPFfB_t"
      }
    },
    {
      "cell_type": "code",
      "execution_count": 25,
      "metadata": {
        "colab": {
          "base_uri": "https://localhost:8080/"
        },
        "id": "wwtKmz5hawuV",
        "outputId": "131f5f3d-e046-467d-a59c-c1f44bd9d0bc"
      },
      "outputs": [
        {
          "name": "stdout",
          "output_type": "stream",
          "text": [
            "1 2 3 4 5 1 1\n"
          ]
        }
      ],
      "source": [
        "arr = list(map(int, input().split()))  # 입력받은 문자열을 정수 리스트로 변환"
      ]
    },
    {
      "cell_type": "code",
      "source": [
        "sorted(arr)  # 내 답"
      ],
      "metadata": {
        "colab": {
          "base_uri": "https://localhost:8080/"
        },
        "id": "WmBoIS8PfXSM",
        "outputId": "d95cca36-6175-4f28-e0a4-1d8aa7f1cf3c"
      },
      "execution_count": 26,
      "outputs": [
        {
          "output_type": "execute_result",
          "data": {
            "text/plain": [
              "[1, 1, 1, 2, 3, 4, 5]"
            ]
          },
          "metadata": {},
          "execution_count": 26
        }
      ]
    },
    {
      "cell_type": "code",
      "source": [
        "# 답지\n",
        "def solution(arr):\n",
        "    arr.sort()  # 리스트 자체를 정렬\n",
        "    return arr  # 정렬된 리스트 반환"
      ],
      "metadata": {
        "id": "agZ7OPK0dyzv"
      },
      "execution_count": 23,
      "outputs": []
    },
    {
      "cell_type": "code",
      "source": [
        "solution(arr)"
      ],
      "metadata": {
        "colab": {
          "base_uri": "https://localhost:8080/"
        },
        "id": "YCEd_5FNdHLk",
        "outputId": "67e7625f-9767-4b00-f47b-132aadb9ce1e"
      },
      "execution_count": 28,
      "outputs": [
        {
          "output_type": "execute_result",
          "data": {
            "text/plain": [
              "[1, 1, 1, 2, 3, 4, 5]"
            ]
          },
          "metadata": {},
          "execution_count": 28
        }
      ]
    }
  ]
}