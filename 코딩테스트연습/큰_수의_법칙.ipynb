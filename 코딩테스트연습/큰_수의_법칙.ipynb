{
  "nbformat": 4,
  "nbformat_minor": 0,
  "metadata": {
    "colab": {
      "provenance": []
    },
    "kernelspec": {
      "name": "python3",
      "display_name": "Python 3"
    },
    "language_info": {
      "name": "python"
    }
  },
  "cells": [
    {
      "cell_type": "markdown",
      "source": [
        "- 패턴 단위로 묶어서 계산"
      ],
      "metadata": {
        "id": "ip0yYB2QTgcH"
      }
    },
    {
      "cell_type": "code",
      "execution_count": 13,
      "metadata": {
        "colab": {
          "base_uri": "https://localhost:8080/"
        },
        "id": "wwtKmz5hawuV",
        "outputId": "102723a7-fdb1-47de-acaf-ccbbf413eb36"
      },
      "outputs": [
        {
          "name": "stdout",
          "output_type": "stream",
          "text": [
            "5 8 3\n"
          ]
        }
      ],
      "source": [
        "n , m , k = list(map(int, input().split()))"
      ]
    },
    {
      "cell_type": "code",
      "source": [
        "# M 번 더한다\n",
        "# 연속해서 K 까지만 가능\n",
        "# 둘째줄에 n개의 숫자 나옴"
      ],
      "metadata": {
        "colab": {
          "base_uri": "https://localhost:8080/"
        },
        "id": "i8STQNHJQrSt",
        "outputId": "80d7dc34-8011-465d-8057-15125fd43ef9"
      },
      "execution_count": 9,
      "outputs": [
        {
          "output_type": "execute_result",
          "data": {
            "text/plain": [
              "6.0"
            ]
          },
          "metadata": {},
          "execution_count": 9
        }
      ]
    },
    {
      "cell_type": "code",
      "source": [
        "b = list(map(int,input().split()))"
      ],
      "metadata": {
        "colab": {
          "base_uri": "https://localhost:8080/"
        },
        "id": "nTD3AujJSAnN",
        "outputId": "371f1647-0913-4d33-efc2-efc57bf57a47"
      },
      "execution_count": 14,
      "outputs": [
        {
          "name": "stdout",
          "output_type": "stream",
          "text": [
            "2 4 5 4 6\n"
          ]
        }
      ]
    },
    {
      "cell_type": "code",
      "source": [
        "b = sorted(b,reverse=True)"
      ],
      "metadata": {
        "id": "CXRWZs3zSIbD"
      },
      "execution_count": 17,
      "outputs": []
    },
    {
      "cell_type": "code",
      "source": [
        "# 가장 큰수\n",
        "first = b[0]\n",
        "\n",
        "# 두번째로 큰 숫자\n",
        "second = b[1]"
      ],
      "metadata": {
        "id": "hE8apnoKSZZg"
      },
      "execution_count": 19,
      "outputs": []
    },
    {
      "cell_type": "code",
      "source": [
        "# 반복 패턴 수\n",
        "pattern_num = k + 1\n",
        "\n",
        "# 패턴 몇번 반복되나\n",
        "pattern_cycle = m//pattern_num\n",
        "\n",
        "# 패턴 반복 후 나머지\n",
        "pattern_left =  m%pattern_num"
      ],
      "metadata": {
        "id": "dqlDbUfdT6yc"
      },
      "execution_count": 25,
      "outputs": []
    },
    {
      "cell_type": "code",
      "source": [
        "result = ((first*k)+second)*pattern_cycle + first*pattern_left"
      ],
      "metadata": {
        "id": "iNh7I7JuULIj"
      },
      "execution_count": 27,
      "outputs": []
    },
    {
      "cell_type": "code",
      "source": [
        "result"
      ],
      "metadata": {
        "colab": {
          "base_uri": "https://localhost:8080/"
        },
        "id": "6HTObpYASWCM",
        "outputId": "9838dca1-d8ba-4108-94d0-c3ea709d0f32"
      },
      "execution_count": 28,
      "outputs": [
        {
          "output_type": "execute_result",
          "data": {
            "text/plain": [
              "46"
            ]
          },
          "metadata": {},
          "execution_count": 28
        }
      ]
    }
  ]
}