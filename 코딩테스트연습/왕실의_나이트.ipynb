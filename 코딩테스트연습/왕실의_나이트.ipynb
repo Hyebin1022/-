{
  "nbformat": 4,
  "nbformat_minor": 0,
  "metadata": {
    "colab": {
      "provenance": []
    },
    "kernelspec": {
      "name": "python3",
      "display_name": "Python 3"
    },
    "language_info": {
      "name": "python"
    }
  },
  "cells": [
    {
      "cell_type": "code",
      "source": [
        "first = input()"
      ],
      "metadata": {
        "colab": {
          "base_uri": "https://localhost:8080/"
        },
        "id": "lSQSCzTOGd9Y",
        "outputId": "e4a780ce-6100-4cb9-fafd-64633e62e72c"
      },
      "execution_count": 17,
      "outputs": [
        {
          "name": "stdout",
          "output_type": "stream",
          "text": [
            "a1\n"
          ]
        }
      ]
    },
    {
      "cell_type": "code",
      "source": [
        "x = first[0]\n",
        "y = int(first[1])"
      ],
      "metadata": {
        "id": "YNVlhG-gis-K"
      },
      "execution_count": 18,
      "outputs": []
    },
    {
      "cell_type": "code",
      "source": [
        "max_a, max_y = 8 , 8"
      ],
      "metadata": {
        "id": "yuwb5LLZHisi"
      },
      "execution_count": 19,
      "outputs": []
    },
    {
      "cell_type": "code",
      "source": [
        "count = 0"
      ],
      "metadata": {
        "id": "S-6DaOxTkMJH"
      },
      "execution_count": 20,
      "outputs": []
    },
    {
      "cell_type": "code",
      "source": [
        "eng_to_num = {\n",
        "    'a' : 1 ,\n",
        "    'b' : 2 ,\n",
        "    'c' : 3 ,\n",
        "    'd' : 4 ,\n",
        "    'e' : 5 ,\n",
        "    'f' : 6 ,\n",
        "    'g' : 7 ,\n",
        "    'h' : 8\n",
        "}"
      ],
      "metadata": {
        "id": "BbPv4rnDjACK"
      },
      "execution_count": 21,
      "outputs": []
    },
    {
      "cell_type": "code",
      "source": [
        "x = eng_to_num[x]  # 1"
      ],
      "metadata": {
        "id": "u_kHmSVYkDfe"
      },
      "execution_count": 22,
      "outputs": []
    },
    {
      "cell_type": "code",
      "source": [
        "steps = [\n",
        "    (2, 1), (1, 2),\n",
        "    (-1, 2), (-2, 1),\n",
        "    (-2, -1), (-1, -2),\n",
        "    (1, -2), (2, -1)\n",
        "]"
      ],
      "metadata": {
        "id": "ytMGqwCbjWyM"
      },
      "execution_count": 23,
      "outputs": []
    },
    {
      "cell_type": "code",
      "source": [
        "for dx, dy in steps :\n",
        "  nx = x + dx\n",
        "  ny = y + dy\n",
        "  if 1<= dx <=8 and 1<= dy <=8:\n",
        "    count += 1"
      ],
      "metadata": {
        "id": "VrSF5wWWj7R0"
      },
      "execution_count": 24,
      "outputs": []
    },
    {
      "cell_type": "code",
      "source": [
        "count"
      ],
      "metadata": {
        "colab": {
          "base_uri": "https://localhost:8080/"
        },
        "id": "xBGTKIrok9Ob",
        "outputId": "7c477ca4-9da7-441c-cd1c-6a09c3e46053"
      },
      "execution_count": 25,
      "outputs": [
        {
          "output_type": "execute_result",
          "data": {
            "text/plain": [
              "2"
            ]
          },
          "metadata": {},
          "execution_count": 25
        }
      ]
    }
  ]
}