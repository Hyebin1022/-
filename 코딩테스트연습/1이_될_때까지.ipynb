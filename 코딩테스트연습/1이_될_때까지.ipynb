{
  "nbformat": 4,
  "nbformat_minor": 0,
  "metadata": {
    "colab": {
      "provenance": []
    },
    "kernelspec": {
      "name": "python3",
      "display_name": "Python 3"
    },
    "language_info": {
      "name": "python"
    }
  },
  "cells": [
    {
      "cell_type": "code",
      "execution_count": 59,
      "metadata": {
        "colab": {
          "base_uri": "https://localhost:8080/"
        },
        "id": "IxZXTxyI66cI",
        "outputId": "4e672a04-9805-4a5b-c0d0-da4aae82db05"
      },
      "outputs": [
        {
          "name": "stdout",
          "output_type": "stream",
          "text": [
            "25 4\n"
          ]
        }
      ],
      "source": [
        "n , m = map(int,input().split())"
      ]
    },
    {
      "cell_type": "code",
      "source": [
        "num = 0\n",
        "while n != 1 :\n",
        "  if n % m == 0:\n",
        "    n = n // m\n",
        "    num += 1\n",
        "  else:\n",
        "    n = n-1\n",
        "    num += 1"
      ],
      "metadata": {
        "id": "B3XUYbHh7ycR"
      },
      "execution_count": 60,
      "outputs": []
    },
    {
      "cell_type": "code",
      "source": [
        "n"
      ],
      "metadata": {
        "colab": {
          "base_uri": "https://localhost:8080/"
        },
        "id": "irsKSTzq-hAG",
        "outputId": "298862b9-9522-4880-c054-262eb665b291"
      },
      "execution_count": 61,
      "outputs": [
        {
          "output_type": "execute_result",
          "data": {
            "text/plain": [
              "1"
            ]
          },
          "metadata": {},
          "execution_count": 61
        }
      ]
    },
    {
      "cell_type": "code",
      "source": [
        "num"
      ],
      "metadata": {
        "colab": {
          "base_uri": "https://localhost:8080/"
        },
        "id": "3vWfZ2GY1DYE",
        "outputId": "8af39159-ec6d-4ee6-aac5-cc4000092eb4"
      },
      "execution_count": 62,
      "outputs": [
        {
          "output_type": "execute_result",
          "data": {
            "text/plain": [
              "5"
            ]
          },
          "metadata": {},
          "execution_count": 62
        }
      ]
    },
    {
      "cell_type": "markdown",
      "source": [
        "- 개선 ver"
      ],
      "metadata": {
        "id": "U97h6oAY2SOI"
      }
    },
    {
      "cell_type": "code",
      "source": [
        "n , m = map(int,input().split())"
      ],
      "metadata": {
        "colab": {
          "base_uri": "https://localhost:8080/"
        },
        "id": "wNj-2isK5OYX",
        "outputId": "a3ef9a3f-753e-45d6-af75-d22c3a5a4b58"
      },
      "execution_count": 88,
      "outputs": [
        {
          "name": "stdout",
          "output_type": "stream",
          "text": [
            "25 4\n"
          ]
        }
      ]
    },
    {
      "cell_type": "code",
      "source": [
        "num = 0\n",
        "while n >= m :\n",
        "  target =  (n // m) * m  # 24\n",
        "  num += n - target # 25 - 24 = 1\n",
        "  n = target // m # n = 6\n",
        "  num += 1 # 2\n",
        "\n",
        "num += (n - 1)"
      ],
      "metadata": {
        "id": "kalyoJfYCa42"
      },
      "execution_count": 89,
      "outputs": []
    },
    {
      "cell_type": "code",
      "source": [
        "target , num"
      ],
      "metadata": {
        "colab": {
          "base_uri": "https://localhost:8080/"
        },
        "id": "E130BwUq5X9u",
        "outputId": "a9334bc7-2d1a-4f61-ed1e-6b4a609f2ea5"
      },
      "execution_count": 90,
      "outputs": [
        {
          "output_type": "execute_result",
          "data": {
            "text/plain": [
              "(4, 5)"
            ]
          },
          "metadata": {},
          "execution_count": 90
        }
      ]
    }
  ]
}