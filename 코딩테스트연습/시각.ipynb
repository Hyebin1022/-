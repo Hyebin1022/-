{
  "nbformat": 4,
  "nbformat_minor": 0,
  "metadata": {
    "colab": {
      "provenance": []
    },
    "kernelspec": {
      "name": "python3",
      "display_name": "Python 3"
    },
    "language_info": {
      "name": "python"
    }
  },
  "cells": [
    {
      "cell_type": "code",
      "source": [
        "N = int(input())"
      ],
      "metadata": {
        "colab": {
          "base_uri": "https://localhost:8080/"
        },
        "id": "lSQSCzTOGd9Y",
        "outputId": "f573f368-9456-4c1b-ba79-aafa45c18392"
      },
      "execution_count": 1,
      "outputs": [
        {
          "name": "stdout",
          "output_type": "stream",
          "text": [
            "5\n"
          ]
        }
      ]
    },
    {
      "cell_type": "code",
      "source": [
        "count = 0 # 3 개수 넣을 곳"
      ],
      "metadata": {
        "id": "yuwb5LLZHisi"
      },
      "execution_count": 2,
      "outputs": []
    },
    {
      "cell_type": "code",
      "source": [
        "for h in range(N + 1): # 시\n",
        "  for m in range(59 + 1) : # 분\n",
        "    for s in range(59 + 1) : # 초\n",
        "      time_is = f'{h}{m}{s}'\n",
        "      if '3' in time_is:\n",
        "        count += 1"
      ],
      "metadata": {
        "id": "5oV-XeBBnUZa"
      },
      "execution_count": 3,
      "outputs": []
    },
    {
      "cell_type": "code",
      "source": [
        "count"
      ],
      "metadata": {
        "colab": {
          "base_uri": "https://localhost:8080/"
        },
        "id": "xSewlhE4oEVm",
        "outputId": "c252c02f-869f-4cb5-bdd6-16bb1ccc5745"
      },
      "execution_count": 4,
      "outputs": [
        {
          "output_type": "execute_result",
          "data": {
            "text/plain": [
              "11475"
            ]
          },
          "metadata": {},
          "execution_count": 4
        }
      ]
    }
  ]
}