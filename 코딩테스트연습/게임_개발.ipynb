{
  "nbformat": 4,
  "nbformat_minor": 0,
  "metadata": {
    "colab": {
      "provenance": []
    },
    "kernelspec": {
      "name": "python3",
      "display_name": "Python 3"
    },
    "language_info": {
      "name": "python"
    }
  },
  "cells": [
    {
      "cell_type": "code",
      "source": [
        "n, m = map(int, input().split())"
      ],
      "metadata": {
        "colab": {
          "base_uri": "https://localhost:8080/"
        },
        "id": "lSQSCzTOGd9Y",
        "outputId": "25433958-d260-45ad-ac43-47d4e201a140"
      },
      "execution_count": 4,
      "outputs": [
        {
          "name": "stdout",
          "output_type": "stream",
          "text": [
            "4 4\n"
          ]
        }
      ]
    },
    {
      "cell_type": "code",
      "source": [
        "# x축, y축, 바라보는 방향\n",
        "A, B, d = map(int, input().split())"
      ],
      "metadata": {
        "colab": {
          "base_uri": "https://localhost:8080/"
        },
        "id": "Dmy-aOsCQqa9",
        "outputId": "bc4c787f-3306-486d-b19d-d115c4e7190b"
      },
      "execution_count": 12,
      "outputs": [
        {
          "name": "stdout",
          "output_type": "stream",
          "text": [
            "1 1 0\n"
          ]
        }
      ]
    },
    {
      "cell_type": "code",
      "source": [
        "# 0 : 육지, 1 : 바다\n",
        "matrix= []\n",
        "for _ in range(n):\n",
        "    row = list(map(int, input().split()))\n",
        "    matrix.append(row)"
      ],
      "metadata": {
        "id": "YNVlhG-gis-K",
        "colab": {
          "base_uri": "https://localhost:8080/"
        },
        "outputId": "5ef7b054-0551-45a6-f984-4f1e53c19241"
      },
      "execution_count": 8,
      "outputs": [
        {
          "name": "stdout",
          "output_type": "stream",
          "text": [
            "1 1 1 1\n",
            "1 0 0 1\n",
            "1 1 0 1\n",
            "1 1 1 1\n"
          ]
        }
      ]
    },
    {
      "cell_type": "code",
      "source": [
        "matrix[A][B]"
      ],
      "metadata": {
        "colab": {
          "base_uri": "https://localhost:8080/"
        },
        "id": "_TxI1aKJR_3i",
        "outputId": "5697750f-36db-49f3-a027-fcfef60096df"
      },
      "execution_count": 13,
      "outputs": [
        {
          "output_type": "execute_result",
          "data": {
            "text/plain": [
              "0"
            ]
          },
          "metadata": {},
          "execution_count": 13
        }
      ]
    },
    {
      "cell_type": "code",
      "source": [
        "# 뒤로 가는거 -> 방향 반대로 가는거\n",
        "back_move = {\n",
        "    0 : (1,0),\n",
        "    1 : (0,1),\n",
        "    2 : (-1,0),\n",
        "    3 : (0,-1)\n",
        "}"
      ],
      "metadata": {
        "id": "ldDaQ0FlUnD0"
      },
      "execution_count": 16,
      "outputs": []
    },
    {
      "cell_type": "code",
      "source": [
        "dx , dy = back_move[d]\n",
        "count = 0"
      ],
      "metadata": {
        "id": "cb-W4lP3R_wB"
      },
      "execution_count": 21,
      "outputs": []
    },
    {
      "cell_type": "code",
      "source": [
        "visited = [] # 이미 가본 곳 리스트 만들기"
      ],
      "metadata": {
        "id": "wJiFaKyhYgPp"
      },
      "execution_count": 22,
      "outputs": []
    },
    {
      "cell_type": "code",
      "source": [
        "while True:\n",
        "    for _ in range(4):\n",
        "        #왼쪽으로 회전\n",
        "        d = (d - 1) % 4\n",
        "        nx = A + dx[d]\n",
        "        ny = B + dy[d]\n",
        "        #앞에 칸이 육지이고 방문 안 했으면:\n",
        "        if matrix[nx][ny] == 0 and visited[nx][ny] == 0:\n",
        "            #이동, 방문 체크, count += 1\n",
        "            #다시 4방향 탐색 시작 (break)\n",
        "    else :\n",
        "        #뒤로 한 칸\n",
        "        #거기가 바다면 게임 종료"
      ],
      "metadata": {
        "id": "UTdVO5IGaOi9"
      },
      "execution_count": null,
      "outputs": []
    },
    {
      "cell_type": "code",
      "source": [
        "for _ in range(4):\n",
        "    # 왼쪽으로 회전\n",
        "    d = (d - 1) % 4\n",
        "    nx = A + dx[d]\n",
        "    ny = B + dy[d]\n",
        "\n",
        "    # 바다 and 이미 가본 곳\n",
        "    if matrix[nx][ny] == 0 and visited[nx][ny] == 0:\n",
        "        A, B = nx, ny\n",
        "        visited[nx][ny] = 1\n",
        "        count += 1\n",
        "        break  # 이동했으니까 다시 방향 탐색\n",
        "    else :\n",
        "      matrix[nx][ny]"
      ],
      "metadata": {
        "id": "Bcre_719X3Je"
      },
      "execution_count": null,
      "outputs": []
    },
    {
      "cell_type": "code",
      "source": [
        "# 맵 크기 입력\n",
        "n, m = map(int, input().split())\n",
        "\n",
        "# 현재 캐릭터의 위치와 방향 입력\n",
        "A, B, d = map(int, input().split())\n",
        "\n",
        "# 맵 정보 입력\n",
        "matrix = [list(map(int, input().split())) for _ in range(n)]\n",
        "\n",
        "# 방문 체크용 배열\n",
        "visited = [[0] * m for _ in range(n)]\n",
        "visited[A][B] = 1  # 시작 위치 방문\n",
        "\n",
        "# 방향: 북(0), 동(1), 남(2), 서(3)\n",
        "dx = [-1, 0, 1, 0]  # 행 이동\n",
        "dy = [0, 1, 0, -1]  # 열 이동\n",
        "\n",
        "# 방문한 칸 수\n",
        "count = 1\n",
        "turn_time = 0  # 방향 전환 횟수\n",
        "\n",
        "while True:\n",
        "    # 1. 왼쪽으로 회전\n",
        "    d = (d - 1) % 4\n",
        "    nx = A + dx[d]\n",
        "    ny = B + dy[d]\n",
        "\n",
        "    # 2. 안 가본 육지면 이동\n",
        "    if matrix[nx][ny] == 0 and visited[nx][ny] == 0:\n",
        "        A, B = nx, ny\n",
        "        visited[A][B] = 1\n",
        "        count += 1\n",
        "        turn_time = 0\n",
        "        continue\n",
        "    else:\n",
        "        turn_time += 1\n",
        "\n",
        "    # 3. 4방향 다 막혔을 때 → 뒤로 가기\n",
        "    if turn_time == 4:\n",
        "        nx = A - dx[d]\n",
        "        ny = B - dy[d]\n",
        "\n",
        "        # 뒤가 바다면 끝\n",
        "        if matrix[nx][ny] == 1:\n",
        "            break\n",
        "        else:\n",
        "            A, B = nx, ny\n",
        "            turn_time = 0\n",
        "\n",
        "print(count)\n"
      ],
      "metadata": {
        "id": "CuYfUKk9bl2q"
      },
      "execution_count": null,
      "outputs": []
    }
  ]
}